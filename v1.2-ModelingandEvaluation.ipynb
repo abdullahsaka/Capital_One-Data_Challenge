{
 "cells": [
  {
   "cell_type": "markdown",
   "metadata": {},
   "source": [
    "# CapitalOne Data Challenge - Modeling"
   ]
  },
  {
   "cell_type": "markdown",
   "metadata": {},
   "source": [
    "**I removed duplicates in a previous step (data processing) and imported the processed data by using pandas package.**"
   ]
  },
  {
   "cell_type": "code",
   "execution_count": 1,
   "metadata": {},
   "outputs": [],
   "source": [
    "#load package\n",
    "import pandas as pd\n",
    "import seaborn as sns\n",
    "import numpy as np\n",
    "import plotly.express as px\n",
    "import warnings\n",
    "import matplotlib.pyplot as plt\n",
    "from sklearn.model_selection import train_test_split\n",
    "from sklearn.ensemble import GradientBoostingClassifier\n",
    "from sklearn.metrics import accuracy_score,precision_score, recall_score, f1_score,confusion_matrix # Timestamp Data Import# Timestamp Data Import"
   ]
  },
  {
   "cell_type": "code",
   "execution_count": 9,
   "metadata": {},
   "outputs": [],
   "source": [
    "credit_transactions=pd.read_csv('~/Desktop/clean_data.csv') # import data"
   ]
  },
  {
   "cell_type": "code",
   "execution_count": 10,
   "metadata": {},
   "outputs": [
    {
     "data": {
      "text/plain": [
       "(730174, 16)"
      ]
     },
     "execution_count": 10,
     "metadata": {},
     "output_type": "execute_result"
    }
   ],
   "source": [
    "credit_transactions.shape # dimension of processed data"
   ]
  },
  {
   "cell_type": "code",
   "execution_count": 11,
   "metadata": {},
   "outputs": [
    {
     "data": {
      "text/html": [
       "<div>\n",
       "<style scoped>\n",
       "    .dataframe tbody tr th:only-of-type {\n",
       "        vertical-align: middle;\n",
       "    }\n",
       "\n",
       "    .dataframe tbody tr th {\n",
       "        vertical-align: top;\n",
       "    }\n",
       "\n",
       "    .dataframe thead th {\n",
       "        text-align: right;\n",
       "    }\n",
       "</style>\n",
       "<table border=\"1\" class=\"dataframe\">\n",
       "  <thead>\n",
       "    <tr style=\"text-align: right;\">\n",
       "      <th></th>\n",
       "      <th>customerId</th>\n",
       "      <th>merchantName</th>\n",
       "      <th>transactionAmount</th>\n",
       "      <th>transactionType</th>\n",
       "      <th>transactionKey</th>\n",
       "      <th>Timestamp</th>\n",
       "      <th>creditLimit</th>\n",
       "      <th>availableMoney</th>\n",
       "      <th>merchantCountryCode</th>\n",
       "      <th>posEntryMode</th>\n",
       "      <th>posConditionCode</th>\n",
       "      <th>merchantCategoryCode</th>\n",
       "      <th>currentBalance</th>\n",
       "      <th>cardPresent</th>\n",
       "      <th>expirationDateKeyInMatch</th>\n",
       "      <th>isFraud</th>\n",
       "    </tr>\n",
       "  </thead>\n",
       "  <tbody>\n",
       "    <tr>\n",
       "      <th>0</th>\n",
       "      <td>100088067</td>\n",
       "      <td>1st BBQ</td>\n",
       "      <td>200.12</td>\n",
       "      <td>PURCHASE</td>\n",
       "      <td>T541917</td>\n",
       "      <td>2016-04-08 19:56:36</td>\n",
       "      <td>50000</td>\n",
       "      <td>49953.81</td>\n",
       "      <td>US</td>\n",
       "      <td>9.0</td>\n",
       "      <td>1.0</td>\n",
       "      <td>food</td>\n",
       "      <td>46.19</td>\n",
       "      <td>True</td>\n",
       "      <td>False</td>\n",
       "      <td>False</td>\n",
       "    </tr>\n",
       "    <tr>\n",
       "      <th>1</th>\n",
       "      <td>100088067</td>\n",
       "      <td>1st Pub</td>\n",
       "      <td>95.11</td>\n",
       "      <td>PURCHASE</td>\n",
       "      <td>T541962</td>\n",
       "      <td>2016-11-09 07:26:06</td>\n",
       "      <td>50000</td>\n",
       "      <td>49929.31</td>\n",
       "      <td>US</td>\n",
       "      <td>2.0</td>\n",
       "      <td>1.0</td>\n",
       "      <td>food</td>\n",
       "      <td>70.69</td>\n",
       "      <td>True</td>\n",
       "      <td>False</td>\n",
       "      <td>False</td>\n",
       "    </tr>\n",
       "    <tr>\n",
       "      <th>2</th>\n",
       "      <td>100088067</td>\n",
       "      <td>1st Sandwitch Bar #758805</td>\n",
       "      <td>5.26</td>\n",
       "      <td>PURCHASE</td>\n",
       "      <td>T541920</td>\n",
       "      <td>2016-05-06 02:54:01</td>\n",
       "      <td>50000</td>\n",
       "      <td>49996.04</td>\n",
       "      <td>US</td>\n",
       "      <td>2.0</td>\n",
       "      <td>1.0</td>\n",
       "      <td>food</td>\n",
       "      <td>3.96</td>\n",
       "      <td>True</td>\n",
       "      <td>False</td>\n",
       "      <td>False</td>\n",
       "    </tr>\n",
       "  </tbody>\n",
       "</table>\n",
       "</div>"
      ],
      "text/plain": [
       "   customerId               merchantName  transactionAmount transactionType  \\\n",
       "0   100088067                    1st BBQ             200.12        PURCHASE   \n",
       "1   100088067                    1st Pub              95.11        PURCHASE   \n",
       "2   100088067  1st Sandwitch Bar #758805               5.26        PURCHASE   \n",
       "\n",
       "  transactionKey            Timestamp  creditLimit  availableMoney  \\\n",
       "0        T541917  2016-04-08 19:56:36        50000        49953.81   \n",
       "1        T541962  2016-11-09 07:26:06        50000        49929.31   \n",
       "2        T541920  2016-05-06 02:54:01        50000        49996.04   \n",
       "\n",
       "  merchantCountryCode  posEntryMode  posConditionCode merchantCategoryCode  \\\n",
       "0                  US           9.0               1.0                 food   \n",
       "1                  US           2.0               1.0                 food   \n",
       "2                  US           2.0               1.0                 food   \n",
       "\n",
       "   currentBalance  cardPresent  expirationDateKeyInMatch  isFraud  \n",
       "0           46.19         True                     False    False  \n",
       "1           70.69         True                     False    False  \n",
       "2            3.96         True                     False    False  "
      ]
     },
     "execution_count": 11,
     "metadata": {},
     "output_type": "execute_result"
    }
   ],
   "source": [
    "credit_transactions.head(3) # quickly check the dataframe"
   ]
  },
  {
   "cell_type": "markdown",
   "metadata": {},
   "source": [
    "-------"
   ]
  },
  {
   "cell_type": "markdown",
   "metadata": {},
   "source": [
    "# Exploration"
   ]
  },
  {
   "cell_type": "markdown",
   "metadata": {},
   "source": [
    "**I explored the distribution of transaction amounts across fraud vs non-fraud cases. It shows that median of fraudulent transactions is slightly higher than median of non-fraud transactions. When creating a categorical variable (high vs low), I defined threshold as $250.**"
   ]
  },
  {
   "cell_type": "code",
   "execution_count": 12,
   "metadata": {},
   "outputs": [
    {
     "data": {
      "text/plain": [
       "<matplotlib.axes._subplots.AxesSubplot at 0x1a1d54d590>"
      ]
     },
     "execution_count": 12,
     "metadata": {},
     "output_type": "execute_result"
    },
    {
     "data": {
      "image/png": "[encoded data removed]",
      "text/plain": [
       "<Figure size 1008x360 with 1 Axes>"
      ]
     },
     "metadata": {
      "needs_background": "light"
     },
     "output_type": "display_data"
    }
   ],
   "source": [
    "plt.figure(figsize=(14,5))\n",
    "plt.title('Distribution of Transaction Amounts (Fraud vs Non-Fraud)',weight='bold')\n",
    "sns.set()\n",
    "sns.boxplot(x='isFraud', y='transactionAmount', data=credit_transactions)"
   ]
  },
  {
   "cell_type": "markdown",
   "metadata": {},
   "source": [
    "------"
   ]
  },
  {
   "cell_type": "markdown",
   "metadata": {},
   "source": [
    "# Sampling"
   ]
  },
  {
   "cell_type": "markdown",
   "metadata": {},
   "source": [
    "**I applied under-sampling technique by applying stratified clustering approach to reduce dimensionality. In the dataset, there are 2040 customers who faced fraudulent cases. I firstly took all fraud observations from 2040 customers. Then, I took a sample (ratio=0.08) from non-fraud observations of the same customers. Lastly, I took a sample from customer who did not encounter any fraud cases in year 2016 to add noise.**"
   ]
  },
  {
   "cell_type": "code",
   "execution_count": 13,
   "metadata": {},
   "outputs": [],
   "source": [
    "df_minor=credit_transactions[credit_transactions.isFraud==True] # take only fraud observations"
   ]
  },
  {
   "cell_type": "code",
   "execution_count": 14,
   "metadata": {},
   "outputs": [
    {
     "data": {
      "text/plain": [
       "11710"
      ]
     },
     "execution_count": 14,
     "metadata": {},
     "output_type": "execute_result"
    }
   ],
   "source": [
    "len(df_minor) # There are 11710 fraud cases in the dataset"
   ]
  },
  {
   "cell_type": "code",
   "execution_count": 15,
   "metadata": {},
   "outputs": [
    {
     "data": {
      "text/plain": [
       "2040"
      ]
     },
     "execution_count": 15,
     "metadata": {},
     "output_type": "execute_result"
    }
   ],
   "source": [
    "df_minor.customerId.nunique() # 2040 unique customer have encountered fraudulent cases."
   ]
  },
  {
   "cell_type": "code",
   "execution_count": 16,
   "metadata": {},
   "outputs": [],
   "source": [
    "df_minor=df_minor.reset_index(drop=True) # reset index"
   ]
  },
  {
   "cell_type": "code",
   "execution_count": 17,
   "metadata": {},
   "outputs": [],
   "source": [
    "cust_list=df_minor.customerId.unique() # take a uniuq list of customers\n",
    "df_new_fraud=credit_transactions[credit_transactions.customerId.isin(cust_list)] # take non-fraud cases of 2040 customers\n",
    "df_new_fraud=df_new_fraud[df_new_fraud.isFraud==False] # remove fraud cases"
   ]
  },
  {
   "cell_type": "code",
   "execution_count": 18,
   "metadata": {},
   "outputs": [],
   "source": [
    "df_major_1=df_new_fraud.sample(frac=0.08,random_state=42) # take an sample from the dataset"
   ]
  },
  {
   "cell_type": "code",
   "execution_count": 19,
   "metadata": {},
   "outputs": [],
   "source": [
    "df_major_1=df_major_1.reset_index(drop=True) # reset index"
   ]
  },
  {
   "cell_type": "code",
   "execution_count": 20,
   "metadata": {},
   "outputs": [],
   "source": [
    "df_new_2=credit_transactions[~credit_transactions.transactionKey.isin(df_major_1.transactionKey)] # take transactions which \n",
    "df_new_2=df_new_2[df_new_2.isFraud==False] # take non-fraud cases\n",
    "df_major_2=df_new_2.sample(frac=0.025,random_state=42) # take an sample from the dataset"
   ]
  },
  {
   "cell_type": "code",
   "execution_count": 21,
   "metadata": {},
   "outputs": [],
   "source": [
    "df_major_2=df_major_2.reset_index(drop=True) # reset index"
   ]
  },
  {
   "cell_type": "code",
   "execution_count": 22,
   "metadata": {},
   "outputs": [],
   "source": [
    "df=pd.concat([df_major_1,df_major_2,df_minor],axis=0) # merge dataframes vertically\n",
    "df['ID'] = df.customerId.map(str) + \"-\" + df.merchantName"
   ]
  },
  {
   "cell_type": "code",
   "execution_count": 23,
   "metadata": {},
   "outputs": [
    {
     "data": {
      "text/plain": [
       "False    64085\n",
       "True     11710\n",
       "Name: isFraud, dtype: int64"
      ]
     },
     "execution_count": 23,
     "metadata": {},
     "output_type": "execute_result"
    }
   ],
   "source": [
    "df.isFraud.value_counts()"
   ]
  },
  {
   "cell_type": "code",
   "execution_count": 24,
   "metadata": {},
   "outputs": [
    {
     "data": {
      "text/plain": [
       "0.1545"
      ]
     },
     "execution_count": 24,
     "metadata": {},
     "output_type": "execute_result"
    }
   ],
   "source": [
    "round(11710/(11710+64085),4) # ratio of fraud cases to population"
   ]
  },
  {
   "cell_type": "code",
   "execution_count": 25,
   "metadata": {},
   "outputs": [
    {
     "data": {
      "text/plain": [
       "75795"
      ]
     },
     "execution_count": 25,
     "metadata": {},
     "output_type": "execute_result"
    }
   ],
   "source": [
    "11710+64085"
   ]
  },
  {
   "cell_type": "markdown",
   "metadata": {},
   "source": [
    "---"
   ]
  },
  {
   "cell_type": "markdown",
   "metadata": {},
   "source": [
    "# Standardization"
   ]
  },
  {
   "cell_type": "markdown",
   "metadata": {},
   "source": [
    "**I standardized transaction amounts for each customer by using their mean and stdev of transaction amounts in year 2016.**"
   ]
  },
  {
   "cell_type": "code",
   "execution_count": 33,
   "metadata": {},
   "outputs": [],
   "source": [
    "# apply z-score standardization\n",
    "def z_score(df):\n",
    "    # copy the dataframe\n",
    "    df_std = df.copy()\n",
    "    key=df_std['transactionKey']\n",
    "    df_std=df_std.drop(['transactionKey'],axis=1)\n",
    "    # apply the z-score method\n",
    "    if len(df_std)>=2:\n",
    "        for column in df_std.columns:\n",
    "            df_std[column] = (df_std[column] - df_std[column].mean()) / df_std[column].std()\n",
    "        df_std=pd.concat([df_std,key],axis=1)\n",
    "    else:\n",
    "        df_std=pd.concat([df_std,key],axis=1)\n",
    "        df_std.transactionAmount=0\n",
    "    return df_std"
   ]
  },
  {
   "cell_type": "code",
   "execution_count": 34,
   "metadata": {},
   "outputs": [],
   "source": [
    "# standardize for each customer\n",
    "df_standardized={}\n",
    "cst=[]\n",
    "key=[]\n",
    "for i in df.customerId.unique():\n",
    "    sample=df[df.customerId==i][['transactionAmount','transactionKey']]\n",
    "    process = z_score(sample)\n",
    "    df_standardized[i]=process\n",
    "    for k in range(len(sample)):\n",
    "        cst.append(i)"
   ]
  },
  {
   "cell_type": "code",
   "execution_count": 35,
   "metadata": {},
   "outputs": [],
   "source": [
    "nrow=len(df_standardized.keys())\n",
    "df_d=pd.DataFrame()\n",
    "for i in range(nrow):\n",
    "    df_inter=df_standardized[[*df_standardized.keys()][i]]\n",
    "    df_d=df_d.append(df_inter)\n",
    "df_d=df_d.reset_index(drop=True)"
   ]
  },
  {
   "cell_type": "code",
   "execution_count": 36,
   "metadata": {},
   "outputs": [],
   "source": [
    "customer=pd.DataFrame(cst)\n",
    "customer.columns=['customerId']"
   ]
  },
  {
   "cell_type": "code",
   "execution_count": 37,
   "metadata": {},
   "outputs": [],
   "source": [
    "combine=pd.concat([customer,df_d],axis=1)\n",
    "combine.drop(['customerId'],axis=1,inplace=True)\n",
    "combine.columns=['Amount_Std','transactionKey']"
   ]
  },
  {
   "cell_type": "code",
   "execution_count": 38,
   "metadata": {},
   "outputs": [
    {
     "data": {
      "text/html": [
       "<div>\n",
       "<style scoped>\n",
       "    .dataframe tbody tr th:only-of-type {\n",
       "        vertical-align: middle;\n",
       "    }\n",
       "\n",
       "    .dataframe tbody tr th {\n",
       "        vertical-align: top;\n",
       "    }\n",
       "\n",
       "    .dataframe thead th {\n",
       "        text-align: right;\n",
       "    }\n",
       "</style>\n",
       "<table border=\"1\" class=\"dataframe\">\n",
       "  <thead>\n",
       "    <tr style=\"text-align: right;\">\n",
       "      <th></th>\n",
       "      <th>customerId</th>\n",
       "      <th>merchantName</th>\n",
       "      <th>transactionAmount</th>\n",
       "      <th>transactionType</th>\n",
       "      <th>transactionKey</th>\n",
       "      <th>Timestamp</th>\n",
       "      <th>creditLimit</th>\n",
       "      <th>availableMoney</th>\n",
       "      <th>merchantCountryCode</th>\n",
       "      <th>posEntryMode</th>\n",
       "      <th>posConditionCode</th>\n",
       "      <th>merchantCategoryCode</th>\n",
       "      <th>currentBalance</th>\n",
       "      <th>cardPresent</th>\n",
       "      <th>expirationDateKeyInMatch</th>\n",
       "      <th>isFraud</th>\n",
       "      <th>ID</th>\n",
       "      <th>Amount_Std</th>\n",
       "    </tr>\n",
       "  </thead>\n",
       "  <tbody>\n",
       "    <tr>\n",
       "      <th>0</th>\n",
       "      <td>432609023</td>\n",
       "      <td>South Steakhouse #879581</td>\n",
       "      <td>202.09</td>\n",
       "      <td>PURCHASE</td>\n",
       "      <td>T287662</td>\n",
       "      <td>2016-03-11 00:07:16</td>\n",
       "      <td>5000</td>\n",
       "      <td>2734.79</td>\n",
       "      <td>US</td>\n",
       "      <td>5.0</td>\n",
       "      <td>1.0</td>\n",
       "      <td>food</td>\n",
       "      <td>2265.21</td>\n",
       "      <td>True</td>\n",
       "      <td>False</td>\n",
       "      <td>False</td>\n",
       "      <td>432609023-South Steakhouse #879581</td>\n",
       "      <td>0.185984</td>\n",
       "    </tr>\n",
       "    <tr>\n",
       "      <th>1</th>\n",
       "      <td>245632880</td>\n",
       "      <td>amazon.com</td>\n",
       "      <td>93.57</td>\n",
       "      <td>PURCHASE</td>\n",
       "      <td>T346070</td>\n",
       "      <td>2016-10-13 23:15:27</td>\n",
       "      <td>500</td>\n",
       "      <td>486.48</td>\n",
       "      <td>US</td>\n",
       "      <td>5.0</td>\n",
       "      <td>1.0</td>\n",
       "      <td>online_retail</td>\n",
       "      <td>13.52</td>\n",
       "      <td>False</td>\n",
       "      <td>False</td>\n",
       "      <td>False</td>\n",
       "      <td>245632880-amazon.com</td>\n",
       "      <td>-0.236448</td>\n",
       "    </tr>\n",
       "    <tr>\n",
       "      <th>2</th>\n",
       "      <td>852890707</td>\n",
       "      <td>Subway #257172</td>\n",
       "      <td>314.99</td>\n",
       "      <td>PURCHASE</td>\n",
       "      <td>T665204</td>\n",
       "      <td>2016-09-10 06:39:59</td>\n",
       "      <td>15000</td>\n",
       "      <td>13352.56</td>\n",
       "      <td>US</td>\n",
       "      <td>2.0</td>\n",
       "      <td>1.0</td>\n",
       "      <td>fastfood</td>\n",
       "      <td>1647.44</td>\n",
       "      <td>True</td>\n",
       "      <td>False</td>\n",
       "      <td>False</td>\n",
       "      <td>852890707-Subway #257172</td>\n",
       "      <td>0.705380</td>\n",
       "    </tr>\n",
       "  </tbody>\n",
       "</table>\n",
       "</div>"
      ],
      "text/plain": [
       "   customerId              merchantName  transactionAmount transactionType  \\\n",
       "0   432609023  South Steakhouse #879581             202.09        PURCHASE   \n",
       "1   245632880                amazon.com              93.57        PURCHASE   \n",
       "2   852890707            Subway #257172             314.99        PURCHASE   \n",
       "\n",
       "  transactionKey            Timestamp  creditLimit  availableMoney  \\\n",
       "0        T287662  2016-03-11 00:07:16         5000         2734.79   \n",
       "1        T346070  2016-10-13 23:15:27          500          486.48   \n",
       "2        T665204  2016-09-10 06:39:59        15000        13352.56   \n",
       "\n",
       "  merchantCountryCode  posEntryMode  posConditionCode merchantCategoryCode  \\\n",
       "0                  US           5.0               1.0                 food   \n",
       "1                  US           5.0               1.0        online_retail   \n",
       "2                  US           2.0               1.0             fastfood   \n",
       "\n",
       "   currentBalance  cardPresent  expirationDateKeyInMatch  isFraud  \\\n",
       "0         2265.21         True                     False    False   \n",
       "1           13.52        False                     False    False   \n",
       "2         1647.44         True                     False    False   \n",
       "\n",
       "                                   ID  Amount_Std  \n",
       "0  432609023-South Steakhouse #879581    0.185984  \n",
       "1                245632880-amazon.com   -0.236448  \n",
       "2            852890707-Subway #257172    0.705380  "
      ]
     },
     "execution_count": 38,
     "metadata": {},
     "output_type": "execute_result"
    }
   ],
   "source": [
    "data_std=df.merge(combine,how='inner',on='transactionKey')\n",
    "data_std.head(3)"
   ]
  },
  {
   "cell_type": "markdown",
   "metadata": {},
   "source": [
    "-----"
   ]
  },
  {
   "cell_type": "markdown",
   "metadata": {},
   "source": [
    "# Feature Engineering"
   ]
  },
  {
   "cell_type": "markdown",
   "metadata": {},
   "source": [
    "**Feature:MerchantCategoryCode**"
   ]
  },
  {
   "cell_type": "code",
   "execution_count": 39,
   "metadata": {},
   "outputs": [
    {
     "data": {
      "text/html": [
       "<div>\n",
       "<style scoped>\n",
       "    .dataframe tbody tr th:only-of-type {\n",
       "        vertical-align: middle;\n",
       "    }\n",
       "\n",
       "    .dataframe tbody tr th {\n",
       "        vertical-align: top;\n",
       "    }\n",
       "\n",
       "    .dataframe thead th {\n",
       "        text-align: right;\n",
       "    }\n",
       "</style>\n",
       "<table border=\"1\" class=\"dataframe\">\n",
       "  <thead>\n",
       "    <tr style=\"text-align: right;\">\n",
       "      <th></th>\n",
       "      <th>merchantCategoryCode</th>\n",
       "      <th>Fraud_Count</th>\n",
       "      <th>Total</th>\n",
       "      <th>Percent</th>\n",
       "    </tr>\n",
       "  </thead>\n",
       "  <tbody>\n",
       "    <tr>\n",
       "      <th>10</th>\n",
       "      <td>personal care</td>\n",
       "      <td>78</td>\n",
       "      <td>1516</td>\n",
       "      <td>0.051451</td>\n",
       "    </tr>\n",
       "    <tr>\n",
       "      <th>6</th>\n",
       "      <td>health</td>\n",
       "      <td>85</td>\n",
       "      <td>1623</td>\n",
       "      <td>0.052372</td>\n",
       "    </tr>\n",
       "    <tr>\n",
       "      <th>7</th>\n",
       "      <td>hotels</td>\n",
       "      <td>240</td>\n",
       "      <td>3145</td>\n",
       "      <td>0.076312</td>\n",
       "    </tr>\n",
       "    <tr>\n",
       "      <th>12</th>\n",
       "      <td>subscriptions</td>\n",
       "      <td>204</td>\n",
       "      <td>2104</td>\n",
       "      <td>0.096958</td>\n",
       "    </tr>\n",
       "  </tbody>\n",
       "</table>\n",
       "</div>"
      ],
      "text/plain": [
       "   merchantCategoryCode  Fraud_Count  Total   Percent\n",
       "10        personal care           78   1516  0.051451\n",
       "6                health           85   1623  0.052372\n",
       "7                hotels          240   3145  0.076312\n",
       "12        subscriptions          204   2104  0.096958"
      ]
     },
     "execution_count": 39,
     "metadata": {},
     "output_type": "execute_result"
    }
   ],
   "source": [
    "pos_groupby=pd.DataFrame(data_std.groupby(['merchantCategoryCode','isFraud']).count()['Timestamp']).reset_index()\n",
    "r=pos_groupby[pos_groupby.isFraud==True][['merchantCategoryCode','Timestamp']]\n",
    "r.columns=['merchantCategoryCode','Fraud_Count']\n",
    "t=pd.DataFrame(pos_groupby.groupby(['merchantCategoryCode']).sum()['Timestamp']).reset_index()\n",
    "t.columns=['merchantCategoryCode','Total']\n",
    "r=r.merge(t,on='merchantCategoryCode',how='inner')\n",
    "r['Percent']=r.Fraud_Count/r.Total\n",
    "r=r.sort_values(by=['Percent'],ascending=True)\n",
    "r.head(4)"
   ]
  },
  {
   "cell_type": "code",
   "execution_count": 40,
   "metadata": {},
   "outputs": [],
   "source": [
    "def categ_merchant(x):\n",
    "    if x in ['cable/phone','food_delivery','fuel','gym','mobileapps','online_subscriptions']:\n",
    "        return 0\n",
    "    elif x in ['online_gifts','online_retail','rideshare','airline']:\n",
    "        return 2\n",
    "    elif x in ['entertainment','auto','food','furniture']:\n",
    "        return 1\n",
    "    elif x in ['personal care','health','hotels','subscriptions','fastfood']:\n",
    "        return 0"
   ]
  },
  {
   "cell_type": "code",
   "execution_count": 41,
   "metadata": {},
   "outputs": [],
   "source": [
    "dummies_1=pd.DataFrame(data_std.merchantCategoryCode.apply(lambda x: categ_merchant(x)))\n",
    "dummies_1.columns=['Categ_merchant']"
   ]
  },
  {
   "cell_type": "markdown",
   "metadata": {},
   "source": [
    "----"
   ]
  },
  {
   "cell_type": "markdown",
   "metadata": {},
   "source": [
    "**Feature:expirationDateKeyInMatch**"
   ]
  },
  {
   "cell_type": "markdown",
   "metadata": {},
   "source": [
    "With backward selection approach, I removed this categorical variable after checking feature importance of tree based models."
   ]
  },
  {
   "cell_type": "code",
   "execution_count": 42,
   "metadata": {},
   "outputs": [],
   "source": [
    "#dummies_2 = pd.get_dummies(data_std.expirationDateKeyInMatch, prefix='KeyInMatch_')\n",
    "#dummies_2.head()"
   ]
  },
  {
   "cell_type": "markdown",
   "metadata": {},
   "source": [
    "----"
   ]
  },
  {
   "cell_type": "markdown",
   "metadata": {},
   "source": [
    "**Feature: cardPresent**"
   ]
  },
  {
   "cell_type": "code",
   "execution_count": 43,
   "metadata": {},
   "outputs": [
    {
     "data": {
      "text/html": [
       "<div>\n",
       "<style scoped>\n",
       "    .dataframe tbody tr th:only-of-type {\n",
       "        vertical-align: middle;\n",
       "    }\n",
       "\n",
       "    .dataframe tbody tr th {\n",
       "        vertical-align: top;\n",
       "    }\n",
       "\n",
       "    .dataframe thead th {\n",
       "        text-align: right;\n",
       "    }\n",
       "</style>\n",
       "<table border=\"1\" class=\"dataframe\">\n",
       "  <thead>\n",
       "    <tr style=\"text-align: right;\">\n",
       "      <th></th>\n",
       "      <th>crdPresent__False</th>\n",
       "      <th>crdPresent__True</th>\n",
       "    </tr>\n",
       "  </thead>\n",
       "  <tbody>\n",
       "    <tr>\n",
       "      <th>0</th>\n",
       "      <td>0</td>\n",
       "      <td>1</td>\n",
       "    </tr>\n",
       "    <tr>\n",
       "      <th>1</th>\n",
       "      <td>1</td>\n",
       "      <td>0</td>\n",
       "    </tr>\n",
       "    <tr>\n",
       "      <th>2</th>\n",
       "      <td>0</td>\n",
       "      <td>1</td>\n",
       "    </tr>\n",
       "    <tr>\n",
       "      <th>3</th>\n",
       "      <td>0</td>\n",
       "      <td>1</td>\n",
       "    </tr>\n",
       "    <tr>\n",
       "      <th>4</th>\n",
       "      <td>1</td>\n",
       "      <td>0</td>\n",
       "    </tr>\n",
       "  </tbody>\n",
       "</table>\n",
       "</div>"
      ],
      "text/plain": [
       "   crdPresent__False  crdPresent__True\n",
       "0                  0                 1\n",
       "1                  1                 0\n",
       "2                  0                 1\n",
       "3                  0                 1\n",
       "4                  1                 0"
      ]
     },
     "execution_count": 43,
     "metadata": {},
     "output_type": "execute_result"
    }
   ],
   "source": [
    "dummies_3 = pd.get_dummies(data_std.cardPresent, prefix='crdPresent_')\n",
    "dummies_3.head()"
   ]
  },
  {
   "cell_type": "markdown",
   "metadata": {},
   "source": [
    "---"
   ]
  },
  {
   "cell_type": "markdown",
   "metadata": {},
   "source": [
    "**Feature: CreditLimit**"
   ]
  },
  {
   "cell_type": "code",
   "execution_count": 44,
   "metadata": {},
   "outputs": [
    {
     "data": {
      "text/html": [
       "<div>\n",
       "<style scoped>\n",
       "    .dataframe tbody tr th:only-of-type {\n",
       "        vertical-align: middle;\n",
       "    }\n",
       "\n",
       "    .dataframe tbody tr th {\n",
       "        vertical-align: top;\n",
       "    }\n",
       "\n",
       "    .dataframe thead th {\n",
       "        text-align: right;\n",
       "    }\n",
       "</style>\n",
       "<table border=\"1\" class=\"dataframe\">\n",
       "  <thead>\n",
       "    <tr style=\"text-align: right;\">\n",
       "      <th></th>\n",
       "      <th>CredLimit__250</th>\n",
       "      <th>CredLimit__500</th>\n",
       "      <th>CredLimit__1000</th>\n",
       "      <th>CredLimit__2500</th>\n",
       "      <th>CredLimit__5000</th>\n",
       "      <th>CredLimit__7500</th>\n",
       "      <th>CredLimit__10000</th>\n",
       "      <th>CredLimit__15000</th>\n",
       "      <th>CredLimit__20000</th>\n",
       "      <th>CredLimit__50000</th>\n",
       "    </tr>\n",
       "  </thead>\n",
       "  <tbody>\n",
       "    <tr>\n",
       "      <th>0</th>\n",
       "      <td>0</td>\n",
       "      <td>0</td>\n",
       "      <td>0</td>\n",
       "      <td>0</td>\n",
       "      <td>1</td>\n",
       "      <td>0</td>\n",
       "      <td>0</td>\n",
       "      <td>0</td>\n",
       "      <td>0</td>\n",
       "      <td>0</td>\n",
       "    </tr>\n",
       "    <tr>\n",
       "      <th>1</th>\n",
       "      <td>0</td>\n",
       "      <td>1</td>\n",
       "      <td>0</td>\n",
       "      <td>0</td>\n",
       "      <td>0</td>\n",
       "      <td>0</td>\n",
       "      <td>0</td>\n",
       "      <td>0</td>\n",
       "      <td>0</td>\n",
       "      <td>0</td>\n",
       "    </tr>\n",
       "    <tr>\n",
       "      <th>2</th>\n",
       "      <td>0</td>\n",
       "      <td>0</td>\n",
       "      <td>0</td>\n",
       "      <td>0</td>\n",
       "      <td>0</td>\n",
       "      <td>0</td>\n",
       "      <td>0</td>\n",
       "      <td>1</td>\n",
       "      <td>0</td>\n",
       "      <td>0</td>\n",
       "    </tr>\n",
       "    <tr>\n",
       "      <th>3</th>\n",
       "      <td>0</td>\n",
       "      <td>0</td>\n",
       "      <td>0</td>\n",
       "      <td>0</td>\n",
       "      <td>0</td>\n",
       "      <td>0</td>\n",
       "      <td>0</td>\n",
       "      <td>1</td>\n",
       "      <td>0</td>\n",
       "      <td>0</td>\n",
       "    </tr>\n",
       "    <tr>\n",
       "      <th>4</th>\n",
       "      <td>0</td>\n",
       "      <td>0</td>\n",
       "      <td>0</td>\n",
       "      <td>0</td>\n",
       "      <td>0</td>\n",
       "      <td>0</td>\n",
       "      <td>1</td>\n",
       "      <td>0</td>\n",
       "      <td>0</td>\n",
       "      <td>0</td>\n",
       "    </tr>\n",
       "  </tbody>\n",
       "</table>\n",
       "</div>"
      ],
      "text/plain": [
       "   CredLimit__250  CredLimit__500  CredLimit__1000  CredLimit__2500  \\\n",
       "0               0               0                0                0   \n",
       "1               0               1                0                0   \n",
       "2               0               0                0                0   \n",
       "3               0               0                0                0   \n",
       "4               0               0                0                0   \n",
       "\n",
       "   CredLimit__5000  CredLimit__7500  CredLimit__10000  CredLimit__15000  \\\n",
       "0                1                0                 0                 0   \n",
       "1                0                0                 0                 0   \n",
       "2                0                0                 0                 1   \n",
       "3                0                0                 0                 1   \n",
       "4                0                0                 1                 0   \n",
       "\n",
       "   CredLimit__20000  CredLimit__50000  \n",
       "0                 0                 0  \n",
       "1                 0                 0  \n",
       "2                 0                 0  \n",
       "3                 0                 0  \n",
       "4                 0                 0  "
      ]
     },
     "execution_count": 44,
     "metadata": {},
     "output_type": "execute_result"
    }
   ],
   "source": [
    "dummies_4 = pd.get_dummies(data_std.creditLimit, prefix='CredLimit_')\n",
    "dummies_4.head()"
   ]
  },
  {
   "cell_type": "markdown",
   "metadata": {},
   "source": [
    "----"
   ]
  },
  {
   "cell_type": "markdown",
   "metadata": {},
   "source": [
    "**Feature: posEntryMode**"
   ]
  },
  {
   "cell_type": "markdown",
   "metadata": {},
   "source": [
    "**I checked \"posEntryMode\" by looking at percentage of fraud cases over population and then created categorical variables. For example, transactions whose posEntry is 9 are more likely to be fraudulent compared to transactions whose posEntry is 2 or 80 or 90 (medium likelihood).**"
   ]
  },
  {
   "cell_type": "code",
   "execution_count": 45,
   "metadata": {},
   "outputs": [
    {
     "data": {
      "text/html": [
       "<div>\n",
       "<style scoped>\n",
       "    .dataframe tbody tr th:only-of-type {\n",
       "        vertical-align: middle;\n",
       "    }\n",
       "\n",
       "    .dataframe tbody tr th {\n",
       "        vertical-align: top;\n",
       "    }\n",
       "\n",
       "    .dataframe thead th {\n",
       "        text-align: right;\n",
       "    }\n",
       "</style>\n",
       "<table border=\"1\" class=\"dataframe\">\n",
       "  <thead>\n",
       "    <tr style=\"text-align: right;\">\n",
       "      <th></th>\n",
       "      <th>posEntryMode</th>\n",
       "      <th>Fraud_Count</th>\n",
       "      <th>Total</th>\n",
       "      <th>Percent</th>\n",
       "    </tr>\n",
       "  </thead>\n",
       "  <tbody>\n",
       "    <tr>\n",
       "      <th>0</th>\n",
       "      <td>2.0</td>\n",
       "      <td>3253</td>\n",
       "      <td>19084</td>\n",
       "      <td>0.170457</td>\n",
       "    </tr>\n",
       "    <tr>\n",
       "      <th>1</th>\n",
       "      <td>5.0</td>\n",
       "      <td>2294</td>\n",
       "      <td>28403</td>\n",
       "      <td>0.080766</td>\n",
       "    </tr>\n",
       "    <tr>\n",
       "      <th>2</th>\n",
       "      <td>9.0</td>\n",
       "      <td>5341</td>\n",
       "      <td>24419</td>\n",
       "      <td>0.218723</td>\n",
       "    </tr>\n",
       "    <tr>\n",
       "      <th>3</th>\n",
       "      <td>80.0</td>\n",
       "      <td>217</td>\n",
       "      <td>1432</td>\n",
       "      <td>0.151536</td>\n",
       "    </tr>\n",
       "    <tr>\n",
       "      <th>4</th>\n",
       "      <td>90.0</td>\n",
       "      <td>348</td>\n",
       "      <td>1894</td>\n",
       "      <td>0.183738</td>\n",
       "    </tr>\n",
       "  </tbody>\n",
       "</table>\n",
       "</div>"
      ],
      "text/plain": [
       "   posEntryMode  Fraud_Count  Total   Percent\n",
       "0           2.0         3253  19084  0.170457\n",
       "1           5.0         2294  28403  0.080766\n",
       "2           9.0         5341  24419  0.218723\n",
       "3          80.0          217   1432  0.151536\n",
       "4          90.0          348   1894  0.183738"
      ]
     },
     "execution_count": 45,
     "metadata": {},
     "output_type": "execute_result"
    }
   ],
   "source": [
    "pos_groupby=pd.DataFrame(data_std.groupby(['posEntryMode','isFraud']).count()['Timestamp']).reset_index()\n",
    "r=pos_groupby[pos_groupby.isFraud==True][['posEntryMode','Timestamp']]\n",
    "r.columns=['posEntryMode','Fraud_Count']\n",
    "t=pd.DataFrame(pos_groupby.groupby(['posEntryMode']).sum()['Timestamp']).reset_index()\n",
    "t.columns=['posEntryMode','Total']\n",
    "r=r.merge(t,on='posEntryMode',how='inner')\n",
    "r['Percent']=r.Fraud_Count/r.Total\n",
    "r.head()"
   ]
  },
  {
   "cell_type": "code",
   "execution_count": 46,
   "metadata": {},
   "outputs": [],
   "source": [
    "def categ_pos(x):\n",
    "    if x==5:\n",
    "        return 0\n",
    "    elif x in [2,80,90]:\n",
    "        return 1\n",
    "    elif x==9:\n",
    "        return 2"
   ]
  },
  {
   "cell_type": "code",
   "execution_count": 47,
   "metadata": {},
   "outputs": [],
   "source": [
    "dummies_5=pd.DataFrame(data_std.posEntryMode.apply(lambda x: categ_pos(x)))\n",
    "dummies_5.columns=['Categ_posEntry']"
   ]
  },
  {
   "cell_type": "markdown",
   "metadata": {},
   "source": [
    "----"
   ]
  },
  {
   "cell_type": "markdown",
   "metadata": {},
   "source": [
    "**Feature: posConditionCode**"
   ]
  },
  {
   "cell_type": "code",
   "execution_count": 48,
   "metadata": {},
   "outputs": [],
   "source": [
    "def categ_posCon(x):\n",
    "    if x==8:\n",
    "        return 0\n",
    "    elif x==1:\n",
    "        return 1\n",
    "    elif x==99:\n",
    "        return 2"
   ]
  },
  {
   "cell_type": "code",
   "execution_count": 49,
   "metadata": {},
   "outputs": [
    {
     "data": {
      "text/html": [
       "<div>\n",
       "<style scoped>\n",
       "    .dataframe tbody tr th:only-of-type {\n",
       "        vertical-align: middle;\n",
       "    }\n",
       "\n",
       "    .dataframe tbody tr th {\n",
       "        vertical-align: top;\n",
       "    }\n",
       "\n",
       "    .dataframe thead th {\n",
       "        text-align: right;\n",
       "    }\n",
       "</style>\n",
       "<table border=\"1\" class=\"dataframe\">\n",
       "  <thead>\n",
       "    <tr style=\"text-align: right;\">\n",
       "      <th></th>\n",
       "      <th>posConditionCode</th>\n",
       "      <th>Fraud_Count</th>\n",
       "      <th>Total</th>\n",
       "      <th>Percent</th>\n",
       "    </tr>\n",
       "  </thead>\n",
       "  <tbody>\n",
       "    <tr>\n",
       "      <th>0</th>\n",
       "      <td>1.0</td>\n",
       "      <td>9671</td>\n",
       "      <td>60904</td>\n",
       "      <td>0.158791</td>\n",
       "    </tr>\n",
       "    <tr>\n",
       "      <th>1</th>\n",
       "      <td>8.0</td>\n",
       "      <td>1807</td>\n",
       "      <td>14016</td>\n",
       "      <td>0.128924</td>\n",
       "    </tr>\n",
       "    <tr>\n",
       "      <th>2</th>\n",
       "      <td>99.0</td>\n",
       "      <td>212</td>\n",
       "      <td>820</td>\n",
       "      <td>0.258537</td>\n",
       "    </tr>\n",
       "  </tbody>\n",
       "</table>\n",
       "</div>"
      ],
      "text/plain": [
       "   posConditionCode  Fraud_Count  Total   Percent\n",
       "0               1.0         9671  60904  0.158791\n",
       "1               8.0         1807  14016  0.128924\n",
       "2              99.0          212    820  0.258537"
      ]
     },
     "execution_count": 49,
     "metadata": {},
     "output_type": "execute_result"
    }
   ],
   "source": [
    "pos_groupby=pd.DataFrame(data_std.groupby(['posConditionCode','isFraud']).count()['Timestamp']).reset_index()\n",
    "r=pos_groupby[pos_groupby.isFraud==True][['posConditionCode','Timestamp']]\n",
    "r.columns=['posConditionCode','Fraud_Count']\n",
    "t=pd.DataFrame(pos_groupby.groupby(['posConditionCode']).sum()['Timestamp']).reset_index()\n",
    "t.columns=['posConditionCode','Total']\n",
    "r=r.merge(t,on='posConditionCode',how='inner')\n",
    "r['Percent']=r.Fraud_Count/r.Total\n",
    "r.head()"
   ]
  },
  {
   "cell_type": "code",
   "execution_count": 50,
   "metadata": {},
   "outputs": [],
   "source": [
    "dummies_6=pd.DataFrame(data_std.posConditionCode.apply(lambda x: categ_posCon(x)))\n",
    "dummies_6.columns=['Categ_posCon']"
   ]
  },
  {
   "cell_type": "markdown",
   "metadata": {},
   "source": [
    "----"
   ]
  },
  {
   "cell_type": "markdown",
   "metadata": {},
   "source": [
    "# Data Acquisition"
   ]
  },
  {
   "cell_type": "markdown",
   "metadata": {},
   "source": [
    "**I combined all new features into one dataframe before splitting data.**"
   ]
  },
  {
   "cell_type": "code",
   "execution_count": 51,
   "metadata": {},
   "outputs": [],
   "source": [
    "data_std['Categ_Transac']=data_std.transactionAmount.apply(lambda x: 1 if x>250 else 0) # create categorical variable"
   ]
  },
  {
   "cell_type": "code",
   "execution_count": 52,
   "metadata": {},
   "outputs": [],
   "source": [
    "numeric=data_std[['Amount_Std','Categ_Transac']] # take a subset from dataset\n",
    "Fraud=data_std[['isFraud']].apply(lambda x: x.astype(int)) # convert boolean variable as 1 or 0"
   ]
  },
  {
   "cell_type": "code",
   "execution_count": 53,
   "metadata": {},
   "outputs": [],
   "source": [
    "df_processed=pd.concat([numeric,dummies_1,dummies_3,dummies_4,dummies_5,dummies_6,Fraud],axis=1) # merge all dataframes vertically"
   ]
  },
  {
   "cell_type": "code",
   "execution_count": 54,
   "metadata": {},
   "outputs": [],
   "source": [
    "df_processed=df_processed[ [ col for col in df_processed.columns if col != 'isFraud' ] + ['isFraud'] ] # place dependent variable as last"
   ]
  },
  {
   "cell_type": "code",
   "execution_count": 55,
   "metadata": {},
   "outputs": [
    {
     "data": {
      "text/html": [
       "<div>\n",
       "<style scoped>\n",
       "    .dataframe tbody tr th:only-of-type {\n",
       "        vertical-align: middle;\n",
       "    }\n",
       "\n",
       "    .dataframe tbody tr th {\n",
       "        vertical-align: top;\n",
       "    }\n",
       "\n",
       "    .dataframe thead th {\n",
       "        text-align: right;\n",
       "    }\n",
       "</style>\n",
       "<table border=\"1\" class=\"dataframe\">\n",
       "  <thead>\n",
       "    <tr style=\"text-align: right;\">\n",
       "      <th></th>\n",
       "      <th>Amount_Std</th>\n",
       "      <th>Categ_Transac</th>\n",
       "      <th>Categ_merchant</th>\n",
       "      <th>crdPresent__False</th>\n",
       "      <th>crdPresent__True</th>\n",
       "      <th>CredLimit__250</th>\n",
       "      <th>CredLimit__500</th>\n",
       "      <th>CredLimit__1000</th>\n",
       "      <th>CredLimit__2500</th>\n",
       "      <th>CredLimit__5000</th>\n",
       "      <th>CredLimit__7500</th>\n",
       "      <th>CredLimit__10000</th>\n",
       "      <th>CredLimit__15000</th>\n",
       "      <th>CredLimit__20000</th>\n",
       "      <th>CredLimit__50000</th>\n",
       "      <th>Categ_posEntry</th>\n",
       "      <th>Categ_posCon</th>\n",
       "      <th>isFraud</th>\n",
       "    </tr>\n",
       "  </thead>\n",
       "  <tbody>\n",
       "    <tr>\n",
       "      <th>0</th>\n",
       "      <td>0.185984</td>\n",
       "      <td>0</td>\n",
       "      <td>1</td>\n",
       "      <td>0</td>\n",
       "      <td>1</td>\n",
       "      <td>0</td>\n",
       "      <td>0</td>\n",
       "      <td>0</td>\n",
       "      <td>0</td>\n",
       "      <td>1</td>\n",
       "      <td>0</td>\n",
       "      <td>0</td>\n",
       "      <td>0</td>\n",
       "      <td>0</td>\n",
       "      <td>0</td>\n",
       "      <td>0.0</td>\n",
       "      <td>1.0</td>\n",
       "      <td>0</td>\n",
       "    </tr>\n",
       "    <tr>\n",
       "      <th>1</th>\n",
       "      <td>-0.236448</td>\n",
       "      <td>0</td>\n",
       "      <td>2</td>\n",
       "      <td>1</td>\n",
       "      <td>0</td>\n",
       "      <td>0</td>\n",
       "      <td>1</td>\n",
       "      <td>0</td>\n",
       "      <td>0</td>\n",
       "      <td>0</td>\n",
       "      <td>0</td>\n",
       "      <td>0</td>\n",
       "      <td>0</td>\n",
       "      <td>0</td>\n",
       "      <td>0</td>\n",
       "      <td>0.0</td>\n",
       "      <td>1.0</td>\n",
       "      <td>0</td>\n",
       "    </tr>\n",
       "    <tr>\n",
       "      <th>2</th>\n",
       "      <td>0.705380</td>\n",
       "      <td>1</td>\n",
       "      <td>0</td>\n",
       "      <td>0</td>\n",
       "      <td>1</td>\n",
       "      <td>0</td>\n",
       "      <td>0</td>\n",
       "      <td>0</td>\n",
       "      <td>0</td>\n",
       "      <td>0</td>\n",
       "      <td>0</td>\n",
       "      <td>0</td>\n",
       "      <td>1</td>\n",
       "      <td>0</td>\n",
       "      <td>0</td>\n",
       "      <td>1.0</td>\n",
       "      <td>1.0</td>\n",
       "      <td>0</td>\n",
       "    </tr>\n",
       "  </tbody>\n",
       "</table>\n",
       "</div>"
      ],
      "text/plain": [
       "   Amount_Std  Categ_Transac  Categ_merchant  crdPresent__False  \\\n",
       "0    0.185984              0               1                  0   \n",
       "1   -0.236448              0               2                  1   \n",
       "2    0.705380              1               0                  0   \n",
       "\n",
       "   crdPresent__True  CredLimit__250  CredLimit__500  CredLimit__1000  \\\n",
       "0                 1               0               0                0   \n",
       "1                 0               0               1                0   \n",
       "2                 1               0               0                0   \n",
       "\n",
       "   CredLimit__2500  CredLimit__5000  CredLimit__7500  CredLimit__10000  \\\n",
       "0                0                1                0                 0   \n",
       "1                0                0                0                 0   \n",
       "2                0                0                0                 0   \n",
       "\n",
       "   CredLimit__15000  CredLimit__20000  CredLimit__50000  Categ_posEntry  \\\n",
       "0                 0                 0                 0             0.0   \n",
       "1                 0                 0                 0             0.0   \n",
       "2                 1                 0                 0             1.0   \n",
       "\n",
       "   Categ_posCon  isFraud  \n",
       "0           1.0        0  \n",
       "1           1.0        0  \n",
       "2           1.0        0  "
      ]
     },
     "execution_count": 55,
     "metadata": {},
     "output_type": "execute_result"
    }
   ],
   "source": [
    "pd.set_option('display.max_columns', None) # pandas setting\n",
    "df_processed.head(3)"
   ]
  },
  {
   "cell_type": "code",
   "execution_count": 56,
   "metadata": {},
   "outputs": [],
   "source": [
    "df_processed.Categ_posEntry=df_processed.Categ_posEntry.fillna(0) # fill NA values with 0\n",
    "df_processed.Categ_posCon=df_processed.Categ_posCon.fillna(0) # fill NA values with 0"
   ]
  },
  {
   "cell_type": "markdown",
   "metadata": {},
   "source": [
    "---"
   ]
  },
  {
   "cell_type": "markdown",
   "metadata": {},
   "source": [
    "# Train and Test Split"
   ]
  },
  {
   "cell_type": "markdown",
   "metadata": {},
   "source": [
    "**I splitted the processsed dataset into train and test data at the ratio of 70:30 to avoid overfitting.**"
   ]
  },
  {
   "cell_type": "code",
   "execution_count": 57,
   "metadata": {},
   "outputs": [],
   "source": [
    "def train_test_data(df):\n",
    "    q=df.shape[1]\n",
    "    X=df.iloc[:,1:(q-1)]\n",
    "    y=df.iloc[:,(q-1)]\n",
    "    X_train, X_valid, y_train, y_valid = train_test_split(X, y, test_size=0.30, random_state=42)\n",
    "    return X_train, X_valid, y_train, y_valid"
   ]
  },
  {
   "cell_type": "code",
   "execution_count": 58,
   "metadata": {},
   "outputs": [],
   "source": [
    "# split the data by using train_test_data function\n",
    "X_train, X_valid, y_train, y_valid = train_test_data(df_processed)"
   ]
  },
  {
   "cell_type": "code",
   "execution_count": 59,
   "metadata": {},
   "outputs": [
    {
     "data": {
      "text/plain": [
       "8275"
      ]
     },
     "execution_count": 59,
     "metadata": {},
     "output_type": "execute_result"
    }
   ],
   "source": [
    "y_train.sum() # fraud cases in train data"
   ]
  },
  {
   "cell_type": "code",
   "execution_count": 60,
   "metadata": {},
   "outputs": [
    {
     "data": {
      "text/plain": [
       "3435"
      ]
     },
     "execution_count": 60,
     "metadata": {},
     "output_type": "execute_result"
    }
   ],
   "source": [
    "y_valid.sum() # fraud cases in test data"
   ]
  },
  {
   "cell_type": "markdown",
   "metadata": {},
   "source": [
    "----"
   ]
  },
  {
   "cell_type": "markdown",
   "metadata": {},
   "source": [
    "# 1. Random Forest with Randomized Search"
   ]
  },
  {
   "cell_type": "markdown",
   "metadata": {},
   "source": [
    "**I started with Random Forest algorithm and also applied Randomized search in order to optimize hyperparameters.**"
   ]
  },
  {
   "cell_type": "code",
   "execution_count": 1093,
   "metadata": {},
   "outputs": [],
   "source": [
    "from sklearn.model_selection import RandomizedSearchCV # import package"
   ]
  },
  {
   "cell_type": "code",
   "execution_count": 1094,
   "metadata": {},
   "outputs": [],
   "source": [
    "# hyperparameters\n",
    "model_params = {'n_estimators':range(650,850,50),\n",
    "    'max_depth': range(8,14),\n",
    "    'min_samples_split':range(12,20)}"
   ]
  },
  {
   "cell_type": "code",
   "execution_count": 1112,
   "metadata": {},
   "outputs": [
    {
     "data": {
      "text/plain": [
       "RandomForestClassifier(bootstrap=True, ccp_alpha=0.0, class_weight=None,\n",
       "                       criterion='gini', max_depth=13, max_features='auto',\n",
       "                       max_leaf_nodes=None, max_samples=None,\n",
       "                       min_impurity_decrease=0.0, min_impurity_split=None,\n",
       "                       min_samples_leaf=1, min_samples_split=5,\n",
       "                       min_weight_fraction_leaf=0.0, n_estimators=700,\n",
       "                       n_jobs=None, oob_score=False, random_state=None,\n",
       "                       verbose=0, warm_start=False)"
      ]
     },
     "execution_count": 1112,
     "metadata": {},
     "output_type": "execute_result"
    }
   ],
   "source": [
    "# create random forest classifier model\n",
    "rf_model = RandomForestClassifier()\n",
    "\n",
    "# set up random search meta-estimator\n",
    "# this will train 50 models over 4 folds of cross validation (200 models total)\n",
    "clf = RandomizedSearchCV(rf_model, model_params, n_iter=50, cv=4, scoring='f1',random_state=43)\n",
    "\n",
    "# train the random search meta-estimator to find the best model out of 100 candidates\n",
    "model = clf.fit(X_train, y_train)\n",
    "\n",
    "model.best_estimator_"
   ]
  },
  {
   "cell_type": "markdown",
   "metadata": {},
   "source": [
    "**I ran the random forest model with best estimators defined in the previous step**."
   ]
  },
  {
   "cell_type": "code",
   "execution_count": 62,
   "metadata": {},
   "outputs": [],
   "source": [
    "from sklearn.ensemble import RandomForestClassifier"
   ]
  },
  {
   "cell_type": "code",
   "execution_count": 63,
   "metadata": {},
   "outputs": [],
   "source": [
    "clf=RandomForestClassifier(bootstrap=True, ccp_alpha=0.0, class_weight=None,\n",
    "                       criterion='gini', max_depth=13, max_features='auto',\n",
    "                       max_leaf_nodes=None, max_samples=None,\n",
    "                       min_impurity_decrease=0.0, min_impurity_split=None,\n",
    "                       min_samples_leaf=1, min_samples_split=5,\n",
    "                       min_weight_fraction_leaf=0.0, n_estimators=700,\n",
    "                       n_jobs=None, oob_score=False, random_state=None,\n",
    "                       verbose=0, warm_start=False)\n",
    "\n",
    "#Train the model using the training sets y_pred=clf.predict(X_test)\n",
    "clf.fit(X_train,y_train)\n",
    "\n",
    "y_pred=clf.predict(X_valid)"
   ]
  },
  {
   "cell_type": "code",
   "execution_count": 64,
   "metadata": {},
   "outputs": [],
   "source": [
    "#clf.get_params()"
   ]
  },
  {
   "cell_type": "code",
   "execution_count": 65,
   "metadata": {},
   "outputs": [
    {
     "data": {
      "text/plain": [
       "(array([0.5, 1.5]), <a list of 2 Text yticklabel objects>)"
      ]
     },
     "execution_count": 65,
     "metadata": {},
     "output_type": "execute_result"
    },
    {
     "data": {
      "image/png": "[encoded data removed]",
      "text/plain": [
       "<Figure size 432x288 with 2 Axes>"
      ]
     },
     "metadata": {},
     "output_type": "display_data"
    }
   ],
   "source": [
    "# visualize confusion matrix with seaborn heatmap\n",
    "CM=confusion_matrix(y_valid, y_pred)\n",
    "\n",
    "cm_matrix = pd.DataFrame(data=CM, columns=['Predict Positive:0', 'Predict Negative:1'], index=['Actual Positive:0', 'Actual Negative:1'])\n",
    "sns.heatmap(cm_matrix, annot=True, fmt='d', cmap='RdYlGn')\n",
    "plt.yticks(rotation=30)"
   ]
  },
  {
   "cell_type": "code",
   "execution_count": 66,
   "metadata": {},
   "outputs": [
    {
     "name": "stdout",
     "output_type": "stream",
     "text": [
      "Accuracy: 0.8484\n"
     ]
    }
   ],
   "source": [
    "# Model Accuracy, how often is the classifier correct?\n",
    "print(\"Accuracy:\",round(accuracy_score(y_valid, y_pred),4))"
   ]
  },
  {
   "cell_type": "code",
   "execution_count": 67,
   "metadata": {},
   "outputs": [
    {
     "name": "stdout",
     "output_type": "stream",
     "text": [
      "Precision Score: 0.4882\n"
     ]
    }
   ],
   "source": [
    "# Precision score on the test data\n",
    "print(\"Precision Score:\",round(precision_score(y_valid, y_pred),4))"
   ]
  },
  {
   "cell_type": "code",
   "execution_count": 69,
   "metadata": {},
   "outputs": [
    {
     "name": "stdout",
     "output_type": "stream",
     "text": [
      "F-1 Score: 0.1262\n"
     ]
    }
   ],
   "source": [
    "# Precision score on the test data\n",
    "print(\"F-1 Score:\",round(f1_score(y_valid, y_pred),4))"
   ]
  },
  {
   "cell_type": "markdown",
   "metadata": {},
   "source": [
    "**Feature Importance: I checked the feature importances of Random Forest model by using Gini Index. \"Categ_merchant\", \"Categ_posEntry\" and \"Categ_Transac\" played much more significant role than others in classifiying fraudulent cases.**"
   ]
  },
  {
   "cell_type": "code",
   "execution_count": 1128,
   "metadata": {},
   "outputs": [],
   "source": [
    "def plot_feature_importance(importance,names,model_type):\n",
    "\n",
    "    #Create arrays from feature importance and feature names\n",
    "    feature_importance = np.array(importance)\n",
    "    feature_names = np.array(names)\n",
    "\n",
    "    #Create a DataFrame using a Dictionary\n",
    "    data={'feature_names':feature_names,'feature_importance':feature_importance}\n",
    "    fi_df = pd.DataFrame(data)\n",
    "\n",
    "    #Sort the DataFrame in order decreasing feature importance\n",
    "    fi_df.sort_values(by=['feature_importance'], ascending=False,inplace=True)\n",
    "\n",
    "    #Define size of bar plot\n",
    "    plt.figure(figsize=(18,9))\n",
    "    #Plot Searborn bar chart\n",
    "    sns.barplot(x=fi_df['feature_importance'], y=fi_df['feature_names'])\n",
    "    #Add chart labels\n",
    "    plt.title(model_type + \" \" +'Feature Importance',weight='bold')\n",
    "    plt.xlabel('Feature Importance')\n",
    "    plt.ylabel('Feature Names')"
   ]
  },
  {
   "cell_type": "code",
   "execution_count": 1129,
   "metadata": {},
   "outputs": [
    {
     "data": {
      "image/png": "[encoded data removed]",
      "text/plain": [
       "<Figure size 1296x648 with 1 Axes>"
      ]
     },
     "metadata": {},
     "output_type": "display_data"
    }
   ],
   "source": [
    "plot_feature_importance(clf.feature_importances_,X_train.columns,'Random Forest')"
   ]
  },
  {
   "cell_type": "markdown",
   "metadata": {},
   "source": [
    "---"
   ]
  },
  {
   "cell_type": "markdown",
   "metadata": {},
   "source": [
    "# 2. Gradient Boosting"
   ]
  },
  {
   "cell_type": "markdown",
   "metadata": {},
   "source": [
    "**Secondly, I executed Gradient Boosting model to classify fraud cases.**"
   ]
  },
  {
   "cell_type": "code",
   "execution_count": 70,
   "metadata": {},
   "outputs": [],
   "source": [
    "# define Gradient Boosting model\n",
    "clf = GradientBoostingClassifier(n_estimators=800, \n",
    "                                 learning_rate=0.01,\n",
    "                                 max_depth=6, \n",
    "                                 random_state=5).fit(X_train, y_train)"
   ]
  },
  {
   "cell_type": "code",
   "execution_count": 71,
   "metadata": {},
   "outputs": [],
   "source": [
    "# take predictions on the test data\n",
    "predictions = clf.predict(X_valid)"
   ]
  },
  {
   "cell_type": "code",
   "execution_count": 72,
   "metadata": {},
   "outputs": [
    {
     "data": {
      "text/plain": [
       "(array([0.5, 1.5]), <a list of 2 Text yticklabel objects>)"
      ]
     },
     "execution_count": 72,
     "metadata": {},
     "output_type": "execute_result"
    },
    {
     "data": {
      "image/png": "[encoded data removed]",
      "text/plain": [
       "<Figure size 432x288 with 2 Axes>"
      ]
     },
     "metadata": {},
     "output_type": "display_data"
    }
   ],
   "source": [
    "# visualize confusion matrix with seaborn heatmap\n",
    "CM_grb=confusion_matrix(y_valid, predictions)\n",
    "\n",
    "cm_matr = pd.DataFrame(data=CM_grb, columns=['Predict Positive:0', 'Predict Negative:1'], index=['Actual Positive:0', 'Actual Negative:1'])\n",
    "sns.heatmap(cm_matr, annot=True, fmt='d', cmap='RdYlGn')\n",
    "plt.yticks(rotation=30)"
   ]
  },
  {
   "cell_type": "code",
   "execution_count": 73,
   "metadata": {},
   "outputs": [
    {
     "name": "stdout",
     "output_type": "stream",
     "text": [
      "Accuracy: 0.8487\n"
     ]
    }
   ],
   "source": [
    "# Model Accuracy, how often is the classifier correct?\n",
    "print(\"Accuracy:\",round(accuracy_score(y_valid, predictions),4))"
   ]
  },
  {
   "cell_type": "code",
   "execution_count": 74,
   "metadata": {},
   "outputs": [
    {
     "name": "stdout",
     "output_type": "stream",
     "text": [
      "Precision Score: 0.495\n"
     ]
    }
   ],
   "source": [
    "# Precision Score on the test data\n",
    "print(\"Precision Score:\",round(precision_score(y_valid, predictions),4))"
   ]
  },
  {
   "cell_type": "code",
   "execution_count": 75,
   "metadata": {},
   "outputs": [
    {
     "name": "stdout",
     "output_type": "stream",
     "text": [
      "F-1 Score: 0.1265\n"
     ]
    }
   ],
   "source": [
    "# Precision Score on the test data\n",
    "print(\"F-1 Score:\",round(f1_score(y_valid, predictions),4))"
   ]
  },
  {
   "cell_type": "markdown",
   "metadata": {},
   "source": [
    "-------"
   ]
  },
  {
   "cell_type": "markdown",
   "metadata": {},
   "source": [
    "# 3. Extreme Gradient Boosting with Grid Search"
   ]
  },
  {
   "cell_type": "markdown",
   "metadata": {},
   "source": [
    "**I applied extreme gradient boosting with grid search tecnhique. This helped me tuning hyper-parameters such as max_depth, n_estimators and learning rate.**"
   ]
  },
  {
   "cell_type": "code",
   "execution_count": 77,
   "metadata": {},
   "outputs": [],
   "source": [
    "import xgboost as xgb\n",
    "from xgboost import XGBClassifier\n",
    "from sklearn.model_selection import GridSearchCV"
   ]
  },
  {
   "cell_type": "code",
   "execution_count": 1066,
   "metadata": {},
   "outputs": [],
   "source": [
    "estimator = xgb.XGBClassifier(\n",
    "    objective= 'binary:logistic',\n",
    "    nthread=4,\n",
    "    seed=123\n",
    ")"
   ]
  },
  {
   "cell_type": "code",
   "execution_count": 1067,
   "metadata": {},
   "outputs": [],
   "source": [
    "parameters=  { 'max_depth': range (5, 11,4),\n",
    "    'n_estimators': range(800, 1000, 50),\n",
    "    'learning_rate': [0.1, 0.01, 0.001]}"
   ]
  },
  {
   "cell_type": "code",
   "execution_count": 1071,
   "metadata": {},
   "outputs": [],
   "source": [
    "grid_search = GridSearchCV(\n",
    "    estimator=estimator,\n",
    "    param_grid=parameters,\n",
    "    scoring='f1',\n",
    "    n_jobs = 10,\n",
    "    cv = 4,\n",
    "    verbose=True\n",
    ")"
   ]
  },
  {
   "cell_type": "code",
   "execution_count": 1074,
   "metadata": {},
   "outputs": [
    {
     "name": "stdout",
     "output_type": "stream",
     "text": [
      "Fitting 4 folds for each of 24 candidates, totalling 96 fits\n"
     ]
    },
    {
     "name": "stderr",
     "output_type": "stream",
     "text": [
      "[Parallel(n_jobs=10)]: Using backend LokyBackend with 10 concurrent workers.\n",
      "[Parallel(n_jobs=10)]: Done  30 tasks      | elapsed: 16.2min\n",
      "[Parallel(n_jobs=10)]: Done  96 out of  96 | elapsed: 51.9min finished\n"
     ]
    },
    {
     "data": {
      "text/plain": [
       "GridSearchCV(cv=4, error_score=nan,\n",
       "             estimator=XGBClassifier(base_score=0.5, booster='gbtree',\n",
       "                                     colsample_bylevel=1, colsample_bynode=1,\n",
       "                                     colsample_bytree=1, gamma=0,\n",
       "                                     learning_rate=0.1, max_delta_step=0,\n",
       "                                     max_depth=3, min_child_weight=1,\n",
       "                                     missing=None, n_estimators=100, n_jobs=1,\n",
       "                                     nthread=4, objective='binary:logistic',\n",
       "                                     random_state=0, reg_alpha=0, reg_lambda=1,\n",
       "                                     scale_pos_weight=1, seed=123, silent=None,\n",
       "                                     subsample=1, verbosity=1),\n",
       "             iid='deprecated', n_jobs=10,\n",
       "             param_grid={'learning_rate': [0.1, 0.01, 0.001],\n",
       "                         'max_depth': range(5, 11, 4),\n",
       "                         'n_estimators': range(800, 1000, 50)},\n",
       "             pre_dispatch='2*n_jobs', refit=True, return_train_score=False,\n",
       "             scoring='f1', verbose=True)"
      ]
     },
     "execution_count": 1074,
     "metadata": {},
     "output_type": "execute_result"
    }
   ],
   "source": [
    "grid_search.fit(X_train, y_train)"
   ]
  },
  {
   "cell_type": "code",
   "execution_count": 1075,
   "metadata": {},
   "outputs": [
    {
     "data": {
      "text/plain": [
       "XGBClassifier(base_score=0.5, booster='gbtree', colsample_bylevel=1,\n",
       "              colsample_bynode=1, colsample_bytree=1, gamma=0,\n",
       "              learning_rate=0.001, max_delta_step=0, max_depth=5,\n",
       "              min_child_weight=1, missing=None, n_estimators=800, n_jobs=1,\n",
       "              nthread=4, objective='binary:logistic', random_state=0,\n",
       "              reg_alpha=0, reg_lambda=1, scale_pos_weight=1, seed=123,\n",
       "              silent=None, subsample=1, verbosity=1)"
      ]
     },
     "execution_count": 1075,
     "metadata": {},
     "output_type": "execute_result"
    }
   ],
   "source": [
    "grid_search.best_estimator_"
   ]
  },
  {
   "cell_type": "markdown",
   "metadata": {},
   "source": [
    "**After performing Grid Search, I selected best estimators and applied on the dataset.**"
   ]
  },
  {
   "cell_type": "code",
   "execution_count": 78,
   "metadata": {},
   "outputs": [],
   "source": [
    "xgb_cl = xgb.XGBClassifier(base_score=0.5, booster='gbtree', colsample_bylevel=1,\n",
    "              colsample_bynode=1, colsample_bytree=1, gamma=0,\n",
    "              learning_rate=0.001, max_delta_step=0, max_depth=5,\n",
    "              min_child_weight=1, missing=None, n_estimators=800, n_jobs=1,\n",
    "              nthread=4, objective='binary:logistic', random_state=0,\n",
    "              reg_alpha=0, reg_lambda=1, scale_pos_weight=1, seed=123,\n",
    "              silent=None, subsample=1, verbosity=1)"
   ]
  },
  {
   "cell_type": "code",
   "execution_count": 79,
   "metadata": {},
   "outputs": [],
   "source": [
    "#Fit the model\n",
    "xgb_cl.fit(X_train,y_train)\n",
    "\n",
    "#Predict the model\n",
    "preds = xgb_cl.predict(X_valid)"
   ]
  },
  {
   "cell_type": "code",
   "execution_count": 80,
   "metadata": {},
   "outputs": [
    {
     "data": {
      "text/plain": [
       "(array([0.5, 1.5]), <a list of 2 Text yticklabel objects>)"
      ]
     },
     "execution_count": 80,
     "metadata": {},
     "output_type": "execute_result"
    },
    {
     "data": {
      "image/png": "[encoded data removed]",
      "text/plain": [
       "<Figure size 432x288 with 2 Axes>"
      ]
     },
     "metadata": {},
     "output_type": "display_data"
    }
   ],
   "source": [
    "# visualize confusion matrix with seaborn heatmap\n",
    "CM_xgb=confusion_matrix(y_valid, preds)\n",
    "\n",
    "cm_matr = pd.DataFrame(data=CM_xgb, columns=['Predict Positive:0', 'Predict Negative:1'], index=['Actual Positive:0', 'Actual Negative:1'])\n",
    "sns.heatmap(cm_matr, annot=True, fmt='d', cmap='RdYlGn')\n",
    "plt.yticks(rotation=30)"
   ]
  },
  {
   "cell_type": "code",
   "execution_count": 81,
   "metadata": {},
   "outputs": [
    {
     "name": "stdout",
     "output_type": "stream",
     "text": [
      "Accuracy: 0.8482\n"
     ]
    }
   ],
   "source": [
    "# check precision rate score on validation data\n",
    "print(\"Accuracy:\",round(accuracy_score(y_valid, preds),4)) "
   ]
  },
  {
   "cell_type": "code",
   "execution_count": 82,
   "metadata": {},
   "outputs": [
    {
     "name": "stdout",
     "output_type": "stream",
     "text": [
      "Precision Score: 0.4894\n"
     ]
    }
   ],
   "source": [
    "# check precision rate score on validation data\n",
    "print(\"Precision Score:\",round(precision_score(y_valid, preds),4)) "
   ]
  },
  {
   "cell_type": "code",
   "execution_count": 83,
   "metadata": {},
   "outputs": [
    {
     "name": "stdout",
     "output_type": "stream",
     "text": [
      "F-1 Score: 0.1758\n"
     ]
    }
   ],
   "source": [
    "# check precision rate score on validation data\n",
    "print(\"F-1 Score:\",round(f1_score(y_valid, preds),4)) "
   ]
  },
  {
   "cell_type": "code",
   "execution_count": 1148,
   "metadata": {},
   "outputs": [
    {
     "data": {
      "text/plain": [
       "Text(0.5, 0, 'Xgboost Feature Importance')"
      ]
     },
     "execution_count": 1148,
     "metadata": {},
     "output_type": "execute_result"
    },
    {
     "data": {
      "image/png": "[encoded data removed]",
      "text/plain": [
       "<Figure size 1008x576 with 1 Axes>"
      ]
     },
     "metadata": {},
     "output_type": "display_data"
    }
   ],
   "source": [
    "plt.figure(figsize=(14,8))\n",
    "plt.title('Feature Importance - Extreme Gradient Boosting',weight='bold')\n",
    "sns.set()\n",
    "sorted_idx = xgb_cl.feature_importances_.argsort()\n",
    "plt.barh(X_train.columns[sorted_idx], xgb_cl.feature_importances_[sorted_idx])\n",
    "plt.xlabel(\"Xgboost Feature Importance\")"
   ]
  },
  {
   "cell_type": "markdown",
   "metadata": {},
   "source": [
    "--------"
   ]
  }
 ],
 "metadata": {
  "kernelspec": {
   "display_name": "Python 3",
   "language": "python",
   "name": "python3"
  },
  "language_info": {
   "codemirror_mode": {
    "name": "ipython",
    "version": 3
   },
   "file_extension": ".py",
   "mimetype": "text/x-python",
   "name": "python",
   "nbconvert_exporter": "python",
   "pygments_lexer": "ipython3",
   "version": "3.7.6"
  }
 },
 "nbformat": 4,
 "nbformat_minor": 4
}
