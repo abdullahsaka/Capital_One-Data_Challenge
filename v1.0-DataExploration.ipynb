{
 "cells": [
  {
   "cell_type": "markdown",
   "metadata": {},
   "source": [
    "# CapitalOne Data Challenge - Data Exploration"
   ]
  },
  {
   "cell_type": "markdown",
   "metadata": {},
   "source": [
    "**Firstly, I loaded required packages, then imported the dataset by using pandas package. Before importing, I changed Null values to NaN in '.txt' file since Python does not convert Null values as NaN.**"
   ]
  },
  {
   "cell_type": "code",
   "execution_count": 1,
   "metadata": {},
   "outputs": [],
   "source": [
    "#load package\n",
    "import pandas as pd\n",
    "import seaborn as sns\n",
    "import numpy as np\n",
    "import matplotlib.pyplot as plt"
   ]
  },
  {
   "cell_type": "code",
   "execution_count": 2,
   "metadata": {},
   "outputs": [],
   "source": [
    "file_path= './Desktop/DS-master/cardtransactions.txt' # path of the file"
   ]
  },
  {
   "cell_type": "code",
   "execution_count": 3,
   "metadata": {},
   "outputs": [],
   "source": [
    "#create import function\n",
    "def import_data(path):\n",
    "    dfList = []\n",
    "    df=pd.DataFrame()\n",
    "    for iot_chunk in pd.read_json(file_path, lines=True,chunksize=100000) :\n",
    "        dfList.append(iot_chunk)\n",
    "    df = pd.concat(dfList,sort=False)\n",
    "    return df"
   ]
  },
  {
   "cell_type": "code",
   "execution_count": 4,
   "metadata": {},
   "outputs": [
    {
     "data": {
      "text/html": [
       "<div>\n",
       "<style scoped>\n",
       "    .dataframe tbody tr th:only-of-type {\n",
       "        vertical-align: middle;\n",
       "    }\n",
       "\n",
       "    .dataframe tbody tr th {\n",
       "        vertical-align: top;\n",
       "    }\n",
       "\n",
       "    .dataframe thead th {\n",
       "        text-align: right;\n",
       "    }\n",
       "</style>\n",
       "<table border=\"1\" class=\"dataframe\">\n",
       "  <thead>\n",
       "    <tr style=\"text-align: right;\">\n",
       "      <th></th>\n",
       "      <th>accountNumber</th>\n",
       "      <th>customerId</th>\n",
       "      <th>creditLimit</th>\n",
       "      <th>availableMoney</th>\n",
       "      <th>transactionDateTime</th>\n",
       "      <th>transactionAmount</th>\n",
       "      <th>merchantName</th>\n",
       "      <th>acqCountry</th>\n",
       "      <th>merchantCountryCode</th>\n",
       "      <th>posEntryMode</th>\n",
       "      <th>posConditionCode</th>\n",
       "      <th>merchantCategoryCode</th>\n",
       "      <th>currentExpDate</th>\n",
       "      <th>accountOpenDate</th>\n",
       "      <th>dateOfLastAddressChange</th>\n",
       "      <th>cardCVV</th>\n",
       "      <th>enteredCVV</th>\n",
       "      <th>cardLast4Digits</th>\n",
       "      <th>transactionType</th>\n",
       "      <th>echoBuffer</th>\n",
       "      <th>currentBalance</th>\n",
       "      <th>merchantCity</th>\n",
       "      <th>merchantState</th>\n",
       "      <th>merchantZip</th>\n",
       "      <th>cardPresent</th>\n",
       "      <th>posOnPremises</th>\n",
       "      <th>recurringAuthInd</th>\n",
       "      <th>expirationDateKeyInMatch</th>\n",
       "      <th>isFraud</th>\n",
       "    </tr>\n",
       "  </thead>\n",
       "  <tbody>\n",
       "    <tr>\n",
       "      <th>0</th>\n",
       "      <td>737265056</td>\n",
       "      <td>737265056</td>\n",
       "      <td>5000</td>\n",
       "      <td>5000.0</td>\n",
       "      <td>2016-08-13T14:27:32</td>\n",
       "      <td>98.55</td>\n",
       "      <td>Uber</td>\n",
       "      <td>US</td>\n",
       "      <td>US</td>\n",
       "      <td>2.0</td>\n",
       "      <td>1.0</td>\n",
       "      <td>rideshare</td>\n",
       "      <td>06/2023</td>\n",
       "      <td>2015-03-14</td>\n",
       "      <td>2015-03-14</td>\n",
       "      <td>414</td>\n",
       "      <td>414</td>\n",
       "      <td>1803</td>\n",
       "      <td>PURCHASE</td>\n",
       "      <td>NaN</td>\n",
       "      <td>0.0</td>\n",
       "      <td>NaN</td>\n",
       "      <td>NaN</td>\n",
       "      <td>NaN</td>\n",
       "      <td>False</td>\n",
       "      <td>NaN</td>\n",
       "      <td>NaN</td>\n",
       "      <td>False</td>\n",
       "      <td>False</td>\n",
       "    </tr>\n",
       "    <tr>\n",
       "      <th>1</th>\n",
       "      <td>737265056</td>\n",
       "      <td>737265056</td>\n",
       "      <td>5000</td>\n",
       "      <td>5000.0</td>\n",
       "      <td>2016-10-11T05:05:54</td>\n",
       "      <td>74.51</td>\n",
       "      <td>AMC #191138</td>\n",
       "      <td>US</td>\n",
       "      <td>US</td>\n",
       "      <td>9.0</td>\n",
       "      <td>1.0</td>\n",
       "      <td>entertainment</td>\n",
       "      <td>02/2024</td>\n",
       "      <td>2015-03-14</td>\n",
       "      <td>2015-03-14</td>\n",
       "      <td>486</td>\n",
       "      <td>486</td>\n",
       "      <td>767</td>\n",
       "      <td>PURCHASE</td>\n",
       "      <td>NaN</td>\n",
       "      <td>0.0</td>\n",
       "      <td>NaN</td>\n",
       "      <td>NaN</td>\n",
       "      <td>NaN</td>\n",
       "      <td>True</td>\n",
       "      <td>NaN</td>\n",
       "      <td>NaN</td>\n",
       "      <td>False</td>\n",
       "      <td>False</td>\n",
       "    </tr>\n",
       "    <tr>\n",
       "      <th>2</th>\n",
       "      <td>737265056</td>\n",
       "      <td>737265056</td>\n",
       "      <td>5000</td>\n",
       "      <td>5000.0</td>\n",
       "      <td>2016-11-08T09:18:39</td>\n",
       "      <td>7.47</td>\n",
       "      <td>Play Store</td>\n",
       "      <td>US</td>\n",
       "      <td>US</td>\n",
       "      <td>9.0</td>\n",
       "      <td>1.0</td>\n",
       "      <td>mobileapps</td>\n",
       "      <td>08/2025</td>\n",
       "      <td>2015-03-14</td>\n",
       "      <td>2015-03-14</td>\n",
       "      <td>486</td>\n",
       "      <td>486</td>\n",
       "      <td>767</td>\n",
       "      <td>PURCHASE</td>\n",
       "      <td>NaN</td>\n",
       "      <td>0.0</td>\n",
       "      <td>NaN</td>\n",
       "      <td>NaN</td>\n",
       "      <td>NaN</td>\n",
       "      <td>False</td>\n",
       "      <td>NaN</td>\n",
       "      <td>NaN</td>\n",
       "      <td>False</td>\n",
       "      <td>False</td>\n",
       "    </tr>\n",
       "  </tbody>\n",
       "</table>\n",
       "</div>"
      ],
      "text/plain": [
       "   accountNumber  customerId  creditLimit  availableMoney  \\\n",
       "0      737265056   737265056         5000          5000.0   \n",
       "1      737265056   737265056         5000          5000.0   \n",
       "2      737265056   737265056         5000          5000.0   \n",
       "\n",
       "   transactionDateTime  transactionAmount merchantName acqCountry  \\\n",
       "0  2016-08-13T14:27:32              98.55         Uber         US   \n",
       "1  2016-10-11T05:05:54              74.51  AMC #191138         US   \n",
       "2  2016-11-08T09:18:39               7.47   Play Store         US   \n",
       "\n",
       "  merchantCountryCode  posEntryMode  posConditionCode merchantCategoryCode  \\\n",
       "0                  US           2.0               1.0            rideshare   \n",
       "1                  US           9.0               1.0        entertainment   \n",
       "2                  US           9.0               1.0           mobileapps   \n",
       "\n",
       "  currentExpDate accountOpenDate dateOfLastAddressChange  cardCVV  enteredCVV  \\\n",
       "0        06/2023      2015-03-14              2015-03-14      414         414   \n",
       "1        02/2024      2015-03-14              2015-03-14      486         486   \n",
       "2        08/2025      2015-03-14              2015-03-14      486         486   \n",
       "\n",
       "   cardLast4Digits transactionType  echoBuffer  currentBalance  merchantCity  \\\n",
       "0             1803        PURCHASE         NaN             0.0           NaN   \n",
       "1              767        PURCHASE         NaN             0.0           NaN   \n",
       "2              767        PURCHASE         NaN             0.0           NaN   \n",
       "\n",
       "   merchantState  merchantZip  cardPresent  posOnPremises  recurringAuthInd  \\\n",
       "0            NaN          NaN        False            NaN               NaN   \n",
       "1            NaN          NaN         True            NaN               NaN   \n",
       "2            NaN          NaN        False            NaN               NaN   \n",
       "\n",
       "   expirationDateKeyInMatch  isFraud  \n",
       "0                     False    False  \n",
       "1                     False    False  \n",
       "2                     False    False  "
      ]
     },
     "execution_count": 4,
     "metadata": {},
     "output_type": "execute_result"
    }
   ],
   "source": [
    "pd.set_option('display.max_columns', None) # pandas setting\n",
    "transactions=import_data(file_path)\n",
    "transactions.head(3)"
   ]
  },
  {
   "cell_type": "markdown",
   "metadata": {},
   "source": [
    "**Dimension of the dataset is 786363 x 29.**"
   ]
  },
  {
   "cell_type": "code",
   "execution_count": 5,
   "metadata": {},
   "outputs": [
    {
     "name": "stdout",
     "output_type": "stream",
     "text": [
      "Dataset Dimensions: 786363 x 29\n"
     ]
    }
   ],
   "source": [
    "print(\"Dataset Dimensions: {} x {}\".format(transactions.shape[0], transactions.shape[1])) # size of the dataset"
   ]
  },
  {
   "cell_type": "code",
   "execution_count": 6,
   "metadata": {},
   "outputs": [
    {
     "data": {
      "text/html": [
       "<div>\n",
       "<style scoped>\n",
       "    .dataframe tbody tr th:only-of-type {\n",
       "        vertical-align: middle;\n",
       "    }\n",
       "\n",
       "    .dataframe tbody tr th {\n",
       "        vertical-align: top;\n",
       "    }\n",
       "\n",
       "    .dataframe thead th {\n",
       "        text-align: right;\n",
       "    }\n",
       "</style>\n",
       "<table border=\"1\" class=\"dataframe\">\n",
       "  <thead>\n",
       "    <tr style=\"text-align: right;\">\n",
       "      <th></th>\n",
       "      <th>accountNumber</th>\n",
       "      <th>customerId</th>\n",
       "      <th>creditLimit</th>\n",
       "      <th>availableMoney</th>\n",
       "      <th>transactionAmount</th>\n",
       "      <th>posEntryMode</th>\n",
       "      <th>posConditionCode</th>\n",
       "      <th>cardCVV</th>\n",
       "      <th>enteredCVV</th>\n",
       "      <th>cardLast4Digits</th>\n",
       "      <th>echoBuffer</th>\n",
       "      <th>currentBalance</th>\n",
       "      <th>merchantCity</th>\n",
       "      <th>merchantState</th>\n",
       "      <th>merchantZip</th>\n",
       "      <th>posOnPremises</th>\n",
       "      <th>recurringAuthInd</th>\n",
       "    </tr>\n",
       "  </thead>\n",
       "  <tbody>\n",
       "    <tr>\n",
       "      <th>count</th>\n",
       "      <td>7.863630e+05</td>\n",
       "      <td>7.863630e+05</td>\n",
       "      <td>786363.000000</td>\n",
       "      <td>786363.000000</td>\n",
       "      <td>786363.000000</td>\n",
       "      <td>782309.000000</td>\n",
       "      <td>785954.000000</td>\n",
       "      <td>786363.000000</td>\n",
       "      <td>786363.000000</td>\n",
       "      <td>786363.000000</td>\n",
       "      <td>0.0</td>\n",
       "      <td>786363.000000</td>\n",
       "      <td>0.0</td>\n",
       "      <td>0.0</td>\n",
       "      <td>0.0</td>\n",
       "      <td>0.0</td>\n",
       "      <td>0.0</td>\n",
       "    </tr>\n",
       "    <tr>\n",
       "      <th>mean</th>\n",
       "      <td>5.372326e+08</td>\n",
       "      <td>5.372326e+08</td>\n",
       "      <td>10759.464459</td>\n",
       "      <td>6250.725369</td>\n",
       "      <td>136.985791</td>\n",
       "      <td>9.049943</td>\n",
       "      <td>3.271980</td>\n",
       "      <td>544.467338</td>\n",
       "      <td>544.183857</td>\n",
       "      <td>4757.417799</td>\n",
       "      <td>NaN</td>\n",
       "      <td>4508.739089</td>\n",
       "      <td>NaN</td>\n",
       "      <td>NaN</td>\n",
       "      <td>NaN</td>\n",
       "      <td>NaN</td>\n",
       "      <td>NaN</td>\n",
       "    </tr>\n",
       "    <tr>\n",
       "      <th>std</th>\n",
       "      <td>2.554211e+08</td>\n",
       "      <td>2.554211e+08</td>\n",
       "      <td>11636.174890</td>\n",
       "      <td>8880.783989</td>\n",
       "      <td>147.725569</td>\n",
       "      <td>16.774130</td>\n",
       "      <td>9.809023</td>\n",
       "      <td>261.524220</td>\n",
       "      <td>261.551254</td>\n",
       "      <td>2996.583810</td>\n",
       "      <td>NaN</td>\n",
       "      <td>6457.442068</td>\n",
       "      <td>NaN</td>\n",
       "      <td>NaN</td>\n",
       "      <td>NaN</td>\n",
       "      <td>NaN</td>\n",
       "      <td>NaN</td>\n",
       "    </tr>\n",
       "    <tr>\n",
       "      <th>min</th>\n",
       "      <td>1.000881e+08</td>\n",
       "      <td>1.000881e+08</td>\n",
       "      <td>250.000000</td>\n",
       "      <td>-1005.630000</td>\n",
       "      <td>0.000000</td>\n",
       "      <td>2.000000</td>\n",
       "      <td>1.000000</td>\n",
       "      <td>100.000000</td>\n",
       "      <td>0.000000</td>\n",
       "      <td>0.000000</td>\n",
       "      <td>NaN</td>\n",
       "      <td>0.000000</td>\n",
       "      <td>NaN</td>\n",
       "      <td>NaN</td>\n",
       "      <td>NaN</td>\n",
       "      <td>NaN</td>\n",
       "      <td>NaN</td>\n",
       "    </tr>\n",
       "    <tr>\n",
       "      <th>25%</th>\n",
       "      <td>3.301333e+08</td>\n",
       "      <td>3.301333e+08</td>\n",
       "      <td>5000.000000</td>\n",
       "      <td>1077.420000</td>\n",
       "      <td>33.650000</td>\n",
       "      <td>2.000000</td>\n",
       "      <td>1.000000</td>\n",
       "      <td>310.000000</td>\n",
       "      <td>310.000000</td>\n",
       "      <td>2178.000000</td>\n",
       "      <td>NaN</td>\n",
       "      <td>689.910000</td>\n",
       "      <td>NaN</td>\n",
       "      <td>NaN</td>\n",
       "      <td>NaN</td>\n",
       "      <td>NaN</td>\n",
       "      <td>NaN</td>\n",
       "    </tr>\n",
       "    <tr>\n",
       "      <th>50%</th>\n",
       "      <td>5.074561e+08</td>\n",
       "      <td>5.074561e+08</td>\n",
       "      <td>7500.000000</td>\n",
       "      <td>3184.860000</td>\n",
       "      <td>87.900000</td>\n",
       "      <td>5.000000</td>\n",
       "      <td>1.000000</td>\n",
       "      <td>535.000000</td>\n",
       "      <td>535.000000</td>\n",
       "      <td>4733.000000</td>\n",
       "      <td>NaN</td>\n",
       "      <td>2451.760000</td>\n",
       "      <td>NaN</td>\n",
       "      <td>NaN</td>\n",
       "      <td>NaN</td>\n",
       "      <td>NaN</td>\n",
       "      <td>NaN</td>\n",
       "    </tr>\n",
       "    <tr>\n",
       "      <th>75%</th>\n",
       "      <td>7.676200e+08</td>\n",
       "      <td>7.676200e+08</td>\n",
       "      <td>15000.000000</td>\n",
       "      <td>7500.000000</td>\n",
       "      <td>191.480000</td>\n",
       "      <td>9.000000</td>\n",
       "      <td>1.000000</td>\n",
       "      <td>785.000000</td>\n",
       "      <td>785.000000</td>\n",
       "      <td>7338.000000</td>\n",
       "      <td>NaN</td>\n",
       "      <td>5291.095000</td>\n",
       "      <td>NaN</td>\n",
       "      <td>NaN</td>\n",
       "      <td>NaN</td>\n",
       "      <td>NaN</td>\n",
       "      <td>NaN</td>\n",
       "    </tr>\n",
       "    <tr>\n",
       "      <th>max</th>\n",
       "      <td>9.993896e+08</td>\n",
       "      <td>9.993896e+08</td>\n",
       "      <td>50000.000000</td>\n",
       "      <td>50000.000000</td>\n",
       "      <td>2011.540000</td>\n",
       "      <td>90.000000</td>\n",
       "      <td>99.000000</td>\n",
       "      <td>998.000000</td>\n",
       "      <td>998.000000</td>\n",
       "      <td>9998.000000</td>\n",
       "      <td>NaN</td>\n",
       "      <td>47498.810000</td>\n",
       "      <td>NaN</td>\n",
       "      <td>NaN</td>\n",
       "      <td>NaN</td>\n",
       "      <td>NaN</td>\n",
       "      <td>NaN</td>\n",
       "    </tr>\n",
       "  </tbody>\n",
       "</table>\n",
       "</div>"
      ],
      "text/plain": [
       "       accountNumber    customerId    creditLimit  availableMoney  \\\n",
       "count   7.863630e+05  7.863630e+05  786363.000000   786363.000000   \n",
       "mean    5.372326e+08  5.372326e+08   10759.464459     6250.725369   \n",
       "std     2.554211e+08  2.554211e+08   11636.174890     8880.783989   \n",
       "min     1.000881e+08  1.000881e+08     250.000000    -1005.630000   \n",
       "25%     3.301333e+08  3.301333e+08    5000.000000     1077.420000   \n",
       "50%     5.074561e+08  5.074561e+08    7500.000000     3184.860000   \n",
       "75%     7.676200e+08  7.676200e+08   15000.000000     7500.000000   \n",
       "max     9.993896e+08  9.993896e+08   50000.000000    50000.000000   \n",
       "\n",
       "       transactionAmount   posEntryMode  posConditionCode        cardCVV  \\\n",
       "count      786363.000000  782309.000000     785954.000000  786363.000000   \n",
       "mean          136.985791       9.049943          3.271980     544.467338   \n",
       "std           147.725569      16.774130          9.809023     261.524220   \n",
       "min             0.000000       2.000000          1.000000     100.000000   \n",
       "25%            33.650000       2.000000          1.000000     310.000000   \n",
       "50%            87.900000       5.000000          1.000000     535.000000   \n",
       "75%           191.480000       9.000000          1.000000     785.000000   \n",
       "max          2011.540000      90.000000         99.000000     998.000000   \n",
       "\n",
       "          enteredCVV  cardLast4Digits  echoBuffer  currentBalance  \\\n",
       "count  786363.000000    786363.000000         0.0   786363.000000   \n",
       "mean      544.183857      4757.417799         NaN     4508.739089   \n",
       "std       261.551254      2996.583810         NaN     6457.442068   \n",
       "min         0.000000         0.000000         NaN        0.000000   \n",
       "25%       310.000000      2178.000000         NaN      689.910000   \n",
       "50%       535.000000      4733.000000         NaN     2451.760000   \n",
       "75%       785.000000      7338.000000         NaN     5291.095000   \n",
       "max       998.000000      9998.000000         NaN    47498.810000   \n",
       "\n",
       "       merchantCity  merchantState  merchantZip  posOnPremises  \\\n",
       "count           0.0            0.0          0.0            0.0   \n",
       "mean            NaN            NaN          NaN            NaN   \n",
       "std             NaN            NaN          NaN            NaN   \n",
       "min             NaN            NaN          NaN            NaN   \n",
       "25%             NaN            NaN          NaN            NaN   \n",
       "50%             NaN            NaN          NaN            NaN   \n",
       "75%             NaN            NaN          NaN            NaN   \n",
       "max             NaN            NaN          NaN            NaN   \n",
       "\n",
       "       recurringAuthInd  \n",
       "count               0.0  \n",
       "mean                NaN  \n",
       "std                 NaN  \n",
       "min                 NaN  \n",
       "25%                 NaN  \n",
       "50%                 NaN  \n",
       "75%                 NaN  \n",
       "max                 NaN  "
      ]
     },
     "execution_count": 6,
     "metadata": {},
     "output_type": "execute_result"
    }
   ],
   "source": [
    "transactions.describe() # Descriptive statistics of the features in the dataset"
   ]
  },
  {
   "cell_type": "code",
   "execution_count": 7,
   "metadata": {},
   "outputs": [
    {
     "data": {
      "text/plain": [
       "array(['accountNumber', 'customerId', 'creditLimit', 'availableMoney',\n",
       "       'transactionDateTime', 'transactionAmount', 'merchantName',\n",
       "       'acqCountry', 'merchantCountryCode', 'posEntryMode',\n",
       "       'posConditionCode', 'merchantCategoryCode', 'currentExpDate',\n",
       "       'accountOpenDate', 'dateOfLastAddressChange', 'cardCVV',\n",
       "       'enteredCVV', 'cardLast4Digits', 'transactionType', 'echoBuffer',\n",
       "       'currentBalance', 'merchantCity', 'merchantState', 'merchantZip',\n",
       "       'cardPresent', 'posOnPremises', 'recurringAuthInd',\n",
       "       'expirationDateKeyInMatch', 'isFraud'], dtype=object)"
      ]
     },
     "execution_count": 7,
     "metadata": {},
     "output_type": "execute_result"
    }
   ],
   "source": [
    "np.array(transactions.columns) # Columns names as list"
   ]
  },
  {
   "cell_type": "markdown",
   "metadata": {},
   "source": [
    "**There are 29 features in the dataset (6 of them are Null) and their data types are as follows:**\n",
    "\n",
    "   **Timestamp: 4 columns,**\n",
    "   **Boolean : 3 columns (False vs True),**\n",
    "   **Categorical: 7 columns,**\n",
    "   **Numerical: 9 columns**"
   ]
  },
  {
   "cell_type": "code",
   "execution_count": 9,
   "metadata": {},
   "outputs": [
    {
     "name": "stdout",
     "output_type": "stream",
     "text": [
      "<class 'pandas.core.frame.DataFrame'>\n",
      "RangeIndex: 786363 entries, 0 to 786362\n",
      "Data columns (total 29 columns):\n",
      " #   Column                    Non-Null Count   Dtype  \n",
      "---  ------                    --------------   -----  \n",
      " 0   accountNumber             786363 non-null  int64  \n",
      " 1   customerId                786363 non-null  int64  \n",
      " 2   creditLimit               786363 non-null  int64  \n",
      " 3   availableMoney            786363 non-null  float64\n",
      " 4   transactionDateTime       786363 non-null  object \n",
      " 5   transactionAmount         786363 non-null  float64\n",
      " 6   merchantName              786363 non-null  object \n",
      " 7   acqCountry                781801 non-null  object \n",
      " 8   merchantCountryCode       785639 non-null  object \n",
      " 9   posEntryMode              782309 non-null  float64\n",
      " 10  posConditionCode          785954 non-null  float64\n",
      " 11  merchantCategoryCode      786363 non-null  object \n",
      " 12  currentExpDate            786363 non-null  object \n",
      " 13  accountOpenDate           786363 non-null  object \n",
      " 14  dateOfLastAddressChange   786363 non-null  object \n",
      " 15  cardCVV                   786363 non-null  int64  \n",
      " 16  enteredCVV                786363 non-null  int64  \n",
      " 17  cardLast4Digits           786363 non-null  int64  \n",
      " 18  transactionType           785665 non-null  object \n",
      " 19  echoBuffer                0 non-null       float64\n",
      " 20  currentBalance            786363 non-null  float64\n",
      " 21  merchantCity              0 non-null       float64\n",
      " 22  merchantState             0 non-null       float64\n",
      " 23  merchantZip               0 non-null       float64\n",
      " 24  cardPresent               786363 non-null  bool   \n",
      " 25  posOnPremises             0 non-null       float64\n",
      " 26  recurringAuthInd          0 non-null       float64\n",
      " 27  expirationDateKeyInMatch  786363 non-null  bool   \n",
      " 28  isFraud                   786363 non-null  bool   \n",
      "dtypes: bool(3), float64(11), int64(6), object(9)\n",
      "memory usage: 158.2+ MB\n"
     ]
    }
   ],
   "source": [
    "transactions.info() # Non-Null count and object type"
   ]
  },
  {
   "cell_type": "markdown",
   "metadata": {},
   "source": [
    "**There are 11 features including at least 1 Null value. In addition, 5 out of these 11 features does not include any value in the dataset.**"
   ]
  },
  {
   "cell_type": "code",
   "execution_count": 10,
   "metadata": {},
   "outputs": [
    {
     "data": {
      "text/plain": [
       "accountNumber                    0\n",
       "customerId                       0\n",
       "creditLimit                      0\n",
       "availableMoney                   0\n",
       "transactionDateTime              0\n",
       "transactionAmount                0\n",
       "merchantName                     0\n",
       "acqCountry                    4562\n",
       "merchantCountryCode            724\n",
       "posEntryMode                  4054\n",
       "posConditionCode               409\n",
       "merchantCategoryCode             0\n",
       "currentExpDate                   0\n",
       "accountOpenDate                  0\n",
       "dateOfLastAddressChange          0\n",
       "cardCVV                          0\n",
       "enteredCVV                       0\n",
       "cardLast4Digits                  0\n",
       "transactionType                698\n",
       "echoBuffer                  786363\n",
       "currentBalance                   0\n",
       "merchantCity                786363\n",
       "merchantState               786363\n",
       "merchantZip                 786363\n",
       "cardPresent                      0\n",
       "posOnPremises               786363\n",
       "recurringAuthInd            786363\n",
       "expirationDateKeyInMatch         0\n",
       "isFraud                          0\n",
       "dtype: int64"
      ]
     },
     "execution_count": 10,
     "metadata": {},
     "output_type": "execute_result"
    }
   ],
   "source": [
    "transactions.isnull().sum() # Check each column for Null values"
   ]
  },
  {
   "cell_type": "markdown",
   "metadata": {},
   "source": [
    "**I removed those columns including all Null values in the dataset to reduce dimensionality.**"
   ]
  },
  {
   "cell_type": "code",
   "execution_count": 11,
   "metadata": {},
   "outputs": [],
   "source": [
    "transactions.drop(['echoBuffer','merchantCity','merchantState','merchantZip','posOnPremises','recurringAuthInd'],\n",
    "                  axis=1,inplace=True) # drop several columns"
   ]
  },
  {
   "cell_type": "markdown",
   "metadata": {},
   "source": [
    "**In addition to that, I checked the relationship between merchantCategoryCode and cardPresent. Online transactions accounted for 55% of all transactions.**"
   ]
  },
  {
   "cell_type": "code",
   "execution_count": 12,
   "metadata": {},
   "outputs": [
    {
     "data": {
      "text/plain": [
       "False    433495\n",
       "True     352868\n",
       "Name: cardPresent, dtype: int64"
      ]
     },
     "execution_count": 12,
     "metadata": {},
     "output_type": "execute_result"
    }
   ],
   "source": [
    "transactions.cardPresent.value_counts()"
   ]
  },
  {
   "cell_type": "code",
   "execution_count": 13,
   "metadata": {},
   "outputs": [
    {
     "data": {
      "text/plain": [
       "0.5513"
      ]
     },
     "execution_count": 13,
     "metadata": {},
     "output_type": "execute_result"
    }
   ],
   "source": [
    "round(transactions.cardPresent.value_counts()[0]/len(transactions),4)"
   ]
  },
  {
   "cell_type": "markdown",
   "metadata": {},
   "source": [
    "**There are 5000 unique customers in the dataset.**"
   ]
  },
  {
   "cell_type": "code",
   "execution_count": 14,
   "metadata": {},
   "outputs": [
    {
     "data": {
      "text/plain": [
       "5000"
      ]
     },
     "execution_count": 14,
     "metadata": {},
     "output_type": "execute_result"
    }
   ],
   "source": [
    "transactions.accountNumber.nunique()"
   ]
  },
  {
   "cell_type": "code",
   "execution_count": 15,
   "metadata": {},
   "outputs": [
    {
     "data": {
      "text/plain": [
       "5000"
      ]
     },
     "execution_count": 15,
     "metadata": {},
     "output_type": "execute_result"
    }
   ],
   "source": [
    "# There are 5000 unique customers in the dataset\n",
    "transactions['customerId'].nunique()"
   ]
  },
  {
   "cell_type": "markdown",
   "metadata": {},
   "source": [
    "**I checked whether account number and customerID have one to one relation or not and observed that each customer has 1 unique account number in the database.**"
   ]
  },
  {
   "cell_type": "code",
   "execution_count": 16,
   "metadata": {},
   "outputs": [],
   "source": [
    "account=transactions.accountNumber.unique()\n",
    "customer=transactions['customerId'].unique()\n",
    "comparison = account== customer\n",
    "equal_arrays = comparison.all()"
   ]
  },
  {
   "cell_type": "code",
   "execution_count": 17,
   "metadata": {},
   "outputs": [
    {
     "name": "stdout",
     "output_type": "stream",
     "text": [
      "True\n"
     ]
    }
   ],
   "source": [
    "print(equal_arrays)"
   ]
  },
  {
   "cell_type": "markdown",
   "metadata": {},
   "source": [
    "**Capital One provides 10 different Credit Limits to its customers starting from 250 to $20000.**"
   ]
  },
  {
   "cell_type": "code",
   "execution_count": 18,
   "metadata": {},
   "outputs": [
    {
     "data": {
      "text/plain": [
       "array([ 5000,  2500, 50000, 15000, 10000,   250,   500,  1000,  7500,\n",
       "       20000])"
      ]
     },
     "execution_count": 18,
     "metadata": {},
     "output_type": "execute_result"
    }
   ],
   "source": [
    "transactions.creditLimit.unique() # Credit Limit types"
   ]
  },
  {
   "cell_type": "markdown",
   "metadata": {},
   "source": [
    "**Capital One offers 5000, 15000 or 7500 as credit limit to its customers mostly.**"
   ]
  },
  {
   "cell_type": "code",
   "execution_count": 19,
   "metadata": {},
   "outputs": [
    {
     "data": {
      "image/png": "[encoded data removed]",
      "text/plain": [
       "<Figure size 1008x432 with 1 Axes>"
      ]
     },
     "metadata": {
      "needs_background": "light"
     },
     "output_type": "display_data"
    }
   ],
   "source": [
    "z=pd.DataFrame(transactions.groupby('creditLimit').count()['isFraud']).reset_index(drop=False)\n",
    "z.columns=['creditLimit','Freq'] # rename columns\n",
    "plt.figure(figsize=(14,6)) # adjust figure size\n",
    "sns.set_theme() # set theme\n",
    "ax = sns.barplot(x=\"creditLimit\", y=\"Freq\", data=z) # draw barplot"
   ]
  },
  {
   "cell_type": "markdown",
   "metadata": {},
   "source": [
    "**There are 12417 fraudulent cases among all population.**"
   ]
  },
  {
   "cell_type": "code",
   "execution_count": 20,
   "metadata": {},
   "outputs": [
    {
     "data": {
      "text/plain": [
       "False    773946\n",
       "True      12417\n",
       "Name: isFraud, dtype: int64"
      ]
     },
     "execution_count": 20,
     "metadata": {},
     "output_type": "execute_result"
    }
   ],
   "source": [
    "transactions['isFraud'].value_counts() # distribution of fraud vs non-fraud cases"
   ]
  },
  {
   "cell_type": "markdown",
   "metadata": {},
   "source": [
    "**Ratio of fraudulent cases to all population is 1.58 % so the dataset is highly imbalanced.**"
   ]
  },
  {
   "cell_type": "code",
   "execution_count": 23,
   "metadata": {},
   "outputs": [
    {
     "data": {
      "text/plain": [
       "0.0158"
      ]
     },
     "execution_count": 23,
     "metadata": {},
     "output_type": "execute_result"
    }
   ],
   "source": [
    "# Dataset is highly imbalanced\n",
    "round(transactions['isFraud'].value_counts() [1] / len(transactions),4) # ratio: 1.579 %"
   ]
  },
  {
   "cell_type": "markdown",
   "metadata": {},
   "source": [
    "**There are 19 merchant categories such as rideshare, auto,hotels and fastfood.**"
   ]
  },
  {
   "cell_type": "code",
   "execution_count": 24,
   "metadata": {},
   "outputs": [
    {
     "data": {
      "text/plain": [
       "array(['rideshare', 'entertainment', 'mobileapps', 'fastfood',\n",
       "       'food_delivery', 'auto', 'online_retail', 'gym', 'health',\n",
       "       'personal care', 'food', 'fuel', 'online_subscriptions',\n",
       "       'online_gifts', 'hotels', 'airline', 'furniture', 'subscriptions',\n",
       "       'cable/phone'], dtype=object)"
      ]
     },
     "execution_count": 24,
     "metadata": {},
     "output_type": "execute_result"
    }
   ],
   "source": [
    "transactions['merchantCategoryCode'].unique() # list of merchant categories"
   ]
  },
  {
   "cell_type": "code",
   "execution_count": 25,
   "metadata": {},
   "outputs": [
    {
     "data": {
      "text/plain": [
       "19"
      ]
     },
     "execution_count": 25,
     "metadata": {},
     "output_type": "execute_result"
    }
   ],
   "source": [
    "transactions['merchantCategoryCode'].nunique() # size: 19 categories"
   ]
  },
  {
   "cell_type": "markdown",
   "metadata": {},
   "source": [
    "**Top 3 categories are online, fastfood and entertainment in terms of the number of transactions.**"
   ]
  },
  {
   "cell_type": "code",
   "execution_count": 26,
   "metadata": {},
   "outputs": [
    {
     "data": {
      "image/png": "[encoded data removed]",
      "text/plain": [
       "<Figure size 1728x432 with 1 Axes>"
      ]
     },
     "metadata": {},
     "output_type": "display_data"
    }
   ],
   "source": [
    "t=pd.DataFrame(transactions['merchantCategoryCode'].value_counts()).reset_index(drop=False)\n",
    "t.columns=['MerchantCategory','Freq'] # rename columns\n",
    "plt.figure(figsize=(24,6)) # adjust figure size\n",
    "sns.set_theme() # set theme\n",
    "ax = sns.barplot(x=\"MerchantCategory\", y=\"Freq\", data=t) # draw barplot"
   ]
  },
  {
   "cell_type": "markdown",
   "metadata": {},
   "source": [
    "**The dataset includes transactions in 4 countries such as US, Canada, Mexico and Puerto Rico.**"
   ]
  },
  {
   "cell_type": "code",
   "execution_count": 27,
   "metadata": {},
   "outputs": [
    {
     "data": {
      "text/plain": [
       "array(['US', None, 'CAN', 'MEX', 'PR'], dtype=object)"
      ]
     },
     "execution_count": 27,
     "metadata": {},
     "output_type": "execute_result"
    }
   ],
   "source": [
    "transactions.acqCountry.unique()"
   ]
  },
  {
   "cell_type": "code",
   "execution_count": 28,
   "metadata": {},
   "outputs": [
    {
     "data": {
      "text/plain": [
       "array(['US', 'CAN', None, 'PR', 'MEX'], dtype=object)"
      ]
     },
     "execution_count": 28,
     "metadata": {},
     "output_type": "execute_result"
    }
   ],
   "source": [
    "transactions.merchantCountryCode.unique()"
   ]
  },
  {
   "cell_type": "code",
   "execution_count": 29,
   "metadata": {},
   "outputs": [
    {
     "data": {
      "text/plain": [
       "US     774709\n",
       "MEX      3130\n",
       "CAN      2424\n",
       "PR       1538\n",
       "Name: acqCountry, dtype: int64"
      ]
     },
     "execution_count": 29,
     "metadata": {},
     "output_type": "execute_result"
    }
   ],
   "source": [
    "transactions.acqCountry.value_counts()"
   ]
  },
  {
   "cell_type": "markdown",
   "metadata": {},
   "source": [
    "**There are 3 different transaction types such as Purchase, Address Verification and Reversal. Also, it includes some Null values in that feature.**"
   ]
  },
  {
   "cell_type": "code",
   "execution_count": 30,
   "metadata": {},
   "outputs": [
    {
     "data": {
      "text/plain": [
       "array(['PURCHASE', 'ADDRESS_VERIFICATION', 'REVERSAL', None], dtype=object)"
      ]
     },
     "execution_count": 30,
     "metadata": {},
     "output_type": "execute_result"
    }
   ],
   "source": [
    "transactions['transactionType'].unique() # list of transaction type categories"
   ]
  },
  {
   "cell_type": "code",
   "execution_count": 31,
   "metadata": {},
   "outputs": [
    {
     "data": {
      "text/html": [
       "<div>\n",
       "<style scoped>\n",
       "    .dataframe tbody tr th:only-of-type {\n",
       "        vertical-align: middle;\n",
       "    }\n",
       "\n",
       "    .dataframe tbody tr th {\n",
       "        vertical-align: top;\n",
       "    }\n",
       "\n",
       "    .dataframe thead th {\n",
       "        text-align: right;\n",
       "    }\n",
       "</style>\n",
       "<table border=\"1\" class=\"dataframe\">\n",
       "  <thead>\n",
       "    <tr style=\"text-align: right;\">\n",
       "      <th></th>\n",
       "      <th>index</th>\n",
       "      <th>transactionType</th>\n",
       "    </tr>\n",
       "  </thead>\n",
       "  <tbody>\n",
       "    <tr>\n",
       "      <th>0</th>\n",
       "      <td>PURCHASE</td>\n",
       "      <td>745193</td>\n",
       "    </tr>\n",
       "    <tr>\n",
       "      <th>1</th>\n",
       "      <td>REVERSAL</td>\n",
       "      <td>20303</td>\n",
       "    </tr>\n",
       "    <tr>\n",
       "      <th>2</th>\n",
       "      <td>ADDRESS_VERIFICATION</td>\n",
       "      <td>20169</td>\n",
       "    </tr>\n",
       "  </tbody>\n",
       "</table>\n",
       "</div>"
      ],
      "text/plain": [
       "                  index  transactionType\n",
       "0              PURCHASE           745193\n",
       "1              REVERSAL            20303\n",
       "2  ADDRESS_VERIFICATION            20169"
      ]
     },
     "execution_count": 31,
     "metadata": {},
     "output_type": "execute_result"
    }
   ],
   "source": [
    "e=pd.DataFrame(transactions.transactionType.value_counts()).reset_index(drop=False)\n",
    "e"
   ]
  },
  {
   "cell_type": "code",
   "execution_count": 32,
   "metadata": {},
   "outputs": [
    {
     "data": {
      "image/png": "[encoded data removed]",
      "text/plain": [
       "<Figure size 1008x432 with 1 Axes>"
      ]
     },
     "metadata": {},
     "output_type": "display_data"
    }
   ],
   "source": [
    "e=pd.DataFrame(transactions.transactionType.value_counts()).reset_index(drop=False)\n",
    "e.columns=['Category','Freq'] # rename columns\n",
    "plt.figure(figsize=(14,6)) # adjust figure size\n",
    "sns.set_theme() # set theme\n",
    "ax = sns.barplot(x=\"Freq\", y=\"Category\", data=e) # draw barplot"
   ]
  },
  {
   "cell_type": "markdown",
   "metadata": {},
   "source": [
    "**I created 'Date' column by splitting original 'TransactionDate' column.The dataset obtains transactions in year 2016.**"
   ]
  },
  {
   "cell_type": "code",
   "execution_count": 33,
   "metadata": {},
   "outputs": [],
   "source": [
    "transactions['Date']=transactions['transactionDateTime'].apply(lambda x: x.split('T')[0]) # create 'Date' column"
   ]
  },
  {
   "cell_type": "code",
   "execution_count": 34,
   "metadata": {},
   "outputs": [
    {
     "data": {
      "text/plain": [
       "'2016-01-01T00:01:02'"
      ]
     },
     "execution_count": 34,
     "metadata": {},
     "output_type": "execute_result"
    }
   ],
   "source": [
    "# Dataset includes all transactions during year 2016\n",
    "transactions.transactionDateTime.min() # Start point: 2016-01-01 T 00:01:02"
   ]
  },
  {
   "cell_type": "code",
   "execution_count": 35,
   "metadata": {},
   "outputs": [
    {
     "data": {
      "text/plain": [
       "'2016-12-30T23:59:45'"
      ]
     },
     "execution_count": 35,
     "metadata": {},
     "output_type": "execute_result"
    }
   ],
   "source": [
    "transactions.transactionDateTime.max() # End point:   2016-12-30 T 23:59:45"
   ]
  },
  {
   "cell_type": "markdown",
   "metadata": {},
   "source": [
    "**I checked the key statistics of  transaction amounts. Maximum transaction amount was $2011. Also, average of transaction amount is 136.98 standard deviation of transaction amount was 147.72.**"
   ]
  },
  {
   "cell_type": "code",
   "execution_count": 36,
   "metadata": {},
   "outputs": [
    {
     "data": {
      "text/plain": [
       "count    786363.000000\n",
       "mean        136.985791\n",
       "std         147.725569\n",
       "min           0.000000\n",
       "25%          33.650000\n",
       "50%          87.900000\n",
       "75%         191.480000\n",
       "max        2011.540000\n",
       "Name: transactionAmount, dtype: float64"
      ]
     },
     "execution_count": 36,
     "metadata": {},
     "output_type": "execute_result"
    }
   ],
   "source": [
    "transactions.transactionAmount.describe()"
   ]
  },
  {
   "cell_type": "markdown",
   "metadata": {},
   "source": [
    "**I plotted the transactions amounts by applying histogram. This shows that there is right skewed (positive skewness) distribution. Avg. of transaction amounts (136.98) is much higher than median of transaction amounts (87.90)**"
   ]
  },
  {
   "cell_type": "code",
   "execution_count": 37,
   "metadata": {},
   "outputs": [
    {
     "name": "stderr",
     "output_type": "stream",
     "text": [
      "/opt/anaconda3/lib/python3.7/site-packages/seaborn/distributions.py:2557: FutureWarning: `distplot` is a deprecated function and will be removed in a future version. Please adapt your code to use either `displot` (a figure-level function with similar flexibility) or `histplot` (an axes-level function for histograms).\n",
      "  warnings.warn(msg, FutureWarning)\n"
     ]
    },
    {
     "data": {
      "text/plain": [
       "<matplotlib.axes._subplots.AxesSubplot at 0x1a241ce090>"
      ]
     },
     "execution_count": 37,
     "metadata": {},
     "output_type": "execute_result"
    },
    {
     "data": {
      "image/png": "[encoded data removed]",
      "text/plain": [
       "<Figure size 864x504 with 1 Axes>"
      ]
     },
     "metadata": {},
     "output_type": "display_data"
    }
   ],
   "source": [
    "plt.figure(figsize=(12, 7))\n",
    "sns.distplot(transactions.transactionAmount)"
   ]
  },
  {
   "cell_type": "code",
   "execution_count": 38,
   "metadata": {},
   "outputs": [
    {
     "data": {
      "text/plain": [
       "[Text(0, 0.5, 'Freq')]"
      ]
     },
     "execution_count": 38,
     "metadata": {},
     "output_type": "execute_result"
    },
    {
     "data": {
      "image/png": "[encoded data removed]",
      "text/plain": [
       "<Figure size 864x504 with 1 Axes>"
      ]
     },
     "metadata": {},
     "output_type": "display_data"
    }
   ],
   "source": [
    "# visualize transaction amounts by using the histogram\n",
    "sns.set()\n",
    "plt.figure(figsize=(12, 7))\n",
    "plt.title('Distribution of Transaction Amounts', weight='bold')\n",
    "ax=sns.histplot(data=transactions, x=\"transactionAmount\", color='blue',bins=15)\n",
    "ax.set(xlabel='Amount')\n",
    "ax.set(ylabel='Freq')"
   ]
  },
  {
   "cell_type": "markdown",
   "metadata": {},
   "source": [
    "**61% of all transactions are less than specific transaction amount ($125) in the dataset.**"
   ]
  },
  {
   "cell_type": "code",
   "execution_count": 39,
   "metadata": {},
   "outputs": [],
   "source": [
    "z=transactions[(transactions.transactionAmount < 125)]"
   ]
  },
  {
   "cell_type": "code",
   "execution_count": 40,
   "metadata": {},
   "outputs": [
    {
     "data": {
      "text/plain": [
       "0.61"
      ]
     },
     "execution_count": 40,
     "metadata": {},
     "output_type": "execute_result"
    }
   ],
   "source": [
    "round(len(z)/len(transactions),2)"
   ]
  },
  {
   "cell_type": "markdown",
   "metadata": {},
   "source": [
    "**This table indicates how many transactions each account had for each merchant in year 2016.**"
   ]
  },
  {
   "cell_type": "code",
   "execution_count": 41,
   "metadata": {},
   "outputs": [
    {
     "data": {
      "text/html": [
       "<div>\n",
       "<style scoped>\n",
       "    .dataframe tbody tr th:only-of-type {\n",
       "        vertical-align: middle;\n",
       "    }\n",
       "\n",
       "    .dataframe tbody tr th {\n",
       "        vertical-align: top;\n",
       "    }\n",
       "\n",
       "    .dataframe thead th {\n",
       "        text-align: right;\n",
       "    }\n",
       "</style>\n",
       "<table border=\"1\" class=\"dataframe\">\n",
       "  <thead>\n",
       "    <tr style=\"text-align: right;\">\n",
       "      <th></th>\n",
       "      <th>customerId</th>\n",
       "      <th>merchantName</th>\n",
       "      <th>Count</th>\n",
       "    </tr>\n",
       "  </thead>\n",
       "  <tbody>\n",
       "    <tr>\n",
       "      <th>0</th>\n",
       "      <td>100088067</td>\n",
       "      <td>1st BBQ</td>\n",
       "      <td>1</td>\n",
       "    </tr>\n",
       "    <tr>\n",
       "      <th>1</th>\n",
       "      <td>100088067</td>\n",
       "      <td>1st Pub</td>\n",
       "      <td>1</td>\n",
       "    </tr>\n",
       "    <tr>\n",
       "      <th>2</th>\n",
       "      <td>100088067</td>\n",
       "      <td>1st Sandwitch Bar #758805</td>\n",
       "      <td>1</td>\n",
       "    </tr>\n",
       "    <tr>\n",
       "      <th>3</th>\n",
       "      <td>100088067</td>\n",
       "      <td>34th BBQ #412895</td>\n",
       "      <td>1</td>\n",
       "    </tr>\n",
       "    <tr>\n",
       "      <th>4</th>\n",
       "      <td>100088067</td>\n",
       "      <td>AMC #191138</td>\n",
       "      <td>1</td>\n",
       "    </tr>\n",
       "  </tbody>\n",
       "</table>\n",
       "</div>"
      ],
      "text/plain": [
       "   customerId               merchantName  Count\n",
       "0   100088067                    1st BBQ      1\n",
       "1   100088067                    1st Pub      1\n",
       "2   100088067  1st Sandwitch Bar #758805      1\n",
       "3   100088067           34th BBQ #412895      1\n",
       "4   100088067                AMC #191138      1"
      ]
     },
     "execution_count": 41,
     "metadata": {},
     "output_type": "execute_result"
    }
   ],
   "source": [
    "cust_length=transactions.groupby(['customerId','merchantName']).count()['Date']\n",
    "cust_length=pd.DataFrame(cust_length).reset_index()\n",
    "cust_length.columns=['customerId','merchantName','Count']\n",
    "#cust_length=cust_length.sort_values(by='Count',ascending=False)\n",
    "cust_length.head()\n",
    "#cust_length.to_csv('zazaza.csv')"
   ]
  },
  {
   "cell_type": "markdown",
   "metadata": {},
   "source": [
    "-----"
   ]
  }
 ],
 "metadata": {
  "kernelspec": {
   "display_name": "Python 3",
   "language": "python",
   "name": "python3"
  },
  "language_info": {
   "codemirror_mode": {
    "name": "ipython",
    "version": 3
   },
   "file_extension": ".py",
   "mimetype": "text/x-python",
   "name": "python",
   "nbconvert_exporter": "python",
   "pygments_lexer": "ipython3",
   "version": "3.7.6"
  }
 },
 "nbformat": 4,
 "nbformat_minor": 4
}
