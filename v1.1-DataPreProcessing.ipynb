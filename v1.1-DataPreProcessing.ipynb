{
 "cells": [
  {
   "cell_type": "markdown",
   "metadata": {},
   "source": [
    "# CapitalOne Data Challenge - Data Processing"
   ]
  },
  {
   "cell_type": "markdown",
   "metadata": {},
   "source": [
    "**Firstly, I loaded required packages, then imported the dataset by using pandas package. Before importing, I changed Null values to NaN in '.txt' file since Python does not convert Null values as NaN.**"
   ]
  },
  {
   "cell_type": "code",
   "execution_count": 110,
   "metadata": {},
   "outputs": [],
   "source": [
    "#load package\n",
    "import pandas as pd\n",
    "import seaborn as sns\n",
    "import numpy as np\n",
    "import warnings\n",
    "import matplotlib.pyplot as plt"
   ]
  },
  {
   "cell_type": "code",
   "execution_count": 111,
   "metadata": {},
   "outputs": [],
   "source": [
    "def concat(x):\n",
    "    y=str('T') + str(x)\n",
    "    return y"
   ]
  },
  {
   "cell_type": "code",
   "execution_count": 112,
   "metadata": {},
   "outputs": [],
   "source": [
    "file_path= './Desktop/DS-master/cardtransactions.txt' # path of the file"
   ]
  },
  {
   "cell_type": "markdown",
   "metadata": {},
   "source": [
    "**Data Pre-Processing**"
   ]
  },
  {
   "cell_type": "code",
   "execution_count": 113,
   "metadata": {},
   "outputs": [],
   "source": [
    "# create import function\n",
    "def import_data(path):\n",
    "    dfList = []\n",
    "    df=pd.DataFrame()\n",
    "    for iot_chunk in pd.read_json(file_path, lines=True,chunksize=100000) :\n",
    "        dfList.append(iot_chunk)\n",
    "    df = pd.concat(dfList,sort=False)\n",
    "    return df"
   ]
  },
  {
   "cell_type": "code",
   "execution_count": 114,
   "metadata": {},
   "outputs": [
    {
     "data": {
      "text/html": [
       "<div>\n",
       "<style scoped>\n",
       "    .dataframe tbody tr th:only-of-type {\n",
       "        vertical-align: middle;\n",
       "    }\n",
       "\n",
       "    .dataframe tbody tr th {\n",
       "        vertical-align: top;\n",
       "    }\n",
       "\n",
       "    .dataframe thead th {\n",
       "        text-align: right;\n",
       "    }\n",
       "</style>\n",
       "<table border=\"1\" class=\"dataframe\">\n",
       "  <thead>\n",
       "    <tr style=\"text-align: right;\">\n",
       "      <th></th>\n",
       "      <th>accountNumber</th>\n",
       "      <th>customerId</th>\n",
       "      <th>creditLimit</th>\n",
       "      <th>availableMoney</th>\n",
       "      <th>transactionDateTime</th>\n",
       "      <th>transactionAmount</th>\n",
       "      <th>merchantName</th>\n",
       "      <th>acqCountry</th>\n",
       "      <th>merchantCountryCode</th>\n",
       "      <th>posEntryMode</th>\n",
       "      <th>posConditionCode</th>\n",
       "      <th>merchantCategoryCode</th>\n",
       "      <th>currentExpDate</th>\n",
       "      <th>accountOpenDate</th>\n",
       "      <th>dateOfLastAddressChange</th>\n",
       "      <th>cardCVV</th>\n",
       "      <th>enteredCVV</th>\n",
       "      <th>cardLast4Digits</th>\n",
       "      <th>transactionType</th>\n",
       "      <th>echoBuffer</th>\n",
       "      <th>currentBalance</th>\n",
       "      <th>merchantCity</th>\n",
       "      <th>merchantState</th>\n",
       "      <th>merchantZip</th>\n",
       "      <th>cardPresent</th>\n",
       "      <th>posOnPremises</th>\n",
       "      <th>recurringAuthInd</th>\n",
       "      <th>expirationDateKeyInMatch</th>\n",
       "      <th>isFraud</th>\n",
       "    </tr>\n",
       "  </thead>\n",
       "  <tbody>\n",
       "    <tr>\n",
       "      <th>0</th>\n",
       "      <td>737265056</td>\n",
       "      <td>737265056</td>\n",
       "      <td>5000</td>\n",
       "      <td>5000.0</td>\n",
       "      <td>2016-08-13T14:27:32</td>\n",
       "      <td>98.55</td>\n",
       "      <td>Uber</td>\n",
       "      <td>US</td>\n",
       "      <td>US</td>\n",
       "      <td>2.0</td>\n",
       "      <td>1.0</td>\n",
       "      <td>rideshare</td>\n",
       "      <td>06/2023</td>\n",
       "      <td>2015-03-14</td>\n",
       "      <td>2015-03-14</td>\n",
       "      <td>414</td>\n",
       "      <td>414</td>\n",
       "      <td>1803</td>\n",
       "      <td>PURCHASE</td>\n",
       "      <td>NaN</td>\n",
       "      <td>0.0</td>\n",
       "      <td>NaN</td>\n",
       "      <td>NaN</td>\n",
       "      <td>NaN</td>\n",
       "      <td>False</td>\n",
       "      <td>NaN</td>\n",
       "      <td>NaN</td>\n",
       "      <td>False</td>\n",
       "      <td>False</td>\n",
       "    </tr>\n",
       "    <tr>\n",
       "      <th>1</th>\n",
       "      <td>737265056</td>\n",
       "      <td>737265056</td>\n",
       "      <td>5000</td>\n",
       "      <td>5000.0</td>\n",
       "      <td>2016-10-11T05:05:54</td>\n",
       "      <td>74.51</td>\n",
       "      <td>AMC #191138</td>\n",
       "      <td>US</td>\n",
       "      <td>US</td>\n",
       "      <td>9.0</td>\n",
       "      <td>1.0</td>\n",
       "      <td>entertainment</td>\n",
       "      <td>02/2024</td>\n",
       "      <td>2015-03-14</td>\n",
       "      <td>2015-03-14</td>\n",
       "      <td>486</td>\n",
       "      <td>486</td>\n",
       "      <td>767</td>\n",
       "      <td>PURCHASE</td>\n",
       "      <td>NaN</td>\n",
       "      <td>0.0</td>\n",
       "      <td>NaN</td>\n",
       "      <td>NaN</td>\n",
       "      <td>NaN</td>\n",
       "      <td>True</td>\n",
       "      <td>NaN</td>\n",
       "      <td>NaN</td>\n",
       "      <td>False</td>\n",
       "      <td>False</td>\n",
       "    </tr>\n",
       "    <tr>\n",
       "      <th>2</th>\n",
       "      <td>737265056</td>\n",
       "      <td>737265056</td>\n",
       "      <td>5000</td>\n",
       "      <td>5000.0</td>\n",
       "      <td>2016-11-08T09:18:39</td>\n",
       "      <td>7.47</td>\n",
       "      <td>Play Store</td>\n",
       "      <td>US</td>\n",
       "      <td>US</td>\n",
       "      <td>9.0</td>\n",
       "      <td>1.0</td>\n",
       "      <td>mobileapps</td>\n",
       "      <td>08/2025</td>\n",
       "      <td>2015-03-14</td>\n",
       "      <td>2015-03-14</td>\n",
       "      <td>486</td>\n",
       "      <td>486</td>\n",
       "      <td>767</td>\n",
       "      <td>PURCHASE</td>\n",
       "      <td>NaN</td>\n",
       "      <td>0.0</td>\n",
       "      <td>NaN</td>\n",
       "      <td>NaN</td>\n",
       "      <td>NaN</td>\n",
       "      <td>False</td>\n",
       "      <td>NaN</td>\n",
       "      <td>NaN</td>\n",
       "      <td>False</td>\n",
       "      <td>False</td>\n",
       "    </tr>\n",
       "  </tbody>\n",
       "</table>\n",
       "</div>"
      ],
      "text/plain": [
       "   accountNumber  customerId  creditLimit  availableMoney  \\\n",
       "0      737265056   737265056         5000          5000.0   \n",
       "1      737265056   737265056         5000          5000.0   \n",
       "2      737265056   737265056         5000          5000.0   \n",
       "\n",
       "   transactionDateTime  transactionAmount merchantName acqCountry  \\\n",
       "0  2016-08-13T14:27:32              98.55         Uber         US   \n",
       "1  2016-10-11T05:05:54              74.51  AMC #191138         US   \n",
       "2  2016-11-08T09:18:39               7.47   Play Store         US   \n",
       "\n",
       "  merchantCountryCode  posEntryMode  posConditionCode merchantCategoryCode  \\\n",
       "0                  US           2.0               1.0            rideshare   \n",
       "1                  US           9.0               1.0        entertainment   \n",
       "2                  US           9.0               1.0           mobileapps   \n",
       "\n",
       "  currentExpDate accountOpenDate dateOfLastAddressChange  cardCVV  enteredCVV  \\\n",
       "0        06/2023      2015-03-14              2015-03-14      414         414   \n",
       "1        02/2024      2015-03-14              2015-03-14      486         486   \n",
       "2        08/2025      2015-03-14              2015-03-14      486         486   \n",
       "\n",
       "   cardLast4Digits transactionType  echoBuffer  currentBalance  merchantCity  \\\n",
       "0             1803        PURCHASE         NaN             0.0           NaN   \n",
       "1              767        PURCHASE         NaN             0.0           NaN   \n",
       "2              767        PURCHASE         NaN             0.0           NaN   \n",
       "\n",
       "   merchantState  merchantZip  cardPresent  posOnPremises  recurringAuthInd  \\\n",
       "0            NaN          NaN        False            NaN               NaN   \n",
       "1            NaN          NaN         True            NaN               NaN   \n",
       "2            NaN          NaN        False            NaN               NaN   \n",
       "\n",
       "   expirationDateKeyInMatch  isFraud  \n",
       "0                     False    False  \n",
       "1                     False    False  \n",
       "2                     False    False  "
      ]
     },
     "execution_count": 114,
     "metadata": {},
     "output_type": "execute_result"
    }
   ],
   "source": [
    "pd.set_option('display.max_columns', None) # pandas setting\n",
    "transactions=import_data(file_path) # execute the function\n",
    "transactions.head(3)"
   ]
  },
  {
   "cell_type": "code",
   "execution_count": 115,
   "metadata": {},
   "outputs": [
    {
     "data": {
      "text/plain": [
       "array([ 2.,  9.,  5., 80., 90., nan])"
      ]
     },
     "execution_count": 115,
     "metadata": {},
     "output_type": "execute_result"
    }
   ],
   "source": [
    "transactions.posEntryMode.unique()"
   ]
  },
  {
   "cell_type": "code",
   "execution_count": 116,
   "metadata": {},
   "outputs": [
    {
     "data": {
      "text/plain": [
       "array([ 1.,  8., 99., nan])"
      ]
     },
     "execution_count": 116,
     "metadata": {},
     "output_type": "execute_result"
    }
   ],
   "source": [
    "transactions.posConditionCode.unique()"
   ]
  },
  {
   "cell_type": "markdown",
   "metadata": {},
   "source": [
    "**I removed several columns including all Null values in the dataset to reduce dimensionality.**"
   ]
  },
  {
   "cell_type": "code",
   "execution_count": 123,
   "metadata": {},
   "outputs": [
    {
     "data": {
      "text/html": [
       "<div>\n",
       "<style scoped>\n",
       "    .dataframe tbody tr th:only-of-type {\n",
       "        vertical-align: middle;\n",
       "    }\n",
       "\n",
       "    .dataframe tbody tr th {\n",
       "        vertical-align: top;\n",
       "    }\n",
       "\n",
       "    .dataframe thead th {\n",
       "        text-align: right;\n",
       "    }\n",
       "</style>\n",
       "<table border=\"1\" class=\"dataframe\">\n",
       "  <thead>\n",
       "    <tr style=\"text-align: right;\">\n",
       "      <th></th>\n",
       "      <th>index</th>\n",
       "      <th>0</th>\n",
       "    </tr>\n",
       "  </thead>\n",
       "  <tbody>\n",
       "    <tr>\n",
       "      <th>26</th>\n",
       "      <td>recurringAuthInd</td>\n",
       "      <td>786363</td>\n",
       "    </tr>\n",
       "    <tr>\n",
       "      <th>25</th>\n",
       "      <td>posOnPremises</td>\n",
       "      <td>786363</td>\n",
       "    </tr>\n",
       "    <tr>\n",
       "      <th>23</th>\n",
       "      <td>merchantZip</td>\n",
       "      <td>786363</td>\n",
       "    </tr>\n",
       "    <tr>\n",
       "      <th>22</th>\n",
       "      <td>merchantState</td>\n",
       "      <td>786363</td>\n",
       "    </tr>\n",
       "    <tr>\n",
       "      <th>21</th>\n",
       "      <td>merchantCity</td>\n",
       "      <td>786363</td>\n",
       "    </tr>\n",
       "    <tr>\n",
       "      <th>19</th>\n",
       "      <td>echoBuffer</td>\n",
       "      <td>786363</td>\n",
       "    </tr>\n",
       "    <tr>\n",
       "      <th>7</th>\n",
       "      <td>acqCountry</td>\n",
       "      <td>4562</td>\n",
       "    </tr>\n",
       "    <tr>\n",
       "      <th>9</th>\n",
       "      <td>posEntryMode</td>\n",
       "      <td>4054</td>\n",
       "    </tr>\n",
       "    <tr>\n",
       "      <th>8</th>\n",
       "      <td>merchantCountryCode</td>\n",
       "      <td>724</td>\n",
       "    </tr>\n",
       "    <tr>\n",
       "      <th>18</th>\n",
       "      <td>transactionType</td>\n",
       "      <td>698</td>\n",
       "    </tr>\n",
       "    <tr>\n",
       "      <th>10</th>\n",
       "      <td>posConditionCode</td>\n",
       "      <td>409</td>\n",
       "    </tr>\n",
       "  </tbody>\n",
       "</table>\n",
       "</div>"
      ],
      "text/plain": [
       "                  index       0\n",
       "26     recurringAuthInd  786363\n",
       "25        posOnPremises  786363\n",
       "23          merchantZip  786363\n",
       "22        merchantState  786363\n",
       "21         merchantCity  786363\n",
       "19           echoBuffer  786363\n",
       "7            acqCountry    4562\n",
       "9          posEntryMode    4054\n",
       "8   merchantCountryCode     724\n",
       "18      transactionType     698\n",
       "10     posConditionCode     409"
      ]
     },
     "execution_count": 123,
     "metadata": {},
     "output_type": "execute_result"
    }
   ],
   "source": [
    "pd.DataFrame(transactions.isnull().sum()).reset_index(drop=False).sort_values(by=0,ascending=False)[:11]"
   ]
  },
  {
   "cell_type": "code",
   "execution_count": 28,
   "metadata": {},
   "outputs": [],
   "source": [
    "transactions.drop(['echoBuffer','merchantCity','merchantState','merchantZip','posOnPremises','recurringAuthInd'],\n",
    "                  axis=1,inplace=True)"
   ]
  },
  {
   "cell_type": "markdown",
   "metadata": {},
   "source": [
    "**I created 'Date' column by splitting original 'TransactionDate' column.The dataset obtains transactions in year 2016.**"
   ]
  },
  {
   "cell_type": "code",
   "execution_count": 29,
   "metadata": {},
   "outputs": [],
   "source": [
    "transactions['Date']=transactions['transactionDateTime'].apply(lambda x: x.split('T')[0]) # create 'Date' column"
   ]
  },
  {
   "cell_type": "code",
   "execution_count": 30,
   "metadata": {},
   "outputs": [],
   "source": [
    "transactions.reset_index(drop=False,inplace=True)\n",
    "transactions['transactionKey']=transactions['index'].apply(lambda x: concat(x))\n",
    "transactions.drop(['index'],axis=1,inplace=True)"
   ]
  },
  {
   "cell_type": "markdown",
   "metadata": {},
   "source": [
    "**This table indicates how many transactions each account had for each merchant in year 2016. (use the table in the next steps)**"
   ]
  },
  {
   "cell_type": "code",
   "execution_count": 31,
   "metadata": {},
   "outputs": [
    {
     "data": {
      "text/html": [
       "<div>\n",
       "<style scoped>\n",
       "    .dataframe tbody tr th:only-of-type {\n",
       "        vertical-align: middle;\n",
       "    }\n",
       "\n",
       "    .dataframe tbody tr th {\n",
       "        vertical-align: top;\n",
       "    }\n",
       "\n",
       "    .dataframe thead th {\n",
       "        text-align: right;\n",
       "    }\n",
       "</style>\n",
       "<table border=\"1\" class=\"dataframe\">\n",
       "  <thead>\n",
       "    <tr style=\"text-align: right;\">\n",
       "      <th></th>\n",
       "      <th>customerId</th>\n",
       "      <th>merchantName</th>\n",
       "      <th>Count</th>\n",
       "    </tr>\n",
       "  </thead>\n",
       "  <tbody>\n",
       "    <tr>\n",
       "      <th>0</th>\n",
       "      <td>100088067</td>\n",
       "      <td>1st BBQ</td>\n",
       "      <td>1</td>\n",
       "    </tr>\n",
       "    <tr>\n",
       "      <th>1</th>\n",
       "      <td>100088067</td>\n",
       "      <td>1st Pub</td>\n",
       "      <td>1</td>\n",
       "    </tr>\n",
       "    <tr>\n",
       "      <th>2</th>\n",
       "      <td>100088067</td>\n",
       "      <td>1st Sandwitch Bar #758805</td>\n",
       "      <td>1</td>\n",
       "    </tr>\n",
       "    <tr>\n",
       "      <th>3</th>\n",
       "      <td>100088067</td>\n",
       "      <td>34th BBQ #412895</td>\n",
       "      <td>1</td>\n",
       "    </tr>\n",
       "    <tr>\n",
       "      <th>4</th>\n",
       "      <td>100088067</td>\n",
       "      <td>AMC #191138</td>\n",
       "      <td>1</td>\n",
       "    </tr>\n",
       "  </tbody>\n",
       "</table>\n",
       "</div>"
      ],
      "text/plain": [
       "   customerId               merchantName  Count\n",
       "0   100088067                    1st BBQ      1\n",
       "1   100088067                    1st Pub      1\n",
       "2   100088067  1st Sandwitch Bar #758805      1\n",
       "3   100088067           34th BBQ #412895      1\n",
       "4   100088067                AMC #191138      1"
      ]
     },
     "execution_count": 31,
     "metadata": {},
     "output_type": "execute_result"
    }
   ],
   "source": [
    "cust_length=transactions.groupby(['customerId','merchantName']).count()['Date']\n",
    "cust_length=pd.DataFrame(cust_length).reset_index()\n",
    "cust_length.columns=['customerId','merchantName','Count']\n",
    "cust_length.head()"
   ]
  },
  {
   "cell_type": "markdown",
   "metadata": {},
   "source": [
    "-----"
   ]
  },
  {
   "cell_type": "markdown",
   "metadata": {},
   "source": [
    "# Data Pre-Processing | Case Study 1: Detect Reversal transactions"
   ]
  },
  {
   "cell_type": "markdown",
   "metadata": {},
   "source": [
    "**Firstly, I created Timestamp feature by modifying 'transactionDateTime' column and replaced null values of transaction type with 'Purchase'. Then, I sorted datasets based on several columns such as customerID, merchantName and Timestamp in ascending order.**"
   ]
  },
  {
   "cell_type": "code",
   "execution_count": 33,
   "metadata": {},
   "outputs": [],
   "source": [
    "card_data=transactions.copy() # make a copy\n",
    "card_data['transactionType']=card_data['transactionType'].fillna(value='PURCHASE')\n",
    "card_data['Date']=card_data['transactionDateTime'].apply(lambda x: x.split('T')[0]) # create 'Date' column\n",
    "card_data['Time']=card_data['transactionDateTime'].apply(lambda x: x.split('T')[1]) # create 'Date' column\n",
    "card_data.Date=pd.to_datetime(card_data.Date)\n",
    "card_data['Timestamp']=pd.to_datetime(card_data.Date.astype(str)+' '+card_data.Time.astype(str))"
   ]
  },
  {
   "cell_type": "code",
   "execution_count": 34,
   "metadata": {},
   "outputs": [],
   "source": [
    "card_data=card_data[['customerId','merchantName','transactionAmount','transactionType','transactionKey','Timestamp']]\n",
    "card_data=card_data.sort_values(by=['customerId','merchantName','Timestamp'],ascending=True)"
   ]
  },
  {
   "cell_type": "markdown",
   "metadata": {},
   "source": [
    "**Assumption 1: Transaction amount of 'address_verification' is 0; there is no effect in modeling part. Hence, I removed the transactions whose type is 'address_verification'.**"
   ]
  },
  {
   "cell_type": "code",
   "execution_count": 35,
   "metadata": {},
   "outputs": [],
   "source": [
    "# remove the observations including 'ADDRESS_VERIIFICATION'\n",
    "card_data=card_data.reset_index(drop=True)\n",
    "card_data=card_data[-(card_data.transactionType=='ADDRESS_VERIFICATION')]\n",
    "card_data=card_data.reset_index(drop=True)"
   ]
  },
  {
   "cell_type": "markdown",
   "metadata": {},
   "source": [
    "**Assumption 2: I suppose that purchase and reversal transactions are successive and the same $ amount. Hence, I took indexes of reversal transactions and purchase transactions by using 'transactionType' feature.**"
   ]
  },
  {
   "cell_type": "code",
   "execution_count": 36,
   "metadata": {},
   "outputs": [],
   "source": [
    "reversal_index=card_data[card_data['transactionType']=='REVERSAL'].index.values.astype(int)"
   ]
  },
  {
   "cell_type": "code",
   "execution_count": 37,
   "metadata": {},
   "outputs": [
    {
     "data": {
      "text/html": [
       "<div>\n",
       "<style scoped>\n",
       "    .dataframe tbody tr th:only-of-type {\n",
       "        vertical-align: middle;\n",
       "    }\n",
       "\n",
       "    .dataframe tbody tr th {\n",
       "        vertical-align: top;\n",
       "    }\n",
       "\n",
       "    .dataframe thead th {\n",
       "        text-align: right;\n",
       "    }\n",
       "</style>\n",
       "<table border=\"1\" class=\"dataframe\">\n",
       "  <thead>\n",
       "    <tr style=\"text-align: right;\">\n",
       "      <th></th>\n",
       "      <th>customerId</th>\n",
       "      <th>merchantName</th>\n",
       "      <th>transactionAmount</th>\n",
       "      <th>transactionType</th>\n",
       "      <th>transactionKey</th>\n",
       "      <th>Timestamp</th>\n",
       "    </tr>\n",
       "  </thead>\n",
       "  <tbody>\n",
       "    <tr>\n",
       "      <th>13</th>\n",
       "      <td>100088067</td>\n",
       "      <td>AMC #79863</td>\n",
       "      <td>22.32</td>\n",
       "      <td>REVERSAL</td>\n",
       "      <td>T541964</td>\n",
       "      <td>2016-11-20 08:00:04</td>\n",
       "    </tr>\n",
       "    <tr>\n",
       "      <th>124</th>\n",
       "      <td>100328049</td>\n",
       "      <td>Lyft</td>\n",
       "      <td>43.74</td>\n",
       "      <td>REVERSAL</td>\n",
       "      <td>T87920</td>\n",
       "      <td>2016-01-15 20:36:18</td>\n",
       "    </tr>\n",
       "  </tbody>\n",
       "</table>\n",
       "</div>"
      ],
      "text/plain": [
       "     customerId merchantName  transactionAmount transactionType  \\\n",
       "13    100088067   AMC #79863              22.32        REVERSAL   \n",
       "124   100328049         Lyft              43.74        REVERSAL   \n",
       "\n",
       "    transactionKey           Timestamp  \n",
       "13         T541964 2016-11-20 08:00:04  \n",
       "124         T87920 2016-01-15 20:36:18  "
      ]
     },
     "execution_count": 37,
     "metadata": {},
     "output_type": "execute_result"
    }
   ],
   "source": [
    "second_reversal=card_data.iloc[reversal_index]\n",
    "second_reversal.head(2)"
   ]
  },
  {
   "cell_type": "code",
   "execution_count": 38,
   "metadata": {},
   "outputs": [],
   "source": [
    "previous_index=reversal_index-1"
   ]
  },
  {
   "cell_type": "code",
   "execution_count": 39,
   "metadata": {},
   "outputs": [
    {
     "data": {
      "text/html": [
       "<div>\n",
       "<style scoped>\n",
       "    .dataframe tbody tr th:only-of-type {\n",
       "        vertical-align: middle;\n",
       "    }\n",
       "\n",
       "    .dataframe tbody tr th {\n",
       "        vertical-align: top;\n",
       "    }\n",
       "\n",
       "    .dataframe thead th {\n",
       "        text-align: right;\n",
       "    }\n",
       "</style>\n",
       "<table border=\"1\" class=\"dataframe\">\n",
       "  <thead>\n",
       "    <tr style=\"text-align: right;\">\n",
       "      <th></th>\n",
       "      <th>customerId</th>\n",
       "      <th>merchantName</th>\n",
       "      <th>transactionAmount</th>\n",
       "      <th>transactionType</th>\n",
       "      <th>transactionKey</th>\n",
       "      <th>Timestamp</th>\n",
       "    </tr>\n",
       "  </thead>\n",
       "  <tbody>\n",
       "    <tr>\n",
       "      <th>12</th>\n",
       "      <td>100088067</td>\n",
       "      <td>AMC #79863</td>\n",
       "      <td>22.32</td>\n",
       "      <td>PURCHASE</td>\n",
       "      <td>T541963</td>\n",
       "      <td>2016-11-20 07:57:05</td>\n",
       "    </tr>\n",
       "    <tr>\n",
       "      <th>123</th>\n",
       "      <td>100328049</td>\n",
       "      <td>Lyft</td>\n",
       "      <td>43.74</td>\n",
       "      <td>PURCHASE</td>\n",
       "      <td>T87919</td>\n",
       "      <td>2016-01-15 20:34:35</td>\n",
       "    </tr>\n",
       "  </tbody>\n",
       "</table>\n",
       "</div>"
      ],
      "text/plain": [
       "     customerId merchantName  transactionAmount transactionType  \\\n",
       "12    100088067   AMC #79863              22.32        PURCHASE   \n",
       "123   100328049         Lyft              43.74        PURCHASE   \n",
       "\n",
       "    transactionKey           Timestamp  \n",
       "12         T541963 2016-11-20 07:57:05  \n",
       "123         T87919 2016-01-15 20:34:35  "
      ]
     },
     "execution_count": 39,
     "metadata": {},
     "output_type": "execute_result"
    }
   ],
   "source": [
    "first_reversal=card_data.iloc[previous_index]\n",
    "first_reversal.head(2)"
   ]
  },
  {
   "cell_type": "markdown",
   "metadata": {},
   "source": [
    "**I created the dataframe which demonstrates indexes and transaction amounts of purchase and reversal transactions. Then, I realized that purchase transactions and its reversal transactions do not have to be consecutive.**"
   ]
  },
  {
   "cell_type": "code",
   "execution_count": 40,
   "metadata": {},
   "outputs": [],
   "source": [
    "previndex=pd.DataFrame(previous_index)\n",
    "previndex.columns=['Purchase_Index'] # rename columns"
   ]
  },
  {
   "cell_type": "code",
   "execution_count": 41,
   "metadata": {},
   "outputs": [],
   "source": [
    "revindex=pd.DataFrame(reversal_index)\n",
    "revindex.columns=['Reversal_Index'] # rename columns"
   ]
  },
  {
   "cell_type": "code",
   "execution_count": 42,
   "metadata": {},
   "outputs": [],
   "source": [
    "firstreverse=pd.DataFrame(first_reversal['transactionAmount'].values)\n",
    "firstreverse.columns=['Purchase_Amount'] # rename columns"
   ]
  },
  {
   "cell_type": "code",
   "execution_count": 43,
   "metadata": {},
   "outputs": [],
   "source": [
    "secondreverse=pd.DataFrame(second_reversal['transactionAmount'].values)\n",
    "secondreverse.columns=['Reversal_Amount'] # rename columns"
   ]
  },
  {
   "cell_type": "code",
   "execution_count": 44,
   "metadata": {},
   "outputs": [
    {
     "data": {
      "text/html": [
       "<div>\n",
       "<style scoped>\n",
       "    .dataframe tbody tr th:only-of-type {\n",
       "        vertical-align: middle;\n",
       "    }\n",
       "\n",
       "    .dataframe tbody tr th {\n",
       "        vertical-align: top;\n",
       "    }\n",
       "\n",
       "    .dataframe thead th {\n",
       "        text-align: right;\n",
       "    }\n",
       "</style>\n",
       "<table border=\"1\" class=\"dataframe\">\n",
       "  <thead>\n",
       "    <tr style=\"text-align: right;\">\n",
       "      <th></th>\n",
       "      <th>Purchase_Index</th>\n",
       "      <th>Purchase_Amount</th>\n",
       "      <th>Reversal_Index</th>\n",
       "      <th>Reversal_Amount</th>\n",
       "    </tr>\n",
       "  </thead>\n",
       "  <tbody>\n",
       "    <tr>\n",
       "      <th>0</th>\n",
       "      <td>12</td>\n",
       "      <td>22.32</td>\n",
       "      <td>13</td>\n",
       "      <td>22.32</td>\n",
       "    </tr>\n",
       "    <tr>\n",
       "      <th>1</th>\n",
       "      <td>123</td>\n",
       "      <td>43.74</td>\n",
       "      <td>124</td>\n",
       "      <td>43.74</td>\n",
       "    </tr>\n",
       "    <tr>\n",
       "      <th>2</th>\n",
       "      <td>139</td>\n",
       "      <td>284.97</td>\n",
       "      <td>140</td>\n",
       "      <td>284.97</td>\n",
       "    </tr>\n",
       "    <tr>\n",
       "      <th>3</th>\n",
       "      <td>262</td>\n",
       "      <td>93.67</td>\n",
       "      <td>263</td>\n",
       "      <td>93.67</td>\n",
       "    </tr>\n",
       "    <tr>\n",
       "      <th>4</th>\n",
       "      <td>277</td>\n",
       "      <td>501.29</td>\n",
       "      <td>278</td>\n",
       "      <td>501.29</td>\n",
       "    </tr>\n",
       "  </tbody>\n",
       "</table>\n",
       "</div>"
      ],
      "text/plain": [
       "   Purchase_Index  Purchase_Amount  Reversal_Index  Reversal_Amount\n",
       "0              12            22.32              13            22.32\n",
       "1             123            43.74             124            43.74\n",
       "2             139           284.97             140           284.97\n",
       "3             262            93.67             263            93.67\n",
       "4             277           501.29             278           501.29"
      ]
     },
     "execution_count": 44,
     "metadata": {},
     "output_type": "execute_result"
    }
   ],
   "source": [
    "logic=pd.concat([previndex,firstreverse,revindex,secondreverse],axis=1) # merge all dataframes vertically\n",
    "logic.head()"
   ]
  },
  {
   "cell_type": "code",
   "execution_count": 45,
   "metadata": {},
   "outputs": [],
   "source": [
    "logic['NotEqual']=logic[['Purchase_Amount','Reversal_Amount']].apply(lambda x: True if (x[0]!=x[1]) else False,axis=1)"
   ]
  },
  {
   "cell_type": "code",
   "execution_count": 46,
   "metadata": {},
   "outputs": [],
   "source": [
    "logic=logic[-(logic.Reversal_Amount==0)] # exlude the transactions whose amount is $0."
   ]
  },
  {
   "cell_type": "code",
   "execution_count": 47,
   "metadata": {},
   "outputs": [
    {
     "data": {
      "text/plain": [
       "False    12665\n",
       "True      7066\n",
       "Name: NotEqual, dtype: int64"
      ]
     },
     "execution_count": 47,
     "metadata": {},
     "output_type": "execute_result"
    }
   ],
   "source": [
    "logic.NotEqual.value_counts() # check whether purchase and reversal transactions are successive or not"
   ]
  },
  {
   "cell_type": "markdown",
   "metadata": {},
   "source": [
    "**I saved the transactions whose purchase and reversal types are consecutive (size:12665)**"
   ]
  },
  {
   "cell_type": "code",
   "execution_count": 48,
   "metadata": {},
   "outputs": [],
   "source": [
    "capture1=logic.loc[logic['NotEqual'] == False, 'Reversal_Index'].values #take reversal indexes\n",
    "capture2=logic.loc[logic['NotEqual'] == False, 'Purchase_Index'].values #take purchase indexes\n",
    "cpt=np.concatenate((capture1, capture2)) # combine two arrays\n",
    "cpt1=card_data.iloc[cpt] # take dataframe regarding these indexes"
   ]
  },
  {
   "cell_type": "code",
   "execution_count": 49,
   "metadata": {},
   "outputs": [
    {
     "data": {
      "text/html": [
       "<div>\n",
       "<style scoped>\n",
       "    .dataframe tbody tr th:only-of-type {\n",
       "        vertical-align: middle;\n",
       "    }\n",
       "\n",
       "    .dataframe tbody tr th {\n",
       "        vertical-align: top;\n",
       "    }\n",
       "\n",
       "    .dataframe thead th {\n",
       "        text-align: right;\n",
       "    }\n",
       "</style>\n",
       "<table border=\"1\" class=\"dataframe\">\n",
       "  <thead>\n",
       "    <tr style=\"text-align: right;\">\n",
       "      <th></th>\n",
       "      <th>customerId</th>\n",
       "      <th>merchantName</th>\n",
       "      <th>transactionAmount</th>\n",
       "      <th>transactionType</th>\n",
       "      <th>transactionKey</th>\n",
       "      <th>Timestamp</th>\n",
       "    </tr>\n",
       "  </thead>\n",
       "  <tbody>\n",
       "    <tr>\n",
       "      <th>12</th>\n",
       "      <td>100088067</td>\n",
       "      <td>AMC #79863</td>\n",
       "      <td>22.32</td>\n",
       "      <td>PURCHASE</td>\n",
       "      <td>T541963</td>\n",
       "      <td>2016-11-20 07:57:05</td>\n",
       "    </tr>\n",
       "    <tr>\n",
       "      <th>13</th>\n",
       "      <td>100088067</td>\n",
       "      <td>AMC #79863</td>\n",
       "      <td>22.32</td>\n",
       "      <td>REVERSAL</td>\n",
       "      <td>T541964</td>\n",
       "      <td>2016-11-20 08:00:04</td>\n",
       "    </tr>\n",
       "    <tr>\n",
       "      <th>123</th>\n",
       "      <td>100328049</td>\n",
       "      <td>Lyft</td>\n",
       "      <td>43.74</td>\n",
       "      <td>PURCHASE</td>\n",
       "      <td>T87919</td>\n",
       "      <td>2016-01-15 20:34:35</td>\n",
       "    </tr>\n",
       "  </tbody>\n",
       "</table>\n",
       "</div>"
      ],
      "text/plain": [
       "     customerId merchantName  transactionAmount transactionType  \\\n",
       "12    100088067   AMC #79863              22.32        PURCHASE   \n",
       "13    100088067   AMC #79863              22.32        REVERSAL   \n",
       "123   100328049         Lyft              43.74        PURCHASE   \n",
       "\n",
       "    transactionKey           Timestamp  \n",
       "12         T541963 2016-11-20 07:57:05  \n",
       "13         T541964 2016-11-20 08:00:04  \n",
       "123         T87919 2016-01-15 20:34:35  "
      ]
     },
     "execution_count": 49,
     "metadata": {},
     "output_type": "execute_result"
    }
   ],
   "source": [
    "cpt1=cpt1.sort_values(by=['customerId','merchantName','Timestamp'],ascending=True)\n",
    "cpt1.head(3)"
   ]
  },
  {
   "cell_type": "code",
   "execution_count": 50,
   "metadata": {},
   "outputs": [
    {
     "data": {
      "text/plain": [
       "REVERSAL    12665\n",
       "PURCHASE    12665\n",
       "Name: transactionType, dtype: int64"
      ]
     },
     "execution_count": 50,
     "metadata": {},
     "output_type": "execute_result"
    }
   ],
   "source": [
    "cpt1.transactionType.value_counts() # check the distribution"
   ]
  },
  {
   "cell_type": "code",
   "execution_count": 51,
   "metadata": {},
   "outputs": [
    {
     "data": {
      "text/html": [
       "<div>\n",
       "<style scoped>\n",
       "    .dataframe tbody tr th:only-of-type {\n",
       "        vertical-align: middle;\n",
       "    }\n",
       "\n",
       "    .dataframe tbody tr th {\n",
       "        vertical-align: top;\n",
       "    }\n",
       "\n",
       "    .dataframe thead th {\n",
       "        text-align: right;\n",
       "    }\n",
       "</style>\n",
       "<table border=\"1\" class=\"dataframe\">\n",
       "  <thead>\n",
       "    <tr style=\"text-align: right;\">\n",
       "      <th></th>\n",
       "      <th>customerId</th>\n",
       "      <th>merchantName</th>\n",
       "      <th>transactionAmount</th>\n",
       "      <th>transactionType</th>\n",
       "      <th>transactionKey</th>\n",
       "      <th>Timestamp</th>\n",
       "      <th>ID</th>\n",
       "    </tr>\n",
       "  </thead>\n",
       "  <tbody>\n",
       "    <tr>\n",
       "      <th>12</th>\n",
       "      <td>100088067</td>\n",
       "      <td>AMC #79863</td>\n",
       "      <td>22.32</td>\n",
       "      <td>PURCHASE</td>\n",
       "      <td>T541963</td>\n",
       "      <td>2016-11-20 07:57:05</td>\n",
       "      <td>100088067-AMC #79863</td>\n",
       "    </tr>\n",
       "    <tr>\n",
       "      <th>13</th>\n",
       "      <td>100088067</td>\n",
       "      <td>AMC #79863</td>\n",
       "      <td>22.32</td>\n",
       "      <td>REVERSAL</td>\n",
       "      <td>T541964</td>\n",
       "      <td>2016-11-20 08:00:04</td>\n",
       "      <td>100088067-AMC #79863</td>\n",
       "    </tr>\n",
       "    <tr>\n",
       "      <th>123</th>\n",
       "      <td>100328049</td>\n",
       "      <td>Lyft</td>\n",
       "      <td>43.74</td>\n",
       "      <td>PURCHASE</td>\n",
       "      <td>T87919</td>\n",
       "      <td>2016-01-15 20:34:35</td>\n",
       "      <td>100328049-Lyft</td>\n",
       "    </tr>\n",
       "    <tr>\n",
       "      <th>124</th>\n",
       "      <td>100328049</td>\n",
       "      <td>Lyft</td>\n",
       "      <td>43.74</td>\n",
       "      <td>REVERSAL</td>\n",
       "      <td>T87920</td>\n",
       "      <td>2016-01-15 20:36:18</td>\n",
       "      <td>100328049-Lyft</td>\n",
       "    </tr>\n",
       "    <tr>\n",
       "      <th>139</th>\n",
       "      <td>100328049</td>\n",
       "      <td>McDonalds #423357</td>\n",
       "      <td>284.97</td>\n",
       "      <td>PURCHASE</td>\n",
       "      <td>T87935</td>\n",
       "      <td>2016-03-24 22:57:15</td>\n",
       "      <td>100328049-McDonalds #423357</td>\n",
       "    </tr>\n",
       "  </tbody>\n",
       "</table>\n",
       "</div>"
      ],
      "text/plain": [
       "     customerId       merchantName  transactionAmount transactionType  \\\n",
       "12    100088067         AMC #79863              22.32        PURCHASE   \n",
       "13    100088067         AMC #79863              22.32        REVERSAL   \n",
       "123   100328049               Lyft              43.74        PURCHASE   \n",
       "124   100328049               Lyft              43.74        REVERSAL   \n",
       "139   100328049  McDonalds #423357             284.97        PURCHASE   \n",
       "\n",
       "    transactionKey           Timestamp                           ID  \n",
       "12         T541963 2016-11-20 07:57:05         100088067-AMC #79863  \n",
       "13         T541964 2016-11-20 08:00:04         100088067-AMC #79863  \n",
       "123         T87919 2016-01-15 20:34:35               100328049-Lyft  \n",
       "124         T87920 2016-01-15 20:36:18               100328049-Lyft  \n",
       "139         T87935 2016-03-24 22:57:15  100328049-McDonalds #423357  "
      ]
     },
     "execution_count": 51,
     "metadata": {},
     "output_type": "execute_result"
    }
   ],
   "source": [
    "warnings.filterwarnings(\"ignore\")\n",
    "cpt1['ID'] = cpt1.customerId.map(str) + \"-\" + cpt1.merchantName\n",
    "cpt1.head()"
   ]
  },
  {
   "cell_type": "markdown",
   "metadata": {},
   "source": [
    "**I will capture purchase transactions associated to 7066 reversal observations in the later step.**"
   ]
  },
  {
   "cell_type": "code",
   "execution_count": 52,
   "metadata": {},
   "outputs": [],
   "source": [
    "rvs=logic.loc[logic['NotEqual'] == True, 'Reversal_Index'].values "
   ]
  },
  {
   "cell_type": "code",
   "execution_count": 53,
   "metadata": {},
   "outputs": [],
   "source": [
    "nexts=card_data.iloc[rvs]"
   ]
  },
  {
   "cell_type": "code",
   "execution_count": 54,
   "metadata": {},
   "outputs": [
    {
     "data": {
      "text/html": [
       "<div>\n",
       "<style scoped>\n",
       "    .dataframe tbody tr th:only-of-type {\n",
       "        vertical-align: middle;\n",
       "    }\n",
       "\n",
       "    .dataframe tbody tr th {\n",
       "        vertical-align: top;\n",
       "    }\n",
       "\n",
       "    .dataframe thead th {\n",
       "        text-align: right;\n",
       "    }\n",
       "</style>\n",
       "<table border=\"1\" class=\"dataframe\">\n",
       "  <thead>\n",
       "    <tr style=\"text-align: right;\">\n",
       "      <th></th>\n",
       "      <th>customerId</th>\n",
       "      <th>merchantName</th>\n",
       "      <th>transactionAmount</th>\n",
       "      <th>transactionType</th>\n",
       "      <th>transactionKey</th>\n",
       "      <th>Timestamp</th>\n",
       "    </tr>\n",
       "  </thead>\n",
       "  <tbody>\n",
       "    <tr>\n",
       "      <th>669</th>\n",
       "      <td>101380713</td>\n",
       "      <td>sears.com</td>\n",
       "      <td>5.03</td>\n",
       "      <td>REVERSAL</td>\n",
       "      <td>T3010</td>\n",
       "      <td>2016-06-22 22:10:22</td>\n",
       "    </tr>\n",
       "    <tr>\n",
       "      <th>848</th>\n",
       "      <td>101661970</td>\n",
       "      <td>American Airlines</td>\n",
       "      <td>18.15</td>\n",
       "      <td>REVERSAL</td>\n",
       "      <td>T470094</td>\n",
       "      <td>2016-04-24 14:03:36</td>\n",
       "    </tr>\n",
       "    <tr>\n",
       "      <th>1047</th>\n",
       "      <td>101738384</td>\n",
       "      <td>discount.com</td>\n",
       "      <td>174.92</td>\n",
       "      <td>REVERSAL</td>\n",
       "      <td>T736347</td>\n",
       "      <td>2016-03-17 05:37:44</td>\n",
       "    </tr>\n",
       "    <tr>\n",
       "      <th>1161</th>\n",
       "      <td>101738384</td>\n",
       "      <td>staples.com</td>\n",
       "      <td>954.71</td>\n",
       "      <td>REVERSAL</td>\n",
       "      <td>T736421</td>\n",
       "      <td>2016-06-11 00:47:21</td>\n",
       "    </tr>\n",
       "    <tr>\n",
       "      <th>1329</th>\n",
       "      <td>101876201</td>\n",
       "      <td>discount.com</td>\n",
       "      <td>163.75</td>\n",
       "      <td>REVERSAL</td>\n",
       "      <td>T542091</td>\n",
       "      <td>2016-06-28 10:10:22</td>\n",
       "    </tr>\n",
       "  </tbody>\n",
       "</table>\n",
       "</div>"
      ],
      "text/plain": [
       "      customerId       merchantName  transactionAmount transactionType  \\\n",
       "669    101380713          sears.com               5.03        REVERSAL   \n",
       "848    101661970  American Airlines              18.15        REVERSAL   \n",
       "1047   101738384       discount.com             174.92        REVERSAL   \n",
       "1161   101738384        staples.com             954.71        REVERSAL   \n",
       "1329   101876201       discount.com             163.75        REVERSAL   \n",
       "\n",
       "     transactionKey           Timestamp  \n",
       "669           T3010 2016-06-22 22:10:22  \n",
       "848         T470094 2016-04-24 14:03:36  \n",
       "1047        T736347 2016-03-17 05:37:44  \n",
       "1161        T736421 2016-06-11 00:47:21  \n",
       "1329        T542091 2016-06-28 10:10:22  "
      ]
     },
     "execution_count": 54,
     "metadata": {},
     "output_type": "execute_result"
    }
   ],
   "source": [
    "nexts.head(5)"
   ]
  },
  {
   "cell_type": "code",
   "execution_count": 55,
   "metadata": {},
   "outputs": [
    {
     "data": {
      "text/plain": [
       "7066"
      ]
     },
     "execution_count": 55,
     "metadata": {},
     "output_type": "execute_result"
    }
   ],
   "source": [
    "nexts.transactionKey.nunique()"
   ]
  },
  {
   "cell_type": "code",
   "execution_count": 56,
   "metadata": {},
   "outputs": [],
   "source": [
    "card_upd=card_data[-(card_data.transactionType=='REVERSAL')]"
   ]
  },
  {
   "cell_type": "code",
   "execution_count": 57,
   "metadata": {},
   "outputs": [],
   "source": [
    "warnings.filterwarnings(\"ignore\")\n",
    "nexts['ID'] = nexts.customerId.map(str) + \"-\" + nexts.merchantName"
   ]
  },
  {
   "cell_type": "markdown",
   "metadata": {},
   "source": [
    "**I wrote the \"for loop\" below which helps exploring purchase transactions associated to reversal ones when they are not consecutive.**"
   ]
  },
  {
   "cell_type": "code",
   "execution_count": 58,
   "metadata": {},
   "outputs": [],
   "source": [
    "dfz={}\n",
    "for i in nexts.customerId.unique():\n",
    "    for j in nexts.merchantName.unique():\n",
    "        if str(i) + \"-\"+j in nexts.ID.unique():\n",
    "            inter=nexts[(nexts.customerId==i) & (nexts.merchantName==j)]\n",
    "            size=len(inter)\n",
    "            for k in range(size):\n",
    "                z=inter.iloc[k]\n",
    "                amnt=z.transactionAmount\n",
    "                df=card_upd[(card_upd.customerId==i) & (card_upd.merchantName==j)]\n",
    "                q=df[(df.transactionAmount==amnt)]\n",
    "            dfz[i,j,k]=q"
   ]
  },
  {
   "cell_type": "markdown",
   "metadata": {},
   "source": [
    "**After, I created the dataframe to combine all purchase transactions associated to reversal ones.**"
   ]
  },
  {
   "cell_type": "code",
   "execution_count": 59,
   "metadata": {},
   "outputs": [
    {
     "data": {
      "text/html": [
       "<div>\n",
       "<style scoped>\n",
       "    .dataframe tbody tr th:only-of-type {\n",
       "        vertical-align: middle;\n",
       "    }\n",
       "\n",
       "    .dataframe tbody tr th {\n",
       "        vertical-align: top;\n",
       "    }\n",
       "\n",
       "    .dataframe thead th {\n",
       "        text-align: right;\n",
       "    }\n",
       "</style>\n",
       "<table border=\"1\" class=\"dataframe\">\n",
       "  <thead>\n",
       "    <tr style=\"text-align: right;\">\n",
       "      <th></th>\n",
       "      <th>customerId</th>\n",
       "      <th>merchantName</th>\n",
       "      <th>transactionAmount</th>\n",
       "      <th>transactionType</th>\n",
       "      <th>transactionKey</th>\n",
       "      <th>Timestamp</th>\n",
       "    </tr>\n",
       "  </thead>\n",
       "  <tbody>\n",
       "    <tr>\n",
       "      <th>0</th>\n",
       "      <td>101738384</td>\n",
       "      <td>discount.com</td>\n",
       "      <td>174.92</td>\n",
       "      <td>PURCHASE</td>\n",
       "      <td>T736332</td>\n",
       "      <td>2016-03-03 19:51:21</td>\n",
       "    </tr>\n",
       "    <tr>\n",
       "      <th>1</th>\n",
       "      <td>101738384</td>\n",
       "      <td>staples.com</td>\n",
       "      <td>954.71</td>\n",
       "      <td>PURCHASE</td>\n",
       "      <td>T736406</td>\n",
       "      <td>2016-05-26 07:14:32</td>\n",
       "    </tr>\n",
       "    <tr>\n",
       "      <th>2</th>\n",
       "      <td>102755773</td>\n",
       "      <td>gap.com</td>\n",
       "      <td>81.69</td>\n",
       "      <td>PURCHASE</td>\n",
       "      <td>T690279</td>\n",
       "      <td>2016-10-08 21:12:06</td>\n",
       "    </tr>\n",
       "    <tr>\n",
       "      <th>3</th>\n",
       "      <td>102755773</td>\n",
       "      <td>target.com</td>\n",
       "      <td>53.78</td>\n",
       "      <td>PURCHASE</td>\n",
       "      <td>T690011</td>\n",
       "      <td>2016-01-29 19:10:40</td>\n",
       "    </tr>\n",
       "    <tr>\n",
       "      <th>4</th>\n",
       "      <td>102980467</td>\n",
       "      <td>Seattle News</td>\n",
       "      <td>303.61</td>\n",
       "      <td>PURCHASE</td>\n",
       "      <td>T32965</td>\n",
       "      <td>2016-06-04 22:48:56</td>\n",
       "    </tr>\n",
       "  </tbody>\n",
       "</table>\n",
       "</div>"
      ],
      "text/plain": [
       "   customerId  merchantName  transactionAmount transactionType transactionKey  \\\n",
       "0   101738384  discount.com             174.92        PURCHASE        T736332   \n",
       "1   101738384   staples.com             954.71        PURCHASE        T736406   \n",
       "2   102755773       gap.com              81.69        PURCHASE        T690279   \n",
       "3   102755773    target.com              53.78        PURCHASE        T690011   \n",
       "4   102980467  Seattle News             303.61        PURCHASE         T32965   \n",
       "\n",
       "            Timestamp  \n",
       "0 2016-03-03 19:51:21  \n",
       "1 2016-05-26 07:14:32  \n",
       "2 2016-10-08 21:12:06  \n",
       "3 2016-01-29 19:10:40  \n",
       "4 2016-06-04 22:48:56  "
      ]
     },
     "execution_count": 59,
     "metadata": {},
     "output_type": "execute_result"
    }
   ],
   "source": [
    "nrow=len(dfz.keys())\n",
    "df_upd_data=pd.DataFrame()\n",
    "for i in range(nrow):\n",
    "    df_inter=dfz[[*dfz.keys()][i]]\n",
    "    df_upd_data=df_upd_data.append(df_inter)\n",
    "df_upd_data=df_upd_data.reset_index(drop=True)\n",
    "df_upd_data.head()"
   ]
  },
  {
   "cell_type": "code",
   "execution_count": 60,
   "metadata": {},
   "outputs": [
    {
     "data": {
      "text/html": [
       "<div>\n",
       "<style scoped>\n",
       "    .dataframe tbody tr th:only-of-type {\n",
       "        vertical-align: middle;\n",
       "    }\n",
       "\n",
       "    .dataframe tbody tr th {\n",
       "        vertical-align: top;\n",
       "    }\n",
       "\n",
       "    .dataframe thead th {\n",
       "        text-align: right;\n",
       "    }\n",
       "</style>\n",
       "<table border=\"1\" class=\"dataframe\">\n",
       "  <thead>\n",
       "    <tr style=\"text-align: right;\">\n",
       "      <th></th>\n",
       "      <th>customerId</th>\n",
       "      <th>merchantName</th>\n",
       "      <th>transactionAmount</th>\n",
       "      <th>transactionType</th>\n",
       "      <th>transactionKey</th>\n",
       "      <th>Timestamp</th>\n",
       "      <th>ID</th>\n",
       "    </tr>\n",
       "  </thead>\n",
       "  <tbody>\n",
       "    <tr>\n",
       "      <th>0</th>\n",
       "      <td>101738384</td>\n",
       "      <td>discount.com</td>\n",
       "      <td>174.92</td>\n",
       "      <td>PURCHASE</td>\n",
       "      <td>T736332</td>\n",
       "      <td>2016-03-03 19:51:21</td>\n",
       "      <td>101738384-discount.com</td>\n",
       "    </tr>\n",
       "    <tr>\n",
       "      <th>1</th>\n",
       "      <td>101738384</td>\n",
       "      <td>staples.com</td>\n",
       "      <td>954.71</td>\n",
       "      <td>PURCHASE</td>\n",
       "      <td>T736406</td>\n",
       "      <td>2016-05-26 07:14:32</td>\n",
       "      <td>101738384-staples.com</td>\n",
       "    </tr>\n",
       "    <tr>\n",
       "      <th>2</th>\n",
       "      <td>102755773</td>\n",
       "      <td>gap.com</td>\n",
       "      <td>81.69</td>\n",
       "      <td>PURCHASE</td>\n",
       "      <td>T690279</td>\n",
       "      <td>2016-10-08 21:12:06</td>\n",
       "      <td>102755773-gap.com</td>\n",
       "    </tr>\n",
       "    <tr>\n",
       "      <th>3</th>\n",
       "      <td>102755773</td>\n",
       "      <td>target.com</td>\n",
       "      <td>53.78</td>\n",
       "      <td>PURCHASE</td>\n",
       "      <td>T690011</td>\n",
       "      <td>2016-01-29 19:10:40</td>\n",
       "      <td>102755773-target.com</td>\n",
       "    </tr>\n",
       "    <tr>\n",
       "      <th>4</th>\n",
       "      <td>102980467</td>\n",
       "      <td>Seattle News</td>\n",
       "      <td>303.61</td>\n",
       "      <td>PURCHASE</td>\n",
       "      <td>T32965</td>\n",
       "      <td>2016-06-04 22:48:56</td>\n",
       "      <td>102980467-Seattle News</td>\n",
       "    </tr>\n",
       "  </tbody>\n",
       "</table>\n",
       "</div>"
      ],
      "text/plain": [
       "   customerId  merchantName  transactionAmount transactionType transactionKey  \\\n",
       "0   101738384  discount.com             174.92        PURCHASE        T736332   \n",
       "1   101738384   staples.com             954.71        PURCHASE        T736406   \n",
       "2   102755773       gap.com              81.69        PURCHASE        T690279   \n",
       "3   102755773    target.com              53.78        PURCHASE        T690011   \n",
       "4   102980467  Seattle News             303.61        PURCHASE         T32965   \n",
       "\n",
       "            Timestamp                      ID  \n",
       "0 2016-03-03 19:51:21  101738384-discount.com  \n",
       "1 2016-05-26 07:14:32   101738384-staples.com  \n",
       "2 2016-10-08 21:12:06       102755773-gap.com  \n",
       "3 2016-01-29 19:10:40    102755773-target.com  \n",
       "4 2016-06-04 22:48:56  102980467-Seattle News  "
      ]
     },
     "execution_count": 60,
     "metadata": {},
     "output_type": "execute_result"
    }
   ],
   "source": [
    "warnings.filterwarnings(\"ignore\")\n",
    "df_upd_data['ID'] = df_upd_data.customerId.map(str) + \"-\" + df_upd_data.merchantName\n",
    "df_upd_data.head()"
   ]
  },
  {
   "cell_type": "code",
   "execution_count": 61,
   "metadata": {},
   "outputs": [
    {
     "data": {
      "text/html": [
       "<div>\n",
       "<style scoped>\n",
       "    .dataframe tbody tr th:only-of-type {\n",
       "        vertical-align: middle;\n",
       "    }\n",
       "\n",
       "    .dataframe tbody tr th {\n",
       "        vertical-align: top;\n",
       "    }\n",
       "\n",
       "    .dataframe thead th {\n",
       "        text-align: right;\n",
       "    }\n",
       "</style>\n",
       "<table border=\"1\" class=\"dataframe\">\n",
       "  <thead>\n",
       "    <tr style=\"text-align: right;\">\n",
       "      <th></th>\n",
       "      <th>customerId</th>\n",
       "      <th>merchantName</th>\n",
       "      <th>transactionAmount</th>\n",
       "      <th>transactionType</th>\n",
       "      <th>transactionKey</th>\n",
       "      <th>Timestamp</th>\n",
       "      <th>ID</th>\n",
       "    </tr>\n",
       "  </thead>\n",
       "  <tbody>\n",
       "    <tr>\n",
       "      <th>0</th>\n",
       "      <td>101380713</td>\n",
       "      <td>sears.com</td>\n",
       "      <td>5.03</td>\n",
       "      <td>REVERSAL</td>\n",
       "      <td>T3010</td>\n",
       "      <td>2016-06-22 22:10:22</td>\n",
       "      <td>101380713-sears.com</td>\n",
       "    </tr>\n",
       "    <tr>\n",
       "      <th>1</th>\n",
       "      <td>101661970</td>\n",
       "      <td>American Airlines</td>\n",
       "      <td>18.15</td>\n",
       "      <td>REVERSAL</td>\n",
       "      <td>T470094</td>\n",
       "      <td>2016-04-24 14:03:36</td>\n",
       "      <td>101661970-American Airlines</td>\n",
       "    </tr>\n",
       "    <tr>\n",
       "      <th>2</th>\n",
       "      <td>101738384</td>\n",
       "      <td>discount.com</td>\n",
       "      <td>174.92</td>\n",
       "      <td>PURCHASE</td>\n",
       "      <td>T736332</td>\n",
       "      <td>2016-03-03 19:51:21</td>\n",
       "      <td>101738384-discount.com</td>\n",
       "    </tr>\n",
       "    <tr>\n",
       "      <th>3</th>\n",
       "      <td>101738384</td>\n",
       "      <td>discount.com</td>\n",
       "      <td>174.92</td>\n",
       "      <td>REVERSAL</td>\n",
       "      <td>T736347</td>\n",
       "      <td>2016-03-17 05:37:44</td>\n",
       "      <td>101738384-discount.com</td>\n",
       "    </tr>\n",
       "    <tr>\n",
       "      <th>4</th>\n",
       "      <td>101738384</td>\n",
       "      <td>staples.com</td>\n",
       "      <td>954.71</td>\n",
       "      <td>PURCHASE</td>\n",
       "      <td>T736406</td>\n",
       "      <td>2016-05-26 07:14:32</td>\n",
       "      <td>101738384-staples.com</td>\n",
       "    </tr>\n",
       "  </tbody>\n",
       "</table>\n",
       "</div>"
      ],
      "text/plain": [
       "   customerId       merchantName  transactionAmount transactionType  \\\n",
       "0   101380713          sears.com               5.03        REVERSAL   \n",
       "1   101661970  American Airlines              18.15        REVERSAL   \n",
       "2   101738384       discount.com             174.92        PURCHASE   \n",
       "3   101738384       discount.com             174.92        REVERSAL   \n",
       "4   101738384        staples.com             954.71        PURCHASE   \n",
       "\n",
       "  transactionKey           Timestamp                           ID  \n",
       "0          T3010 2016-06-22 22:10:22          101380713-sears.com  \n",
       "1        T470094 2016-04-24 14:03:36  101661970-American Airlines  \n",
       "2        T736332 2016-03-03 19:51:21       101738384-discount.com  \n",
       "3        T736347 2016-03-17 05:37:44       101738384-discount.com  \n",
       "4        T736406 2016-05-26 07:14:32        101738384-staples.com  "
      ]
     },
     "execution_count": 61,
     "metadata": {},
     "output_type": "execute_result"
    }
   ],
   "source": [
    "cpt2=pd.concat([df_upd_data,nexts],axis=0)\n",
    "cpt2=cpt2.sort_values(by=['customerId','merchantName','Timestamp'],ascending=True)\n",
    "cpt2=cpt2.reset_index(drop=True)\n",
    "cpt2.head()"
   ]
  },
  {
   "cell_type": "code",
   "execution_count": 62,
   "metadata": {},
   "outputs": [
    {
     "data": {
      "text/plain": [
       "REVERSAL    7066\n",
       "PURCHASE    2798\n",
       "Name: transactionType, dtype: int64"
      ]
     },
     "execution_count": 62,
     "metadata": {},
     "output_type": "execute_result"
    }
   ],
   "source": [
    "cpt2.transactionType.value_counts()"
   ]
  },
  {
   "cell_type": "markdown",
   "metadata": {},
   "source": [
    "**Lessons Learned: I was not able to match 4268 reversal transactions. The possible reasons for this are 1. Data Quality 2. Transaction amount in purchase being different than the reversal amount.**"
   ]
  },
  {
   "cell_type": "code",
   "execution_count": 63,
   "metadata": {},
   "outputs": [
    {
     "data": {
      "text/html": [
       "<div>\n",
       "<style scoped>\n",
       "    .dataframe tbody tr th:only-of-type {\n",
       "        vertical-align: middle;\n",
       "    }\n",
       "\n",
       "    .dataframe tbody tr th {\n",
       "        vertical-align: top;\n",
       "    }\n",
       "\n",
       "    .dataframe thead th {\n",
       "        text-align: right;\n",
       "    }\n",
       "</style>\n",
       "<table border=\"1\" class=\"dataframe\">\n",
       "  <thead>\n",
       "    <tr style=\"text-align: right;\">\n",
       "      <th></th>\n",
       "      <th>customerId</th>\n",
       "      <th>merchantName</th>\n",
       "      <th>transactionAmount</th>\n",
       "      <th>transactionType</th>\n",
       "      <th>transactionKey</th>\n",
       "      <th>Timestamp</th>\n",
       "      <th>ID</th>\n",
       "    </tr>\n",
       "  </thead>\n",
       "  <tbody>\n",
       "    <tr>\n",
       "      <th>0</th>\n",
       "      <td>100088067</td>\n",
       "      <td>AMC #79863</td>\n",
       "      <td>22.32</td>\n",
       "      <td>PURCHASE</td>\n",
       "      <td>T541963</td>\n",
       "      <td>2016-11-20 07:57:05</td>\n",
       "      <td>100088067-AMC #79863</td>\n",
       "    </tr>\n",
       "    <tr>\n",
       "      <th>1</th>\n",
       "      <td>100088067</td>\n",
       "      <td>AMC #79863</td>\n",
       "      <td>22.32</td>\n",
       "      <td>REVERSAL</td>\n",
       "      <td>T541964</td>\n",
       "      <td>2016-11-20 08:00:04</td>\n",
       "      <td>100088067-AMC #79863</td>\n",
       "    </tr>\n",
       "    <tr>\n",
       "      <th>2</th>\n",
       "      <td>100328049</td>\n",
       "      <td>Lyft</td>\n",
       "      <td>43.74</td>\n",
       "      <td>PURCHASE</td>\n",
       "      <td>T87919</td>\n",
       "      <td>2016-01-15 20:34:35</td>\n",
       "      <td>100328049-Lyft</td>\n",
       "    </tr>\n",
       "    <tr>\n",
       "      <th>3</th>\n",
       "      <td>100328049</td>\n",
       "      <td>Lyft</td>\n",
       "      <td>43.74</td>\n",
       "      <td>REVERSAL</td>\n",
       "      <td>T87920</td>\n",
       "      <td>2016-01-15 20:36:18</td>\n",
       "      <td>100328049-Lyft</td>\n",
       "    </tr>\n",
       "    <tr>\n",
       "      <th>4</th>\n",
       "      <td>100328049</td>\n",
       "      <td>McDonalds #423357</td>\n",
       "      <td>284.97</td>\n",
       "      <td>PURCHASE</td>\n",
       "      <td>T87935</td>\n",
       "      <td>2016-03-24 22:57:15</td>\n",
       "      <td>100328049-McDonalds #423357</td>\n",
       "    </tr>\n",
       "  </tbody>\n",
       "</table>\n",
       "</div>"
      ],
      "text/plain": [
       "   customerId       merchantName  transactionAmount transactionType  \\\n",
       "0   100088067         AMC #79863              22.32        PURCHASE   \n",
       "1   100088067         AMC #79863              22.32        REVERSAL   \n",
       "2   100328049               Lyft              43.74        PURCHASE   \n",
       "3   100328049               Lyft              43.74        REVERSAL   \n",
       "4   100328049  McDonalds #423357             284.97        PURCHASE   \n",
       "\n",
       "  transactionKey           Timestamp                           ID  \n",
       "0        T541963 2016-11-20 07:57:05         100088067-AMC #79863  \n",
       "1        T541964 2016-11-20 08:00:04         100088067-AMC #79863  \n",
       "2         T87919 2016-01-15 20:34:35               100328049-Lyft  \n",
       "3         T87920 2016-01-15 20:36:18               100328049-Lyft  \n",
       "4         T87935 2016-03-24 22:57:15  100328049-McDonalds #423357  "
      ]
     },
     "execution_count": 63,
     "metadata": {},
     "output_type": "execute_result"
    }
   ],
   "source": [
    "all_reversal=pd.concat([cpt1,cpt2],axis=0).reset_index(drop=True)\n",
    "all_reversal.head()"
   ]
  },
  {
   "cell_type": "code",
   "execution_count": 64,
   "metadata": {},
   "outputs": [
    {
     "data": {
      "text/plain": [
       "REVERSAL    19731\n",
       "PURCHASE    15463\n",
       "Name: transactionType, dtype: int64"
      ]
     },
     "execution_count": 64,
     "metadata": {},
     "output_type": "execute_result"
    }
   ],
   "source": [
    "all_reversal['transactionType'].value_counts()"
   ]
  },
  {
   "cell_type": "code",
   "execution_count": 65,
   "metadata": {},
   "outputs": [
    {
     "data": {
      "text/plain": [
       "transactionType\n",
       "PURCHASE    2322179.48\n",
       "REVERSAL    2821792.50\n",
       "Name: transactionAmount, dtype: float64"
      ]
     },
     "execution_count": 65,
     "metadata": {},
     "output_type": "execute_result"
    }
   ],
   "source": [
    "all_reversal.groupby(['transactionType']).sum()['transactionAmount']"
   ]
  },
  {
   "cell_type": "code",
   "execution_count": 66,
   "metadata": {},
   "outputs": [],
   "source": [
    "# validate my work by checking it via Excel\n",
    "#q=deneme[deneme.customerId==111113489]\n",
    "#q.to_csv('secondcust_valid.csv',index=False)"
   ]
  },
  {
   "cell_type": "markdown",
   "metadata": {},
   "source": [
    "**Question 3-part a: What total number of transactions and total dollar amount do you estimate for the reversed transactions?**"
   ]
  },
  {
   "cell_type": "markdown",
   "metadata": {},
   "source": [
    "**Final-1: As a result of my analysis, I found 15463 reversal transactions and total dollar value of these are $2,322,179.**"
   ]
  },
  {
   "cell_type": "markdown",
   "metadata": {},
   "source": [
    "**Final-2: I was not able to find purchase associated to reversal transactions (4268) that corresponds to $499,613.02.**"
   ]
  },
  {
   "cell_type": "markdown",
   "metadata": {},
   "source": [
    "------"
   ]
  },
  {
   "cell_type": "markdown",
   "metadata": {},
   "source": [
    "# Remove Duplicates (Reversal Transactions)"
   ]
  },
  {
   "cell_type": "code",
   "execution_count": 67,
   "metadata": {},
   "outputs": [],
   "source": [
    "credit_card_no_duplicate=card_data[~(card_data.transactionKey.isin(all_reversal.transactionKey))]"
   ]
  },
  {
   "cell_type": "code",
   "execution_count": 68,
   "metadata": {},
   "outputs": [
    {
     "data": {
      "text/plain": [
       "(731000, 6)"
      ]
     },
     "execution_count": 68,
     "metadata": {},
     "output_type": "execute_result"
    }
   ],
   "source": [
    "credit_card_no_duplicate.shape"
   ]
  },
  {
   "cell_type": "code",
   "execution_count": 69,
   "metadata": {},
   "outputs": [
    {
     "data": {
      "text/html": [
       "<div>\n",
       "<style scoped>\n",
       "    .dataframe tbody tr th:only-of-type {\n",
       "        vertical-align: middle;\n",
       "    }\n",
       "\n",
       "    .dataframe tbody tr th {\n",
       "        vertical-align: top;\n",
       "    }\n",
       "\n",
       "    .dataframe thead th {\n",
       "        text-align: right;\n",
       "    }\n",
       "</style>\n",
       "<table border=\"1\" class=\"dataframe\">\n",
       "  <thead>\n",
       "    <tr style=\"text-align: right;\">\n",
       "      <th></th>\n",
       "      <th>customerId</th>\n",
       "      <th>merchantName</th>\n",
       "      <th>transactionAmount</th>\n",
       "      <th>transactionType</th>\n",
       "      <th>transactionKey</th>\n",
       "      <th>Timestamp</th>\n",
       "    </tr>\n",
       "  </thead>\n",
       "  <tbody>\n",
       "    <tr>\n",
       "      <th>0</th>\n",
       "      <td>100088067</td>\n",
       "      <td>1st BBQ</td>\n",
       "      <td>200.12</td>\n",
       "      <td>PURCHASE</td>\n",
       "      <td>T541917</td>\n",
       "      <td>2016-04-08 19:56:36</td>\n",
       "    </tr>\n",
       "    <tr>\n",
       "      <th>1</th>\n",
       "      <td>100088067</td>\n",
       "      <td>1st Pub</td>\n",
       "      <td>95.11</td>\n",
       "      <td>PURCHASE</td>\n",
       "      <td>T541962</td>\n",
       "      <td>2016-11-09 07:26:06</td>\n",
       "    </tr>\n",
       "    <tr>\n",
       "      <th>2</th>\n",
       "      <td>100088067</td>\n",
       "      <td>1st Sandwitch Bar #758805</td>\n",
       "      <td>5.26</td>\n",
       "      <td>PURCHASE</td>\n",
       "      <td>T541920</td>\n",
       "      <td>2016-05-06 02:54:01</td>\n",
       "    </tr>\n",
       "  </tbody>\n",
       "</table>\n",
       "</div>"
      ],
      "text/plain": [
       "   customerId               merchantName  transactionAmount transactionType  \\\n",
       "0   100088067                    1st BBQ             200.12        PURCHASE   \n",
       "1   100088067                    1st Pub              95.11        PURCHASE   \n",
       "2   100088067  1st Sandwitch Bar #758805               5.26        PURCHASE   \n",
       "\n",
       "  transactionKey           Timestamp  \n",
       "0        T541917 2016-04-08 19:56:36  \n",
       "1        T541962 2016-11-09 07:26:06  \n",
       "2        T541920 2016-05-06 02:54:01  "
      ]
     },
     "execution_count": 69,
     "metadata": {},
     "output_type": "execute_result"
    }
   ],
   "source": [
    "credit_card_no_duplicate.head(3)"
   ]
  },
  {
   "cell_type": "markdown",
   "metadata": {},
   "source": [
    "---"
   ]
  },
  {
   "cell_type": "markdown",
   "metadata": {},
   "source": [
    "# Data Pre-processing | Case Study 2: Multiple Swipes Detection**"
   ]
  },
  {
   "cell_type": "markdown",
   "metadata": {},
   "source": [
    "**Question 3-part b: What total number of transactions and total dollar amount do you estimate for the multi-swipe transactions?**"
   ]
  },
  {
   "cell_type": "markdown",
   "metadata": {},
   "source": [
    "**I assume that multi-swipe transactions are consecutive in the data. My approach is that I took sub dataframes for each customer and merchant combination. Then, I sorted their transactions based on Timestamp and referenced their first transaction as the origin point at customer/merchant level**"
   ]
  },
  {
   "cell_type": "markdown",
   "metadata": {},
   "source": [
    "**After, I calculated how many seconds passed from previous transactions to specific transaction. When the elapsed time is less than 3 minutes and transaction amount is the same, I defined these transactions as multiple swipes.**"
   ]
  },
  {
   "cell_type": "code",
   "execution_count": 72,
   "metadata": {},
   "outputs": [
    {
     "data": {
      "text/html": [
       "<div>\n",
       "<style scoped>\n",
       "    .dataframe tbody tr th:only-of-type {\n",
       "        vertical-align: middle;\n",
       "    }\n",
       "\n",
       "    .dataframe tbody tr th {\n",
       "        vertical-align: top;\n",
       "    }\n",
       "\n",
       "    .dataframe thead th {\n",
       "        text-align: right;\n",
       "    }\n",
       "</style>\n",
       "<table border=\"1\" class=\"dataframe\">\n",
       "  <thead>\n",
       "    <tr style=\"text-align: right;\">\n",
       "      <th></th>\n",
       "      <th>customerId</th>\n",
       "      <th>merchantName</th>\n",
       "      <th>transactionAmount</th>\n",
       "      <th>transactionType</th>\n",
       "      <th>transactionKey</th>\n",
       "      <th>Timestamp</th>\n",
       "    </tr>\n",
       "  </thead>\n",
       "  <tbody>\n",
       "    <tr>\n",
       "      <th>0</th>\n",
       "      <td>100088067</td>\n",
       "      <td>1st BBQ</td>\n",
       "      <td>200.12</td>\n",
       "      <td>PURCHASE</td>\n",
       "      <td>T541917</td>\n",
       "      <td>2016-04-08 19:56:36</td>\n",
       "    </tr>\n",
       "    <tr>\n",
       "      <th>1</th>\n",
       "      <td>100088067</td>\n",
       "      <td>1st Pub</td>\n",
       "      <td>95.11</td>\n",
       "      <td>PURCHASE</td>\n",
       "      <td>T541962</td>\n",
       "      <td>2016-11-09 07:26:06</td>\n",
       "    </tr>\n",
       "    <tr>\n",
       "      <th>2</th>\n",
       "      <td>100088067</td>\n",
       "      <td>1st Sandwitch Bar #758805</td>\n",
       "      <td>5.26</td>\n",
       "      <td>PURCHASE</td>\n",
       "      <td>T541920</td>\n",
       "      <td>2016-05-06 02:54:01</td>\n",
       "    </tr>\n",
       "    <tr>\n",
       "      <th>3</th>\n",
       "      <td>100088067</td>\n",
       "      <td>34th BBQ #412895</td>\n",
       "      <td>141.60</td>\n",
       "      <td>PURCHASE</td>\n",
       "      <td>T541904</td>\n",
       "      <td>2016-02-03 04:48:54</td>\n",
       "    </tr>\n",
       "    <tr>\n",
       "      <th>4</th>\n",
       "      <td>100088067</td>\n",
       "      <td>AMC #191138</td>\n",
       "      <td>304.15</td>\n",
       "      <td>PURCHASE</td>\n",
       "      <td>T541925</td>\n",
       "      <td>2016-06-03 18:50:55</td>\n",
       "    </tr>\n",
       "  </tbody>\n",
       "</table>\n",
       "</div>"
      ],
      "text/plain": [
       "   customerId               merchantName  transactionAmount transactionType  \\\n",
       "0   100088067                    1st BBQ             200.12        PURCHASE   \n",
       "1   100088067                    1st Pub              95.11        PURCHASE   \n",
       "2   100088067  1st Sandwitch Bar #758805               5.26        PURCHASE   \n",
       "3   100088067           34th BBQ #412895             141.60        PURCHASE   \n",
       "4   100088067                AMC #191138             304.15        PURCHASE   \n",
       "\n",
       "  transactionKey           Timestamp  \n",
       "0        T541917 2016-04-08 19:56:36  \n",
       "1        T541962 2016-11-09 07:26:06  \n",
       "2        T541920 2016-05-06 02:54:01  \n",
       "3        T541904 2016-02-03 04:48:54  \n",
       "4        T541925 2016-06-03 18:50:55  "
      ]
     },
     "execution_count": 72,
     "metadata": {},
     "output_type": "execute_result"
    }
   ],
   "source": [
    "transactions_mlt=credit_card_no_duplicate\n",
    "transactions_mlt.head()"
   ]
  },
  {
   "cell_type": "code",
   "execution_count": 73,
   "metadata": {},
   "outputs": [],
   "source": [
    "warnings.filterwarnings(\"ignore\")\n",
    "\n",
    "df_dataz={}\n",
    "CustomerList=transactions_mlt.customerId.unique()\n",
    "for i in CustomerList:\n",
    "    sample_mlt=transactions_mlt[transactions_mlt.customerId==i]\n",
    "    for j in sample_mlt.merchantName.unique():\n",
    "        if cust_length[(cust_length.customerId==i) & (cust_length.merchantName==j)]['Count'].values>1:\n",
    "            sample_merchant=sample_mlt[sample_mlt.merchantName==j]\n",
    "            sample_merchant=sample_merchant.reset_index(drop=True)\n",
    "            sample_merchant=sample_merchant.sort_values(by='Timestamp',ascending=True)\n",
    "    \n",
    "            TimeSeconds=[]\n",
    "            for i in range(1,len(sample_merchant)):\n",
    "                Seconds=(sample_merchant['Timestamp'][i]-sample_merchant['Timestamp'][0]).total_seconds()\n",
    "                TimeSeconds.append(Seconds)\n",
    "            TimeSeconds.insert(0,0)\n",
    "    \n",
    "            sample_merchant['Seconds']=TimeSeconds\n",
    "            sample_merchant['SecondsDiff']=sample_merchant['Seconds'].diff()\n",
    "            sample_merchant['SecondsDiff'].iloc[0]=sample_merchant['SecondsDiff'].max()\n",
    "    \n",
    "            sample_merchant['AmountDiff']=sample_merchant['transactionAmount'].diff()\n",
    "            sample_merchant['AmountDiff'].iloc[0]=sample_merchant['AmountDiff'].max()\n",
    "    \n",
    "            sample_merchant['MultiSwipes']=sample_merchant[['SecondsDiff','AmountDiff']].apply(lambda x: True if (x[0]<180 and x[1]==0) else False,axis=1)\n",
    "            df_dataz[i,j]=sample_merchant"
   ]
  },
  {
   "cell_type": "code",
   "execution_count": 74,
   "metadata": {},
   "outputs": [
    {
     "data": {
      "text/html": [
       "<div>\n",
       "<style scoped>\n",
       "    .dataframe tbody tr th:only-of-type {\n",
       "        vertical-align: middle;\n",
       "    }\n",
       "\n",
       "    .dataframe tbody tr th {\n",
       "        vertical-align: top;\n",
       "    }\n",
       "\n",
       "    .dataframe thead th {\n",
       "        text-align: right;\n",
       "    }\n",
       "</style>\n",
       "<table border=\"1\" class=\"dataframe\">\n",
       "  <thead>\n",
       "    <tr style=\"text-align: right;\">\n",
       "      <th></th>\n",
       "      <th>customerId</th>\n",
       "      <th>merchantName</th>\n",
       "      <th>transactionAmount</th>\n",
       "      <th>transactionType</th>\n",
       "      <th>transactionKey</th>\n",
       "      <th>Timestamp</th>\n",
       "      <th>Seconds</th>\n",
       "      <th>SecondsDiff</th>\n",
       "      <th>AmountDiff</th>\n",
       "      <th>MultiSwipes</th>\n",
       "    </tr>\n",
       "  </thead>\n",
       "  <tbody>\n",
       "    <tr>\n",
       "      <th>0</th>\n",
       "      <td>999086814</td>\n",
       "      <td>AMC #552863</td>\n",
       "      <td>672.69</td>\n",
       "      <td>PURCHASE</td>\n",
       "      <td>T388392</td>\n",
       "      <td>2016-01-16 07:46:07</td>\n",
       "      <td>0.0</td>\n",
       "      <td>21069985.0</td>\n",
       "      <td>-569.44</td>\n",
       "      <td>False</td>\n",
       "    </tr>\n",
       "    <tr>\n",
       "      <th>1</th>\n",
       "      <td>999086814</td>\n",
       "      <td>AMC #552863</td>\n",
       "      <td>103.25</td>\n",
       "      <td>PURCHASE</td>\n",
       "      <td>T388833</td>\n",
       "      <td>2016-09-16 04:32:32</td>\n",
       "      <td>21069985.0</td>\n",
       "      <td>21069985.0</td>\n",
       "      <td>-569.44</td>\n",
       "      <td>False</td>\n",
       "    </tr>\n",
       "    <tr>\n",
       "      <th>2</th>\n",
       "      <td>100108752</td>\n",
       "      <td>Shell Gas #494785</td>\n",
       "      <td>45.35</td>\n",
       "      <td>PURCHASE</td>\n",
       "      <td>T225227</td>\n",
       "      <td>2016-05-07 21:37:09</td>\n",
       "      <td>0.0</td>\n",
       "      <td>1271994.0</td>\n",
       "      <td>12.96</td>\n",
       "      <td>False</td>\n",
       "    </tr>\n",
       "    <tr>\n",
       "      <th>3</th>\n",
       "      <td>100108752</td>\n",
       "      <td>Shell Gas #494785</td>\n",
       "      <td>44.21</td>\n",
       "      <td>PURCHASE</td>\n",
       "      <td>T225228</td>\n",
       "      <td>2016-05-22 01:29:56</td>\n",
       "      <td>1223567.0</td>\n",
       "      <td>1223567.0</td>\n",
       "      <td>-1.14</td>\n",
       "      <td>False</td>\n",
       "    </tr>\n",
       "    <tr>\n",
       "      <th>4</th>\n",
       "      <td>100108752</td>\n",
       "      <td>Shell Gas #494785</td>\n",
       "      <td>45.35</td>\n",
       "      <td>PURCHASE</td>\n",
       "      <td>T225229</td>\n",
       "      <td>2016-06-05 03:44:36</td>\n",
       "      <td>2441247.0</td>\n",
       "      <td>1217680.0</td>\n",
       "      <td>1.14</td>\n",
       "      <td>False</td>\n",
       "    </tr>\n",
       "  </tbody>\n",
       "</table>\n",
       "</div>"
      ],
      "text/plain": [
       "   customerId       merchantName  transactionAmount transactionType  \\\n",
       "0   999086814        AMC #552863             672.69        PURCHASE   \n",
       "1   999086814        AMC #552863             103.25        PURCHASE   \n",
       "2   100108752  Shell Gas #494785              45.35        PURCHASE   \n",
       "3   100108752  Shell Gas #494785              44.21        PURCHASE   \n",
       "4   100108752  Shell Gas #494785              45.35        PURCHASE   \n",
       "\n",
       "  transactionKey           Timestamp     Seconds  SecondsDiff  AmountDiff  \\\n",
       "0        T388392 2016-01-16 07:46:07         0.0   21069985.0     -569.44   \n",
       "1        T388833 2016-09-16 04:32:32  21069985.0   21069985.0     -569.44   \n",
       "2        T225227 2016-05-07 21:37:09         0.0    1271994.0       12.96   \n",
       "3        T225228 2016-05-22 01:29:56   1223567.0    1223567.0       -1.14   \n",
       "4        T225229 2016-06-05 03:44:36   2441247.0    1217680.0        1.14   \n",
       "\n",
       "   MultiSwipes  \n",
       "0        False  \n",
       "1        False  \n",
       "2        False  \n",
       "3        False  \n",
       "4        False  "
      ]
     },
     "execution_count": 74,
     "metadata": {},
     "output_type": "execute_result"
    }
   ],
   "source": [
    "nrow=len(df_dataz.keys())\n",
    "df_upd_data=pd.DataFrame()\n",
    "for i in range(nrow):\n",
    "    df_inter=df_dataz[[*df_dataz.keys()][i]]\n",
    "    df_upd_data=df_upd_data.append(df_inter)\n",
    "df_upd_data=df_upd_data.reset_index(drop=True)\n",
    "df_upd_data.head()"
   ]
  },
  {
   "cell_type": "code",
   "execution_count": 75,
   "metadata": {},
   "outputs": [],
   "source": [
    "swipes=df_upd_data[df_upd_data.MultiSwipes==True]"
   ]
  },
  {
   "cell_type": "markdown",
   "metadata": {},
   "source": [
    "**Final 1:Total number of multi-swipe transactions is 254.**"
   ]
  },
  {
   "cell_type": "code",
   "execution_count": 76,
   "metadata": {},
   "outputs": [
    {
     "data": {
      "text/plain": [
       "254"
      ]
     },
     "execution_count": 76,
     "metadata": {},
     "output_type": "execute_result"
    }
   ],
   "source": [
    "swipes.transactionAmount.count()"
   ]
  },
  {
   "cell_type": "markdown",
   "metadata": {},
   "source": [
    "**Final 2:Total dollar value of multi-swipe transactions is $38,261.**"
   ]
  },
  {
   "cell_type": "code",
   "execution_count": 77,
   "metadata": {},
   "outputs": [
    {
     "data": {
      "text/plain": [
       "38261.68"
      ]
     },
     "execution_count": 77,
     "metadata": {},
     "output_type": "execute_result"
    }
   ],
   "source": [
    "swipes.transactionAmount.sum()"
   ]
  },
  {
   "cell_type": "markdown",
   "metadata": {},
   "source": [
    "------"
   ]
  },
  {
   "cell_type": "markdown",
   "metadata": {},
   "source": [
    "# Remove Duplicates (Multiple Swipes)"
   ]
  },
  {
   "cell_type": "markdown",
   "metadata": {},
   "source": [
    "**I captured 254 multi-swipes in the original data and removed it.**"
   ]
  },
  {
   "cell_type": "code",
   "execution_count": 78,
   "metadata": {},
   "outputs": [],
   "source": [
    "processed_data=credit_card_no_duplicate[~(credit_card_no_duplicate.transactionKey.isin(swipes.transactionKey))]\n",
    "processed_data=processed_data[~(processed_data.transactionType=='REVERSAL')]"
   ]
  },
  {
   "cell_type": "code",
   "execution_count": 79,
   "metadata": {},
   "outputs": [
    {
     "data": {
      "text/plain": [
       "(730746, 6)"
      ]
     },
     "execution_count": 79,
     "metadata": {},
     "output_type": "execute_result"
    }
   ],
   "source": [
    "processed_data.shape"
   ]
  },
  {
   "cell_type": "code",
   "execution_count": 80,
   "metadata": {},
   "outputs": [
    {
     "data": {
      "text/html": [
       "<div>\n",
       "<style scoped>\n",
       "    .dataframe tbody tr th:only-of-type {\n",
       "        vertical-align: middle;\n",
       "    }\n",
       "\n",
       "    .dataframe tbody tr th {\n",
       "        vertical-align: top;\n",
       "    }\n",
       "\n",
       "    .dataframe thead th {\n",
       "        text-align: right;\n",
       "    }\n",
       "</style>\n",
       "<table border=\"1\" class=\"dataframe\">\n",
       "  <thead>\n",
       "    <tr style=\"text-align: right;\">\n",
       "      <th></th>\n",
       "      <th>customerId</th>\n",
       "      <th>merchantName</th>\n",
       "      <th>transactionAmount</th>\n",
       "      <th>transactionType</th>\n",
       "      <th>transactionKey</th>\n",
       "      <th>Timestamp</th>\n",
       "    </tr>\n",
       "  </thead>\n",
       "  <tbody>\n",
       "    <tr>\n",
       "      <th>0</th>\n",
       "      <td>100088067</td>\n",
       "      <td>1st BBQ</td>\n",
       "      <td>200.12</td>\n",
       "      <td>PURCHASE</td>\n",
       "      <td>T541917</td>\n",
       "      <td>2016-04-08 19:56:36</td>\n",
       "    </tr>\n",
       "    <tr>\n",
       "      <th>1</th>\n",
       "      <td>100088067</td>\n",
       "      <td>1st Pub</td>\n",
       "      <td>95.11</td>\n",
       "      <td>PURCHASE</td>\n",
       "      <td>T541962</td>\n",
       "      <td>2016-11-09 07:26:06</td>\n",
       "    </tr>\n",
       "    <tr>\n",
       "      <th>2</th>\n",
       "      <td>100088067</td>\n",
       "      <td>1st Sandwitch Bar #758805</td>\n",
       "      <td>5.26</td>\n",
       "      <td>PURCHASE</td>\n",
       "      <td>T541920</td>\n",
       "      <td>2016-05-06 02:54:01</td>\n",
       "    </tr>\n",
       "  </tbody>\n",
       "</table>\n",
       "</div>"
      ],
      "text/plain": [
       "   customerId               merchantName  transactionAmount transactionType  \\\n",
       "0   100088067                    1st BBQ             200.12        PURCHASE   \n",
       "1   100088067                    1st Pub              95.11        PURCHASE   \n",
       "2   100088067  1st Sandwitch Bar #758805               5.26        PURCHASE   \n",
       "\n",
       "  transactionKey           Timestamp  \n",
       "0        T541917 2016-04-08 19:56:36  \n",
       "1        T541962 2016-11-09 07:26:06  \n",
       "2        T541920 2016-05-06 02:54:01  "
      ]
     },
     "execution_count": 80,
     "metadata": {},
     "output_type": "execute_result"
    }
   ],
   "source": [
    "processed_data.head(3)"
   ]
  },
  {
   "cell_type": "markdown",
   "metadata": {},
   "source": [
    "------"
   ]
  },
  {
   "cell_type": "markdown",
   "metadata": {},
   "source": [
    "# Save the processed data"
   ]
  },
  {
   "cell_type": "markdown",
   "metadata": {},
   "source": [
    "**I finalized the data processing step and saved the clean data as '.csv' format to not run all processing code again.**"
   ]
  },
  {
   "cell_type": "code",
   "execution_count": 85,
   "metadata": {},
   "outputs": [
    {
     "data": {
      "text/html": [
       "<div>\n",
       "<style scoped>\n",
       "    .dataframe tbody tr th:only-of-type {\n",
       "        vertical-align: middle;\n",
       "    }\n",
       "\n",
       "    .dataframe tbody tr th {\n",
       "        vertical-align: top;\n",
       "    }\n",
       "\n",
       "    .dataframe thead th {\n",
       "        text-align: right;\n",
       "    }\n",
       "</style>\n",
       "<table border=\"1\" class=\"dataframe\">\n",
       "  <thead>\n",
       "    <tr style=\"text-align: right;\">\n",
       "      <th></th>\n",
       "      <th>customerId_x</th>\n",
       "      <th>merchantName_x</th>\n",
       "      <th>transactionAmount_x</th>\n",
       "      <th>transactionType_x</th>\n",
       "      <th>transactionKey</th>\n",
       "      <th>Timestamp</th>\n",
       "      <th>accountNumber</th>\n",
       "      <th>customerId_y</th>\n",
       "      <th>creditLimit</th>\n",
       "      <th>availableMoney</th>\n",
       "      <th>transactionDateTime</th>\n",
       "      <th>transactionAmount_y</th>\n",
       "      <th>merchantName_y</th>\n",
       "      <th>acqCountry</th>\n",
       "      <th>merchantCountryCode</th>\n",
       "      <th>posEntryMode</th>\n",
       "      <th>posConditionCode</th>\n",
       "      <th>merchantCategoryCode</th>\n",
       "      <th>currentExpDate</th>\n",
       "      <th>accountOpenDate</th>\n",
       "      <th>dateOfLastAddressChange</th>\n",
       "      <th>cardCVV</th>\n",
       "      <th>enteredCVV</th>\n",
       "      <th>cardLast4Digits</th>\n",
       "      <th>transactionType_y</th>\n",
       "      <th>currentBalance</th>\n",
       "      <th>cardPresent</th>\n",
       "      <th>expirationDateKeyInMatch</th>\n",
       "      <th>isFraud</th>\n",
       "      <th>Date</th>\n",
       "    </tr>\n",
       "  </thead>\n",
       "  <tbody>\n",
       "    <tr>\n",
       "      <th>0</th>\n",
       "      <td>100088067</td>\n",
       "      <td>1st BBQ</td>\n",
       "      <td>200.12</td>\n",
       "      <td>PURCHASE</td>\n",
       "      <td>T541917</td>\n",
       "      <td>2016-04-08 19:56:36</td>\n",
       "      <td>100088067</td>\n",
       "      <td>100088067</td>\n",
       "      <td>50000</td>\n",
       "      <td>49953.81</td>\n",
       "      <td>2016-04-08T19:56:36</td>\n",
       "      <td>200.12</td>\n",
       "      <td>1st BBQ</td>\n",
       "      <td>US</td>\n",
       "      <td>US</td>\n",
       "      <td>9.0</td>\n",
       "      <td>1.0</td>\n",
       "      <td>food</td>\n",
       "      <td>07/2029</td>\n",
       "      <td>2014-01-09</td>\n",
       "      <td>2014-01-09</td>\n",
       "      <td>546</td>\n",
       "      <td>546</td>\n",
       "      <td>4615</td>\n",
       "      <td>PURCHASE</td>\n",
       "      <td>46.19</td>\n",
       "      <td>True</td>\n",
       "      <td>False</td>\n",
       "      <td>False</td>\n",
       "      <td>2016-04-08</td>\n",
       "    </tr>\n",
       "    <tr>\n",
       "      <th>1</th>\n",
       "      <td>100088067</td>\n",
       "      <td>1st Pub</td>\n",
       "      <td>95.11</td>\n",
       "      <td>PURCHASE</td>\n",
       "      <td>T541962</td>\n",
       "      <td>2016-11-09 07:26:06</td>\n",
       "      <td>100088067</td>\n",
       "      <td>100088067</td>\n",
       "      <td>50000</td>\n",
       "      <td>49929.31</td>\n",
       "      <td>2016-11-09T07:26:06</td>\n",
       "      <td>95.11</td>\n",
       "      <td>1st Pub</td>\n",
       "      <td>US</td>\n",
       "      <td>US</td>\n",
       "      <td>2.0</td>\n",
       "      <td>1.0</td>\n",
       "      <td>food</td>\n",
       "      <td>04/2021</td>\n",
       "      <td>2014-01-09</td>\n",
       "      <td>2014-01-09</td>\n",
       "      <td>402</td>\n",
       "      <td>402</td>\n",
       "      <td>2077</td>\n",
       "      <td>PURCHASE</td>\n",
       "      <td>70.69</td>\n",
       "      <td>True</td>\n",
       "      <td>False</td>\n",
       "      <td>False</td>\n",
       "      <td>2016-11-09</td>\n",
       "    </tr>\n",
       "    <tr>\n",
       "      <th>2</th>\n",
       "      <td>100088067</td>\n",
       "      <td>1st Sandwitch Bar #758805</td>\n",
       "      <td>5.26</td>\n",
       "      <td>PURCHASE</td>\n",
       "      <td>T541920</td>\n",
       "      <td>2016-05-06 02:54:01</td>\n",
       "      <td>100088067</td>\n",
       "      <td>100088067</td>\n",
       "      <td>50000</td>\n",
       "      <td>49996.04</td>\n",
       "      <td>2016-05-06T02:54:01</td>\n",
       "      <td>5.26</td>\n",
       "      <td>1st Sandwitch Bar #758805</td>\n",
       "      <td>US</td>\n",
       "      <td>US</td>\n",
       "      <td>2.0</td>\n",
       "      <td>1.0</td>\n",
       "      <td>food</td>\n",
       "      <td>07/2033</td>\n",
       "      <td>2014-01-09</td>\n",
       "      <td>2014-01-09</td>\n",
       "      <td>546</td>\n",
       "      <td>546</td>\n",
       "      <td>4615</td>\n",
       "      <td>PURCHASE</td>\n",
       "      <td>3.96</td>\n",
       "      <td>True</td>\n",
       "      <td>False</td>\n",
       "      <td>False</td>\n",
       "      <td>2016-05-06</td>\n",
       "    </tr>\n",
       "  </tbody>\n",
       "</table>\n",
       "</div>"
      ],
      "text/plain": [
       "   customerId_x             merchantName_x  transactionAmount_x  \\\n",
       "0     100088067                    1st BBQ               200.12   \n",
       "1     100088067                    1st Pub                95.11   \n",
       "2     100088067  1st Sandwitch Bar #758805                 5.26   \n",
       "\n",
       "  transactionType_x transactionKey           Timestamp  accountNumber  \\\n",
       "0          PURCHASE        T541917 2016-04-08 19:56:36      100088067   \n",
       "1          PURCHASE        T541962 2016-11-09 07:26:06      100088067   \n",
       "2          PURCHASE        T541920 2016-05-06 02:54:01      100088067   \n",
       "\n",
       "   customerId_y  creditLimit  availableMoney  transactionDateTime  \\\n",
       "0     100088067        50000        49953.81  2016-04-08T19:56:36   \n",
       "1     100088067        50000        49929.31  2016-11-09T07:26:06   \n",
       "2     100088067        50000        49996.04  2016-05-06T02:54:01   \n",
       "\n",
       "   transactionAmount_y             merchantName_y acqCountry  \\\n",
       "0               200.12                    1st BBQ         US   \n",
       "1                95.11                    1st Pub         US   \n",
       "2                 5.26  1st Sandwitch Bar #758805         US   \n",
       "\n",
       "  merchantCountryCode  posEntryMode  posConditionCode merchantCategoryCode  \\\n",
       "0                  US           9.0               1.0                 food   \n",
       "1                  US           2.0               1.0                 food   \n",
       "2                  US           2.0               1.0                 food   \n",
       "\n",
       "  currentExpDate accountOpenDate dateOfLastAddressChange  cardCVV  enteredCVV  \\\n",
       "0        07/2029      2014-01-09              2014-01-09      546         546   \n",
       "1        04/2021      2014-01-09              2014-01-09      402         402   \n",
       "2        07/2033      2014-01-09              2014-01-09      546         546   \n",
       "\n",
       "   cardLast4Digits transactionType_y  currentBalance  cardPresent  \\\n",
       "0             4615          PURCHASE           46.19         True   \n",
       "1             2077          PURCHASE           70.69         True   \n",
       "2             4615          PURCHASE            3.96         True   \n",
       "\n",
       "   expirationDateKeyInMatch  isFraud        Date  \n",
       "0                     False    False  2016-04-08  \n",
       "1                     False    False  2016-11-09  \n",
       "2                     False    False  2016-05-06  "
      ]
     },
     "execution_count": 85,
     "metadata": {},
     "output_type": "execute_result"
    }
   ],
   "source": [
    "processed=processed_data.merge(transactions,on='transactionKey',how='left')\n",
    "processed.head(3)"
   ]
  },
  {
   "cell_type": "code",
   "execution_count": 109,
   "metadata": {},
   "outputs": [
    {
     "data": {
      "text/plain": [
       "<matplotlib.axes._subplots.AxesSubplot at 0x1a77c3bd50>"
      ]
     },
     "execution_count": 109,
     "metadata": {},
     "output_type": "execute_result"
    },
    {
     "data": {
      "image/png": "[encoded data removed]",
      "text/plain": [
       "<Figure size 1008x360 with 1 Axes>"
      ]
     },
     "metadata": {},
     "output_type": "display_data"
    }
   ],
   "source": [
    "plt.figure(figsize=(14,5))\n",
    "plt.title('Distribution of Transaction Amounts (Fraud vs Non-Fraud)',weight='bold')\n",
    "sns.set()\n",
    "sns.boxplot(x='isFraud', y='transactionAmount_x', data=processed)"
   ]
  },
  {
   "cell_type": "code",
   "execution_count": 98,
   "metadata": {},
   "outputs": [
    {
     "data": {
      "text/plain": [
       "(730174, 30)"
      ]
     },
     "execution_count": 98,
     "metadata": {},
     "output_type": "execute_result"
    }
   ],
   "source": [
    "processed.shape"
   ]
  },
  {
   "cell_type": "code",
   "execution_count": 89,
   "metadata": {},
   "outputs": [],
   "source": [
    "final_data=processed[['customerId_x','merchantName_x','transactionAmount_x','transactionType_x','transactionKey','Timestamp','creditLimit','availableMoney','merchantCountryCode','posEntryMode','posConditionCode','merchantCategoryCode','currentBalance','cardPresent','expirationDateKeyInMatch','isFraud']]"
   ]
  },
  {
   "cell_type": "code",
   "execution_count": 91,
   "metadata": {},
   "outputs": [],
   "source": [
    "final_data.columns=['customerId','merchantName','transactionAmount','transactionType','transactionKey','Timestamp','creditLimit','availableMoney','merchantCountryCode','posEntryMode','posConditionCode','merchantCategoryCode','currentBalance','cardPresent','expirationDateKeyInMatch','isFraud']"
   ]
  },
  {
   "cell_type": "code",
   "execution_count": 93,
   "metadata": {},
   "outputs": [],
   "source": [
    "final_data.to_csv('clean_data.csv',index=False)"
   ]
  },
  {
   "cell_type": "code",
   "execution_count": 94,
   "metadata": {},
   "outputs": [],
   "source": [
    "#q=pd.read_csv('./clean_data.csv')\n",
    "#q.shape"
   ]
  },
  {
   "cell_type": "code",
   "execution_count": 102,
   "metadata": {},
   "outputs": [
    {
     "data": {
      "text/html": [
       "<div>\n",
       "<style scoped>\n",
       "    .dataframe tbody tr th:only-of-type {\n",
       "        vertical-align: middle;\n",
       "    }\n",
       "\n",
       "    .dataframe tbody tr th {\n",
       "        vertical-align: top;\n",
       "    }\n",
       "\n",
       "    .dataframe thead th {\n",
       "        text-align: right;\n",
       "    }\n",
       "</style>\n",
       "<table border=\"1\" class=\"dataframe\">\n",
       "  <thead>\n",
       "    <tr style=\"text-align: right;\">\n",
       "      <th></th>\n",
       "      <th>customerId</th>\n",
       "      <th>merchantName</th>\n",
       "      <th>transactionAmount</th>\n",
       "      <th>transactionType</th>\n",
       "      <th>transactionKey</th>\n",
       "      <th>Timestamp</th>\n",
       "      <th>creditLimit</th>\n",
       "      <th>availableMoney</th>\n",
       "      <th>merchantCountryCode</th>\n",
       "      <th>posEntryMode</th>\n",
       "      <th>posConditionCode</th>\n",
       "      <th>merchantCategoryCode</th>\n",
       "      <th>currentBalance</th>\n",
       "      <th>cardPresent</th>\n",
       "      <th>expirationDateKeyInMatch</th>\n",
       "      <th>isFraud</th>\n",
       "    </tr>\n",
       "  </thead>\n",
       "  <tbody>\n",
       "    <tr>\n",
       "      <th>0</th>\n",
       "      <td>100088067</td>\n",
       "      <td>1st BBQ</td>\n",
       "      <td>200.12</td>\n",
       "      <td>PURCHASE</td>\n",
       "      <td>T541917</td>\n",
       "      <td>2016-04-08 19:56:36</td>\n",
       "      <td>50000</td>\n",
       "      <td>49953.81</td>\n",
       "      <td>US</td>\n",
       "      <td>9.0</td>\n",
       "      <td>1.0</td>\n",
       "      <td>food</td>\n",
       "      <td>46.19</td>\n",
       "      <td>True</td>\n",
       "      <td>False</td>\n",
       "      <td>False</td>\n",
       "    </tr>\n",
       "    <tr>\n",
       "      <th>1</th>\n",
       "      <td>100088067</td>\n",
       "      <td>1st Pub</td>\n",
       "      <td>95.11</td>\n",
       "      <td>PURCHASE</td>\n",
       "      <td>T541962</td>\n",
       "      <td>2016-11-09 07:26:06</td>\n",
       "      <td>50000</td>\n",
       "      <td>49929.31</td>\n",
       "      <td>US</td>\n",
       "      <td>2.0</td>\n",
       "      <td>1.0</td>\n",
       "      <td>food</td>\n",
       "      <td>70.69</td>\n",
       "      <td>True</td>\n",
       "      <td>False</td>\n",
       "      <td>False</td>\n",
       "    </tr>\n",
       "    <tr>\n",
       "      <th>2</th>\n",
       "      <td>100088067</td>\n",
       "      <td>1st Sandwitch Bar #758805</td>\n",
       "      <td>5.26</td>\n",
       "      <td>PURCHASE</td>\n",
       "      <td>T541920</td>\n",
       "      <td>2016-05-06 02:54:01</td>\n",
       "      <td>50000</td>\n",
       "      <td>49996.04</td>\n",
       "      <td>US</td>\n",
       "      <td>2.0</td>\n",
       "      <td>1.0</td>\n",
       "      <td>food</td>\n",
       "      <td>3.96</td>\n",
       "      <td>True</td>\n",
       "      <td>False</td>\n",
       "      <td>False</td>\n",
       "    </tr>\n",
       "  </tbody>\n",
       "</table>\n",
       "</div>"
      ],
      "text/plain": [
       "   customerId               merchantName  transactionAmount transactionType  \\\n",
       "0   100088067                    1st BBQ             200.12        PURCHASE   \n",
       "1   100088067                    1st Pub              95.11        PURCHASE   \n",
       "2   100088067  1st Sandwitch Bar #758805               5.26        PURCHASE   \n",
       "\n",
       "  transactionKey           Timestamp  creditLimit  availableMoney  \\\n",
       "0        T541917 2016-04-08 19:56:36        50000        49953.81   \n",
       "1        T541962 2016-11-09 07:26:06        50000        49929.31   \n",
       "2        T541920 2016-05-06 02:54:01        50000        49996.04   \n",
       "\n",
       "  merchantCountryCode  posEntryMode  posConditionCode merchantCategoryCode  \\\n",
       "0                  US           9.0               1.0                 food   \n",
       "1                  US           2.0               1.0                 food   \n",
       "2                  US           2.0               1.0                 food   \n",
       "\n",
       "   currentBalance  cardPresent  expirationDateKeyInMatch  isFraud  \n",
       "0           46.19         True                     False    False  \n",
       "1           70.69         True                     False    False  \n",
       "2            3.96         True                     False    False  "
      ]
     },
     "execution_count": 102,
     "metadata": {},
     "output_type": "execute_result"
    }
   ],
   "source": [
    "final_data.head(3)"
   ]
  },
  {
   "cell_type": "markdown",
   "metadata": {},
   "source": [
    "**I found 56189 observations as duplicates (combination of both reversal and multi-swipes) that corresponds to 7.07% of original data.**"
   ]
  },
  {
   "cell_type": "code",
   "execution_count": 96,
   "metadata": {},
   "outputs": [
    {
     "data": {
      "text/plain": [
       "56189"
      ]
     },
     "execution_count": 96,
     "metadata": {},
     "output_type": "execute_result"
    }
   ],
   "source": [
    "786363 - 730174"
   ]
  },
  {
   "cell_type": "code",
   "execution_count": 97,
   "metadata": {},
   "outputs": [
    {
     "data": {
      "text/plain": [
       "0.07"
      ]
     },
     "execution_count": 97,
     "metadata": {},
     "output_type": "execute_result"
    }
   ],
   "source": [
    "round(56189/786363,2)"
   ]
  },
  {
   "cell_type": "markdown",
   "metadata": {},
   "source": [
    "-------"
   ]
  }
 ],
 "metadata": {
  "kernelspec": {
   "display_name": "Python 3",
   "language": "python",
   "name": "python3"
  },
  "language_info": {
   "codemirror_mode": {
    "name": "ipython",
    "version": 3
   },
   "file_extension": ".py",
   "mimetype": "text/x-python",
   "name": "python",
   "nbconvert_exporter": "python",
   "pygments_lexer": "ipython3",
   "version": "3.7.6"
  }
 },
 "nbformat": 4,
 "nbformat_minor": 4
}
